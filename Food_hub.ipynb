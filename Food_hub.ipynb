{
  "cells": [
    {
      "cell_type": "markdown",
      "id": "0725bf03-95b3-4cb7-adf7-c3fcffe17db3",
      "metadata": {
        "id": "0725bf03-95b3-4cb7-adf7-c3fcffe17db3"
      },
      "source": [
        "\n",
        "## Problem Statement:\n",
        "FoodHub Data Analysis and Prediction\n",
        "## Business Context:\n",
        "The number of restaurants in New York is increasing day by day. Lots of students and busy professionals rely on those restaurants due to their hectic lifestyles. Online food delivery service is a great option for them. It provides them with good food from their favorite restaurants. A food aggregator company FoodHub offers access to multiple restaurants through a single smartphone app.\n",
        "\n",
        "The app allows the restaurants to receive a direct online order from a customer. The app assigns a delivery person from the company to pick up the order after it is confirmed by the restaurant. The delivery person then uses the map to reach the restaurant and waits for the food package. Once the food package is handed over to the delivery person, he/she confirms the pick-up in the app and travels to the customer's location to deliver the food. The delivery person confirms the drop-off in the app after delivering the food package to the customer. The customer can rate the order in the app. The food aggregator earns money by collecting a fixed margin of the delivery order from the restaurants.\n",
        "## Project Objective:\n",
        "The food aggregator company has stored the data of the different orders made by the registered customers in their online portal. They want to analyze the data to get a fair idea about the demand of different restaurants which will help them in enhancing their customer experience.\n",
        "\n",
        "1. Exploratory Data Analysis (EDA):\n",
        "\n",
        "2. Classification Task (Binary Classification):\n",
        "\n",
        "3. Regression Task (Predictive Modeling):\n",
        "\n",
        "4. Model Evaluation:\n",
        "\n",
        "5. Model Deployment:\n"
      ]
    },
    {
      "cell_type": "markdown",
      "id": "31b91a4f-8d6b-4949-9d7c-971c17ccb3a5",
      "metadata": {
        "id": "31b91a4f-8d6b-4949-9d7c-971c17ccb3a5"
      },
      "source": [
        "#### Importing the necessary libraries"
      ]
    },
    {
      "cell_type": "code",
      "execution_count": null,
      "id": "b7a5be9e-1ff9-4e5d-ac6e-4ad3378c1af1",
      "metadata": {
        "id": "b7a5be9e-1ff9-4e5d-ac6e-4ad3378c1af1"
      },
      "outputs": [],
      "source": [
        "import numpy as np\n",
        "import pandas as pd\n",
        "import seaborn as sns\n",
        "import matplotlib.pyplot as plt\n"
      ]
    },
    {
      "cell_type": "markdown",
      "id": "0df47f28-33bd-4d55-ab3c-9eeddc6bb1c1",
      "metadata": {
        "id": "0df47f28-33bd-4d55-ab3c-9eeddc6bb1c1"
      },
      "source": [
        "#### Loading the dataset"
      ]
    },
    {
      "cell_type": "code",
      "execution_count": null,
      "id": "4854717a-9089-46ed-8623-21cd5aa82da0",
      "metadata": {
        "id": "4854717a-9089-46ed-8623-21cd5aa82da0"
      },
      "outputs": [],
      "source": [
        "df = pd.read_csv('/content/2-foodhub_order_New.csv')"
      ]
    },
    {
      "cell_type": "markdown",
      "id": "5d34749d-296c-46aa-9e14-8a580ecbfed3",
      "metadata": {
        "id": "5d34749d-296c-46aa-9e14-8a580ecbfed3"
      },
      "source": [
        "## 1- Basic Exploration of data\n",
        "* 1.1 Checking the top 5 rows\n",
        "* 1.2 Checking the shape of dataset\n",
        "* 1.3 Checking the info of dataset\n",
        "* 1.4 Checking the Statistical summary"
      ]
    },
    {
      "cell_type": "markdown",
      "id": "57ada6d8-89ca-4247-ac01-746885a7f3df",
      "metadata": {
        "id": "57ada6d8-89ca-4247-ac01-746885a7f3df"
      },
      "source": [
        "#### 1.1 Checking the top 5 rows"
      ]
    },
    {
      "cell_type": "code",
      "execution_count": null,
      "id": "f7931527-2e38-4011-bda0-50dc9b02ee49",
      "metadata": {
        "id": "f7931527-2e38-4011-bda0-50dc9b02ee49"
      },
      "outputs": [],
      "source": [
        "df.head()"
      ]
    },
    {
      "cell_type": "markdown",
      "id": "de72de4d-5676-45a4-b6df-667b3fccbfd6",
      "metadata": {
        "id": "de72de4d-5676-45a4-b6df-667b3fccbfd6"
      },
      "source": [
        "###### Observations:\n",
        "1. There are some values in rating which are required to be given.\n",
        "2. In the feature delivery_time, we are having wrong entries like \"?\"."
      ]
    },
    {
      "cell_type": "markdown",
      "id": "36b49c81-a0a4-4bf9-bf77-a2f4793315b3",
      "metadata": {
        "id": "36b49c81-a0a4-4bf9-bf77-a2f4793315b3"
      },
      "source": [
        "#### 1.2 Checking the shape (no.of rows and columns in dataset)"
      ]
    },
    {
      "cell_type": "code",
      "execution_count": null,
      "id": "ada25353-9163-422f-a2af-da797633448f",
      "metadata": {
        "id": "ada25353-9163-422f-a2af-da797633448f"
      },
      "outputs": [],
      "source": [
        "df.shape"
      ]
    },
    {
      "cell_type": "code",
      "execution_count": null,
      "id": "tqo3GDHKwGCj",
      "metadata": {
        "id": "tqo3GDHKwGCj"
      },
      "outputs": [],
      "source": [
        "df.columns"
      ]
    },
    {
      "cell_type": "markdown",
      "id": "786ba258-5e85-40bb-8680-1587ff8fcaad",
      "metadata": {
        "id": "786ba258-5e85-40bb-8680-1587ff8fcaad"
      },
      "source": [
        "###### Result:\n",
        "There are **1898** rows and **9** columns in dataset"
      ]
    },
    {
      "cell_type": "markdown",
      "id": "67b6df64-4081-4ec9-9c77-7a80c9af05b4",
      "metadata": {
        "id": "67b6df64-4081-4ec9-9c77-7a80c9af05b4"
      },
      "source": [
        "#### 1.3 Checking the info of dataset"
      ]
    },
    {
      "cell_type": "code",
      "execution_count": null,
      "id": "3fde8808-6512-4dc9-a878-fbe465e0fa3e",
      "metadata": {
        "id": "3fde8808-6512-4dc9-a878-fbe465e0fa3e"
      },
      "outputs": [],
      "source": [
        "df.info()"
      ]
    },
    {
      "cell_type": "markdown",
      "id": "8a7abb07-3b40-44d9-9339-42d63f76c5d6",
      "metadata": {
        "id": "8a7abb07-3b40-44d9-9339-42d63f76c5d6"
      },
      "source": [
        "###### Observations:\n",
        "1. All 1898 observations are complete.\n",
        "2. The data types are suitable for each respective variable"
      ]
    },
    {
      "cell_type": "code",
      "execution_count": null,
      "id": "Ou2RDStAkRfq",
      "metadata": {
        "id": "Ou2RDStAkRfq"
      },
      "outputs": [],
      "source": [
        "df[df['cost_of_the_order']>40]"
      ]
    },
    {
      "cell_type": "markdown",
      "id": "f6cc9e2a-fab7-4bd3-8791-7ae32a19021b",
      "metadata": {
        "id": "f6cc9e2a-fab7-4bd3-8791-7ae32a19021b"
      },
      "source": [
        "#### 1.4 Statistical summary"
      ]
    },
    {
      "cell_type": "code",
      "execution_count": null,
      "id": "Pi8nNCL7ob08",
      "metadata": {
        "id": "Pi8nNCL7ob08"
      },
      "outputs": [],
      "source": [
        "df.describe()"
      ]
    },
    {
      "cell_type": "markdown",
      "id": "d4VXpCHUr2I8",
      "metadata": {
        "id": "d4VXpCHUr2I8"
      },
      "source": [
        "#### Observations:\n",
        "* 1 - We need to check the record where cost_of_the_order is 121920.\n",
        "* 2 - There are some missing values in food_preperation_time."
      ]
    },
    {
      "cell_type": "markdown",
      "id": "4d99fc32",
      "metadata": {
        "id": "4d99fc32"
      },
      "source": [
        "## 2-Exploratory Data Analysis (EDA)\n",
        "* 2.1 Checking the duplicate rows and fetching them\n",
        "* 2.2 Checking Null Values (columnwise, percentage wise in columns and row-wise\n",
        "* 2.3 Outliers Analysis\n",
        "* 2.4 Univariate Analysis\n",
        "* 2.5 Bivariate Analysis"
      ]
    },
    {
      "cell_type": "markdown",
      "id": "642f3543-cdf0-46c8-948a-03357446ab7f",
      "metadata": {
        "id": "642f3543-cdf0-46c8-948a-03357446ab7f"
      },
      "source": [
        "#### 2.1 Checking the duplicate rows"
      ]
    },
    {
      "cell_type": "code",
      "execution_count": null,
      "id": "367bc6a6-9c30-4c75-b4f8-471923ea6da4",
      "metadata": {
        "id": "367bc6a6-9c30-4c75-b4f8-471923ea6da4"
      },
      "outputs": [],
      "source": [
        "# total number of duplicate rows\n",
        "df.duplicated().sum()"
      ]
    },
    {
      "cell_type": "code",
      "execution_count": null,
      "id": "468ae0e0-ffb0-4cbe-b402-12f390d57d9e",
      "metadata": {
        "id": "468ae0e0-ffb0-4cbe-b402-12f390d57d9e"
      },
      "outputs": [],
      "source": [
        "# Fetching duplicate rows\n",
        "df[df.duplicated()]"
      ]
    },
    {
      "cell_type": "markdown",
      "id": "d0803119-9bb6-45a7-8958-fd21f79cb5b7",
      "metadata": {
        "id": "d0803119-9bb6-45a7-8958-fd21f79cb5b7"
      },
      "source": [
        "### 2.2 Checking Null Values"
      ]
    },
    {
      "cell_type": "code",
      "execution_count": null,
      "id": "107ce687-b683-4aeb-bad2-758c8bd9c32c",
      "metadata": {
        "id": "107ce687-b683-4aeb-bad2-758c8bd9c32c"
      },
      "outputs": [],
      "source": [
        "# Column-wise null values\n",
        "df.isnull().sum()"
      ]
    },
    {
      "cell_type": "code",
      "execution_count": null,
      "id": "17970cb4-2075-4d88-8147-e6b9bb7d3d9c",
      "metadata": {
        "id": "17970cb4-2075-4d88-8147-e6b9bb7d3d9c"
      },
      "outputs": [],
      "source": [
        "# Percentage wise null values in columns\n",
        "df.isnull().sum()/len(df)*100"
      ]
    },
    {
      "cell_type": "code",
      "execution_count": null,
      "id": "a76374a7-78de-4893-bd63-96bf99ff34a3",
      "metadata": {
        "id": "a76374a7-78de-4893-bd63-96bf99ff34a3"
      },
      "outputs": [],
      "source": [
        "# row-wise null values\n",
        "df.isnull().sum(axis=1).sort_values(ascending=False)"
      ]
    },
    {
      "cell_type": "code",
      "execution_count": null,
      "id": "JYzb9jjWtxEw",
      "metadata": {
        "id": "JYzb9jjWtxEw"
      },
      "outputs": [],
      "source": [
        "df['rating'].value_counts()"
      ]
    },
    {
      "cell_type": "markdown",
      "id": "aa1b46c9-3b85-4b02-8f69-093870006fc3",
      "metadata": {
        "id": "aa1b46c9-3b85-4b02-8f69-093870006fc3"
      },
      "source": [
        "###### Results:\n",
        "\n",
        "* Out of the 1898 orders, 736 do not have a rating.\n",
        "\n"
      ]
    },
    {
      "cell_type": "markdown",
      "id": "40759a61-a303-486e-b6c8-28a0b8510173",
      "metadata": {
        "id": "40759a61-a303-486e-b6c8-28a0b8510173"
      },
      "source": [
        "### 2.3 Outliers Analysis\n",
        "* 2.3.1 Visualizing outliers\n",
        "* 2.3.2 Finding the no. of outliers in each column"
      ]
    },
    {
      "cell_type": "code",
      "execution_count": null,
      "id": "218fb6fb-161d-4606-ad72-777a39e1badb",
      "metadata": {
        "id": "218fb6fb-161d-4606-ad72-777a39e1badb"
      },
      "outputs": [],
      "source": [
        "# Fetching the datasets having categorical & Numerical variables seperately\n",
        "cat_variables= df.select_dtypes('object')\n",
        "num_variables= df.select_dtypes(['int','float'])"
      ]
    },
    {
      "cell_type": "markdown",
      "id": "d068aa4f-4a63-4b48-9789-bebd3d26b56d",
      "metadata": {
        "id": "d068aa4f-4a63-4b48-9789-bebd3d26b56d"
      },
      "source": [
        "##### 2.3.1 Visualizing outliers"
      ]
    },
    {
      "cell_type": "code",
      "execution_count": null,
      "id": "oJQgG3RLlG4_",
      "metadata": {
        "id": "oJQgG3RLlG4_"
      },
      "outputs": [],
      "source": [
        "for i in cat_variables.columns:\n",
        "    plt.figure(figsize=(6,3))\n",
        "    sns.countplot(data=df, x=i)\n",
        "    plt.show()"
      ]
    },
    {
      "cell_type": "code",
      "execution_count": null,
      "id": "f824985f-d8d4-4847-9e66-71f6daba67eb",
      "metadata": {
        "id": "f824985f-d8d4-4847-9e66-71f6daba67eb"
      },
      "outputs": [],
      "source": [
        "for i in num_variables:\n",
        "    plt.figure(figsize=(7,3))\n",
        "    sns.boxplot(data=df, x=i)\n"
      ]
    },
    {
      "cell_type": "markdown",
      "id": "25de68d9-c392-4d5a-80a3-c9c8b0b33474",
      "metadata": {
        "id": "25de68d9-c392-4d5a-80a3-c9c8b0b33474"
      },
      "source": [
        "##### 2.3.2 Finding the no. of outliers in each column"
      ]
    },
    {
      "cell_type": "code",
      "execution_count": null,
      "id": "8d16f3dd-cc72-4245-8ef5-7127ad711797",
      "metadata": {
        "id": "8d16f3dd-cc72-4245-8ef5-7127ad711797"
      },
      "outputs": [],
      "source": [
        "for i in num_variables:\n",
        "    Q1= np.quantile(df[i],0.25)\n",
        "    Q3= np.quantile(df[i],0.75)\n",
        "    IQR= Q3-Q1\n",
        "    lower_limit= Q1- 1.5*IQR\n",
        "    upper_limit= Q3+ 1.5*IQR\n",
        "    print(\"Number of ouliers in \",i,\":\", len(df[df[i]>upper_limit]))\n",
        "    print('-----------------------')"
      ]
    },
    {
      "cell_type": "markdown",
      "id": "1e98ea80-6505-4393-8bc4-39873731a97f",
      "metadata": {
        "id": "1e98ea80-6505-4393-8bc4-39873731a97f"
      },
      "source": [
        "### 2.4 Univariate Analysis"
      ]
    },
    {
      "cell_type": "markdown",
      "id": "tYSeoDn1uVoX",
      "metadata": {
        "id": "tYSeoDn1uVoX"
      },
      "source": [
        "##### 2.4.1. Categorical variables vizual analysis:"
      ]
    },
    {
      "cell_type": "code",
      "execution_count": null,
      "id": "17c_pKbEuSMV",
      "metadata": {
        "id": "17c_pKbEuSMV"
      },
      "outputs": [],
      "source": [
        "df.head()"
      ]
    },
    {
      "cell_type": "code",
      "execution_count": null,
      "id": "9Z_Fo37uwzRd",
      "metadata": {
        "id": "9Z_Fo37uwzRd"
      },
      "outputs": [],
      "source": [
        "for i in cat_variables.columns:\n",
        "    plt.figure(figsize=(5,2))\n",
        "    if i== \"cuisine_type\":\n",
        "        sns.countplot(data=df, y=i)\n",
        "    else:\n",
        "        sns.countplot(data=df, x=i)\n",
        "    plt.show()"
      ]
    },
    {
      "cell_type": "code",
      "execution_count": null,
      "id": "Ppolo3AEue8K",
      "metadata": {
        "id": "Ppolo3AEue8K"
      },
      "outputs": [],
      "source": [
        "plt.figure(figsize=(5,2))\n",
        "sns.countplot(data=df, x='delivery_time')\n",
        "plt.title('Countplot of delivery_time')"
      ]
    },
    {
      "cell_type": "code",
      "execution_count": null,
      "id": "RYVTrB-7l7bi",
      "metadata": {
        "id": "RYVTrB-7l7bi"
      },
      "outputs": [],
      "source": [
        "for i in num_variables.columns:\n",
        "    print(df[i].nunique())\n",
        "    print(df[i].value_counts())\n",
        "    print('-------------')"
      ]
    },
    {
      "cell_type": "code",
      "execution_count": null,
      "id": "PvmJkePQwpaG",
      "metadata": {
        "id": "PvmJkePQwpaG"
      },
      "outputs": [],
      "source": [
        "for i in cat_variables.columns:\n",
        "    print(df[i].nunique())\n",
        "    print(df[i].value_counts())\n",
        "    print('-------------')"
      ]
    },
    {
      "cell_type": "markdown",
      "id": "a501d22b-9cc7-479c-b384-536258fbed05",
      "metadata": {
        "id": "a501d22b-9cc7-479c-b384-536258fbed05"
      },
      "source": [
        "##### 2.4.3. Numerical variables analysis:"
      ]
    },
    {
      "cell_type": "code",
      "execution_count": null,
      "id": "OApm6Z-QSVk0",
      "metadata": {
        "id": "OApm6Z-QSVk0"
      },
      "outputs": [],
      "source": [
        "for i in num_variables:\n",
        "    plt.figure(figsize=(6,3))\n",
        "    sns.histplot(data=df,x=i);"
      ]
    },
    {
      "cell_type": "markdown",
      "id": "9q4YNwTa134j",
      "metadata": {
        "id": "9q4YNwTa134j"
      },
      "source": [
        "### 2.5 Bi-variate analysis\n",
        "* Since during model building we will be having \"Rating\" and \"delivery_time\" as our target variables so we will only do bi-variate analysis of these features only."
      ]
    },
    {
      "cell_type": "code",
      "execution_count": null,
      "id": "DaBcH3OxnUfH",
      "metadata": {
        "id": "DaBcH3OxnUfH"
      },
      "outputs": [],
      "source": [
        "for i in cat_variables.columns:\n",
        "    print(i)\n",
        "    print(df.groupby(i)['cost_of_the_order'].mean())\n",
        "    print('--------------------')"
      ]
    },
    {
      "cell_type": "code",
      "execution_count": null,
      "id": "2jIeIvJ9xwea",
      "metadata": {
        "id": "2jIeIvJ9xwea"
      },
      "outputs": [],
      "source": [
        "num_variables=df.select_dtypes(['int','float'])"
      ]
    },
    {
      "cell_type": "code",
      "execution_count": null,
      "id": "xMLEKIzVxyrT",
      "metadata": {
        "id": "xMLEKIzVxyrT"
      },
      "outputs": [],
      "source": [
        "plt.figure(figsize=(5,2))\n",
        "sns.pairplot(num_variables);"
      ]
    },
    {
      "cell_type": "code",
      "execution_count": null,
      "id": "kIQHsS__rypJ",
      "metadata": {
        "id": "kIQHsS__rypJ"
      },
      "outputs": [],
      "source": [
        "for i in cat_variables.columns:\n",
        "    plt.figure(figsize=(10, 5))\n",
        "    top_15 = df[i].value_counts().nlargest(15).index\n",
        "    df_top = df[df[i].isin(top_15)]\n",
        "    sns.barplot(data=df_top, x=i, y='delivery_time', errorbar=None, order=top_15)\n",
        "\n",
        "    # Ensure y-axis is not inverted\n",
        "    plt.gca().invert_yaxis()  # Remove this line if present elsewhere!\n",
        "\n",
        "    plt.xticks(rotation=45, ha='right')\n",
        "    plt.title(f\"{i} vs Delivery Time\")\n",
        "    plt.tight_layout()\n",
        "    plt.show()\n"
      ]
    },
    {
      "cell_type": "markdown",
      "id": "gyewV5o15m8L",
      "metadata": {
        "id": "gyewV5o15m8L"
      },
      "source": [
        "####  2.5.2. Relationship of  'delivery_time' with other numerical features\n",
        "* Few plots which we can use are:\n",
        "  * Pairplot\n",
        "  * Jointplot\n",
        "  * scatterplot"
      ]
    },
    {
      "cell_type": "code",
      "execution_count": null,
      "id": "fGDmRSqxUZRp",
      "metadata": {
        "id": "fGDmRSqxUZRp"
      },
      "outputs": [],
      "source": [
        "sns.barplot(data=df, x='rating',y='delivery_time');"
      ]
    },
    {
      "cell_type": "code",
      "execution_count": null,
      "id": "C4caFTEF5MZC",
      "metadata": {
        "id": "C4caFTEF5MZC"
      },
      "outputs": [],
      "source": [
        "for i in num_variables.columns:\n",
        "    plt.figure(figsize=(5,2))\n",
        "    sns.scatterplot(data=df, y='rating',x=i);"
      ]
    },
    {
      "cell_type": "markdown",
      "id": "ElSoqLvW6IIg",
      "metadata": {
        "id": "ElSoqLvW6IIg"
      },
      "source": [
        "##### Checking the correlation with heatmap to check above observation"
      ]
    },
    {
      "cell_type": "code",
      "execution_count": null,
      "id": "HORHs8JQ5uIB",
      "metadata": {
        "id": "HORHs8JQ5uIB"
      },
      "outputs": [],
      "source": [
        "corr= num_variables.corr()\n",
        "plt.figure(figsize=(5,2))\n",
        "sns.heatmap(corr,annot=True);"
      ]
    },
    {
      "cell_type": "markdown",
      "id": "7G4jfu7c6w1k",
      "metadata": {
        "id": "7G4jfu7c6w1k"
      },
      "source": [
        "####  2.5.3 Relationship of 'delivery_time' with all other features\n",
        "* We can use following plots & tables :\n",
        "    * Countplot with hue\n",
        "    * crosstab\n",
        "    * df.plot.bar(stacked=True)"
      ]
    },
    {
      "cell_type": "markdown",
      "id": "Estj1dfp67EM",
      "metadata": {
        "id": "Estj1dfp67EM"
      },
      "source": [
        "### 2.5.3.1 Visual analysis of \"delivery_time\" with other categorical variables"
      ]
    },
    {
      "cell_type": "code",
      "execution_count": null,
      "id": "NSiYDvAR6nMr",
      "metadata": {
        "id": "NSiYDvAR6nMr"
      },
      "outputs": [],
      "source": [
        "for i in cat_variables.columns:\n",
        "    plt.figure(figsize=(15,5))\n",
        "    sns.countplot(data=df, x=i, hue='delivery_time');"
      ]
    },
    {
      "cell_type": "markdown",
      "id": "7b90aded",
      "metadata": {
        "id": "7b90aded"
      },
      "source": [
        "# 3- Data Cleaning & pre processing\n",
        "* 1.Dropping duplicate rows\n",
        "* 2.Replacing wrong entries\n",
        "* 3.Missing values imputation (SimpleImputer, fillna())\n",
        "* 4.Handle outliers (IQR, Z-score method)\n",
        "* 5.Encoding\n",
        "* 6.Data splitting\n",
        "* 7.Feature scaling: StandardScaler, MinMaxScaler\n",
        "* 8.Feature selection:Based on correlation, domain knowledge, or model-based methods\n"
      ]
    },
    {
      "cell_type": "code",
      "execution_count": null,
      "id": "c77d8ddd-f8ec-4233-81ce-9cac2f5f9733",
      "metadata": {
        "id": "c77d8ddd-f8ec-4233-81ce-9cac2f5f9733"
      },
      "outputs": [],
      "source": [
        "import numpy as np\n",
        "import pandas as pd\n",
        "import seaborn as sns\n",
        "import matplotlib.pyplot as plt"
      ]
    },
    {
      "cell_type": "code",
      "execution_count": null,
      "id": "BBfhuVNw8S2P",
      "metadata": {
        "id": "BBfhuVNw8S2P"
      },
      "outputs": [],
      "source": [
        "df=df.drop(['restaurant_name','order_id','customer_id'], axis=1)"
      ]
    },
    {
      "cell_type": "code",
      "source": [
        "df.head()"
      ],
      "metadata": {
        "id": "iZn3DpsZA0Fy"
      },
      "id": "iZn3DpsZA0Fy",
      "execution_count": null,
      "outputs": []
    },
    {
      "cell_type": "code",
      "execution_count": null,
      "id": "ffca7b09-d69a-495b-b01b-e625439866a8",
      "metadata": {
        "id": "ffca7b09-d69a-495b-b01b-e625439866a8"
      },
      "outputs": [],
      "source": [
        "df_copy= df.copy()\n",
        "cat_variables= df_copy.select_dtypes('object')\n",
        "num_variables= df_copy.select_dtypes(['int','float'])"
      ]
    },
    {
      "cell_type": "markdown",
      "id": "cef18286-c61e-4ec3-bdbe-dbcaeae6a733",
      "metadata": {
        "id": "cef18286-c61e-4ec3-bdbe-dbcaeae6a733"
      },
      "source": [
        "#### 3.1 Dropping duplicates"
      ]
    },
    {
      "cell_type": "code",
      "execution_count": null,
      "id": "c9d7feff-16bc-4fca-82d2-92c94777a399",
      "metadata": {
        "id": "c9d7feff-16bc-4fca-82d2-92c94777a399"
      },
      "outputs": [],
      "source": [
        "print(\" No. of rows before dropping duplicates :\", df_copy.shape[0])\n",
        "df_copy.drop_duplicates(inplace=True)\n",
        "print(\" No. of rows after dropping duplicates :\", df_copy.shape[0])"
      ]
    },
    {
      "cell_type": "markdown",
      "id": "qZcEAmCK7lwX",
      "metadata": {
        "id": "qZcEAmCK7lwX"
      },
      "source": [
        "#### 3.2 Replacing wrong entries"
      ]
    },
    {
      "cell_type": "markdown",
      "id": "xp6K3BNS7m-M",
      "metadata": {
        "id": "xp6K3BNS7m-M"
      },
      "source": [
        "##### 3.2.1 rating"
      ]
    },
    {
      "cell_type": "code",
      "execution_count": null,
      "id": "QDRVLSOH8Ykj",
      "metadata": {
        "id": "QDRVLSOH8Ykj"
      },
      "outputs": [],
      "source": [
        "# Before Cleaning\n",
        "print(\"Unique categories in feature : \",df_copy['rating'].unique())\n",
        "print(\"Number of Unique categories in feature : \",df_copy['rating'].nunique())\n",
        "print(\"Count of Unique categories in feature : \",df_copy['rating'].value_counts())"
      ]
    },
    {
      "cell_type": "code",
      "source": [
        "df_copy2 = df_copy.copy()\n"
      ],
      "metadata": {
        "id": "XpWzceqdnYKF"
      },
      "id": "XpWzceqdnYKF",
      "execution_count": null,
      "outputs": []
    },
    {
      "cell_type": "code",
      "execution_count": null,
      "id": "w9q6M00XW_HG",
      "metadata": {
        "id": "w9q6M00XW_HG"
      },
      "outputs": [],
      "source": [
        "df_copy2['rating'] = df_copy2['rating'].astype(str)\n",
        "df_copy2['rating'] = df_copy2['rating'].apply(lambda x: 'Given' if x.strip().isdigit() else 'Not given')\n",
        "# Confirm both classes exist\n",
        "print(df_copy2['rating'].value_counts())\n",
        "\n",
        "\n"
      ]
    },
    {
      "cell_type": "code",
      "execution_count": null,
      "id": "W3JpeG_q83tD",
      "metadata": {
        "id": "W3JpeG_q83tD"
      },
      "outputs": [],
      "source": [
        "# After Cleaning\n",
        "print(\"Unique categories in feature : \",df_copy['rating'].unique())\n",
        "print(\"Number of Unique categories in feature : \",df_copy['rating'].nunique())\n",
        "print(\"Count of Unique categories in feature : \",df_copy['rating'].value_counts())"
      ]
    },
    {
      "cell_type": "code",
      "source": [
        "print(df_copy['rating'].value_counts())\n",
        "print(df_copy['rating'].dtypes)\n"
      ],
      "metadata": {
        "id": "bNkYWWl0JmeI"
      },
      "id": "bNkYWWl0JmeI",
      "execution_count": null,
      "outputs": []
    },
    {
      "cell_type": "markdown",
      "id": "rNclkoTB9i8W",
      "metadata": {
        "id": "rNclkoTB9i8W"
      },
      "source": [
        "##### 3.2.2 delivery_time"
      ]
    },
    {
      "cell_type": "code",
      "execution_count": null,
      "id": "20KzsMF89irb",
      "metadata": {
        "id": "20KzsMF89irb"
      },
      "outputs": [],
      "source": [
        "# Before Cleaning\n",
        "print(\"Unique categories in feature : \",df_copy['delivery_time'].unique())\n",
        "print(\"Number of Unique categories in feature : \",df_copy['delivery_time'].nunique())\n",
        "print(\"Count of Unique categories in feature : \",df_copy['delivery_time'].value_counts())"
      ]
    },
    {
      "cell_type": "code",
      "execution_count": null,
      "id": "sDmLfGRr96s9",
      "metadata": {
        "id": "sDmLfGRr96s9"
      },
      "outputs": [],
      "source": [
        "# Fetching the records where delivery_time is \"?\"\n",
        "df_copy[df_copy['delivery_time']=='?']"
      ]
    },
    {
      "cell_type": "code",
      "execution_count": null,
      "id": "TD7ckuQw96pt",
      "metadata": {
        "id": "TD7ckuQw96pt"
      },
      "outputs": [],
      "source": [
        "df_copy['delivery_time']=df_copy['delivery_time'].replace('?',df_copy['delivery_time'].mode()[0])"
      ]
    },
    {
      "cell_type": "code",
      "execution_count": null,
      "id": "bzxYD-hj-yZq",
      "metadata": {
        "id": "bzxYD-hj-yZq"
      },
      "outputs": [],
      "source": [
        "# After Cleaning\n",
        "print(\"Unique categories in feature : \",df_copy['delivery_time'].unique())\n",
        "print(\"Number of Unique categories in feature : \",df_copy['delivery_time'].nunique())\n",
        "print(\"Count of Unique categories in feature : \",df_copy['delivery_time'].value_counts())"
      ]
    },
    {
      "cell_type": "markdown",
      "id": "Z7BR3Kj3_A4J",
      "metadata": {
        "id": "Z7BR3Kj3_A4J"
      },
      "source": [
        "###### How to replace two same wrong entries with two seperate values"
      ]
    },
    {
      "cell_type": "code",
      "execution_count": null,
      "id": "1a-11ubk_E-F",
      "metadata": {
        "id": "1a-11ubk_E-F"
      },
      "outputs": [],
      "source": [
        "df_copy['delivery_time'].value_counts()"
      ]
    },
    {
      "cell_type": "code",
      "execution_count": null,
      "id": "GFBXCFen_R0S",
      "metadata": {
        "id": "GFBXCFen_R0S"
      },
      "outputs": [],
      "source": [
        "df_copy[df_copy['delivery_time']=='?']"
      ]
    },
    {
      "cell_type": "markdown",
      "id": "065be1cc-1547-4700-a1fa-8452fc0f875d",
      "metadata": {
        "id": "065be1cc-1547-4700-a1fa-8452fc0f875d"
      },
      "source": [
        "#### 3.3 Missing values Treatment"
      ]
    },
    {
      "cell_type": "markdown",
      "id": "04fee582-0c22-468f-a087-efa79c0a6557",
      "metadata": {
        "id": "04fee582-0c22-468f-a087-efa79c0a6557"
      },
      "source": [
        "| Acronym  | Full Form                    | Meaning                                                                        | Bias Introduced | Example                                                                        |\n",
        "| -------- | ---------------------------- | ------------------------------------------------------------------------------ | --------------- | ------------------------------------------------------------------------------ |\n",
        "| **MCAR** | Missing Completely At Random | The missingness has **no relation** to any data, observed or missing.          | ❌ No            | A sensor randomly fails and misses temperature readings.                       |\n",
        "| **MAR**  | Missing At Random            | The missingness is **related to observed data**, not the missing value itself. | ✅ Yes (mild)    | People with higher incomes are less likely to report income, but age is known. |\n",
        "| **MNAR** | Missing Not At Random        | The missingness is related to the **missing value itself**.                    | ✅ High          | People with very low income tend to skip the income question.                  |\n"
      ]
    },
    {
      "cell_type": "markdown",
      "id": "4b90e896-7db7-4a89-8792-93f39a1842d5",
      "metadata": {
        "id": "4b90e896-7db7-4a89-8792-93f39a1842d5"
      },
      "source": [
        "##### Example\n",
        "| Name  | Age | Income |\n",
        "| ----- | --- | ------ |\n",
        "| Alice | 25  | 50k    |\n",
        "| Bob   | 30  | NaN    |\n",
        "| Carol | NaN | 70k    |\n",
        "| David | 40  | NaN    |\n"
      ]
    },
    {
      "cell_type": "markdown",
      "id": "717af4fd-535a-4510-8592-c0aac1538194",
      "metadata": {
        "id": "717af4fd-535a-4510-8592-c0aac1538194"
      },
      "source": [
        "* MCAR: Missing income for Bob and David is due to random system error.\n",
        "* MAR: Missing income depends on age (older people don't report income), but income itself doesn't influence missingness.\n",
        "* MNAR: Income is missing because it's very high or very low, and people choose not to report it."
      ]
    },
    {
      "cell_type": "markdown",
      "id": "5a75d2f0-9b1e-4295-8387-9743d202a4b9",
      "metadata": {
        "id": "5a75d2f0-9b1e-4295-8387-9743d202a4b9"
      },
      "source": [
        "| Type | Can You Impute?                           | Need Advanced Methods?                         |\n",
        "| ---- | ----------------------------------------- | ---------------------------------------------- |\n",
        "| MCAR | ✅ Yes (Mean/Median Imputation)            | ❌ No                                           |\n",
        "| MAR  | ✅ Yes (Advanced Imputers: KNN, Iterative) | ⚠️ Maybe                                       |\n",
        "| MNAR | ❌ Not reliably                            | ✅ Yes (Model-based or domain knowledge needed) |\n"
      ]
    },
    {
      "cell_type": "markdown",
      "id": "b56d969d-afde-48f4-89aa-6cadaa584dbd",
      "metadata": {
        "id": "b56d969d-afde-48f4-89aa-6cadaa584dbd"
      },
      "source": [
        "# Null values Treatment general guideline:\n",
        "* Check the datatype of feature:\n",
        "  * If datatype== Categorical ; replace null values with mode\n",
        "  * If datatype== Numerical:\n",
        "    * Check for outliers:\n",
        "      * If outliers are present; replace null values with median\n",
        "      * If outliers are NOT present; replace null values with mean"
      ]
    },
    {
      "cell_type": "code",
      "execution_count": null,
      "id": "c791b9d0-1567-4b6d-a863-3a2bdbdc426b",
      "metadata": {
        "id": "c791b9d0-1567-4b6d-a863-3a2bdbdc426b"
      },
      "outputs": [],
      "source": [
        "df.isnull().sum()"
      ]
    },
    {
      "cell_type": "code",
      "execution_count": null,
      "id": "53d0acac-96df-4bec-b5a7-1d3f12e2a34e",
      "metadata": {
        "id": "53d0acac-96df-4bec-b5a7-1d3f12e2a34e"
      },
      "outputs": [],
      "source": [
        "# Filling null values using fillna- cuisine_type, food_preparation_time"
      ]
    },
    {
      "cell_type": "code",
      "execution_count": null,
      "id": "ba5f24a8-c651-4f5a-90d7-584f5ab30456",
      "metadata": {
        "id": "ba5f24a8-c651-4f5a-90d7-584f5ab30456"
      },
      "outputs": [],
      "source": [
        "df_copy['cuisine_type'].mode()[0]"
      ]
    },
    {
      "cell_type": "code",
      "execution_count": null,
      "id": "kJ3zgXioBsGO",
      "metadata": {
        "id": "kJ3zgXioBsGO"
      },
      "outputs": [],
      "source": [
        "df_copy['cuisine_type'] = df_copy['cuisine_type'].fillna(df_copy['cuisine_type'].mode()[0])"
      ]
    },
    {
      "cell_type": "code",
      "execution_count": null,
      "id": "s6OfevT1s-L-",
      "metadata": {
        "id": "s6OfevT1s-L-"
      },
      "outputs": [],
      "source": [
        "df_copy['food_preparation_time'].mean()"
      ]
    },
    {
      "cell_type": "code",
      "execution_count": null,
      "id": "bLmpqkHhtCdF",
      "metadata": {
        "id": "bLmpqkHhtCdF"
      },
      "outputs": [],
      "source": [
        "df_copy['food_preparation_time'] = df_copy['food_preparation_time'].fillna(df_copy['food_preparation_time'].mean())"
      ]
    },
    {
      "cell_type": "code",
      "execution_count": null,
      "id": "twBbclWGtLTx",
      "metadata": {
        "id": "twBbclWGtLTx"
      },
      "outputs": [],
      "source": [
        "df_copy['delivery_time'].mode()[0]"
      ]
    },
    {
      "cell_type": "code",
      "execution_count": null,
      "id": "QECLFSJ6tSgJ",
      "metadata": {
        "id": "QECLFSJ6tSgJ"
      },
      "outputs": [],
      "source": [
        "df_copy['delivery_time'] = df_copy['delivery_time'].fillna(df_copy['delivery_time'].mode()[0])"
      ]
    },
    {
      "cell_type": "code",
      "execution_count": null,
      "id": "vAvy4VSctb_J",
      "metadata": {
        "id": "vAvy4VSctb_J"
      },
      "outputs": [],
      "source": [
        "df_copy.isnull().sum()"
      ]
    },
    {
      "cell_type": "code",
      "execution_count": null,
      "id": "54f78e06-2cd5-4add-a335-436c39f7ae0b",
      "metadata": {
        "id": "54f78e06-2cd5-4add-a335-436c39f7ae0b"
      },
      "outputs": [],
      "source": [
        "df_copy.to_csv('df_copy.csv', index=False)"
      ]
    },
    {
      "cell_type": "code",
      "execution_count": null,
      "id": "u1IRzqg8VYxO",
      "metadata": {
        "id": "u1IRzqg8VYxO"
      },
      "outputs": [],
      "source": [
        "df_copy.delivery_time.value_counts()"
      ]
    },
    {
      "cell_type": "code",
      "execution_count": null,
      "id": "78qQLPp0VOUe",
      "metadata": {
        "id": "78qQLPp0VOUe"
      },
      "outputs": [],
      "source": [
        "sns.pointplot(data=df_copy, x='day_of_the_week',y=df_copy['delivery_time'].astype('int'));"
      ]
    },
    {
      "cell_type": "markdown",
      "id": "01d33b6f-119a-42a5-b396-0a4347938326",
      "metadata": {
        "id": "01d33b6f-119a-42a5-b396-0a4347938326"
      },
      "source": [
        "##### Other popular methods\n",
        "\n",
        "| Method                                 | Description                                              |\n",
        "| -------------------------------------- | -------------------------------------------------------- |\n",
        "| `ffill()` / `bfill()`                  | Forward or backward fill values                          |\n",
        "| Mode/Median Imputation                 | Use most frequent / median value                         |\n",
        "| KNN Imputer (`KNNImputer`)             | Predict null values using nearest neighbors              |\n",
        "| Iterative Imputer (`IterativeImputer`) | Uses regression models to predict missing values         |\n",
        "| Drop missing (`dropna`)                | Drop rows/columns with missing values (when appropriate) |\n",
        "| Domain-specific value                  | E.g., fill age with 0 only if 0 means \"unknown\"          |\n"
      ]
    },
    {
      "cell_type": "markdown",
      "id": "72daa0bc-688c-4b72-95c5-71a1f496e37a",
      "metadata": {
        "id": "72daa0bc-688c-4b72-95c5-71a1f496e37a"
      },
      "source": [
        "## 3.4 Outliers Treatment"
      ]
    },
    {
      "cell_type": "markdown",
      "id": "d74e2dc0-1320-4d82-9193-9df3dce2f8b7",
      "metadata": {
        "id": "d74e2dc0-1320-4d82-9193-9df3dce2f8b7"
      },
      "source": [
        "#### 1. Popular Methods for Outlier Detection & Treatment"
      ]
    },
    {
      "cell_type": "markdown",
      "id": "2183b554-ffb4-4e4b-9528-93df5c1b1a1c",
      "metadata": {
        "id": "2183b554-ffb4-4e4b-9528-93df5c1b1a1c"
      },
      "source": [
        "| Method                           | Type         | Handles   | Robustness  | When to Use                   |\n",
        "| -------------------------------- | ------------ | --------- | ----------- | ----------------------------- |\n",
        "| **IQR (Interquartile Range)**    | Univariate   | Numerical | ✅ Robust    | Simple, small-medium datasets |\n",
        "| **Z-Score**                      | Univariate   | Numerical | ❌ Sensitive | Normal-like distributions     |\n",
        "| **Percentile Capping**           | Univariate   | Numerical | ✅ Robust    | Quick wins, business rules    |\n",
        "| **Isolation Forest**             | Multivariate | Numerical | ✅ Good      | Large, high-dimensional data  |\n",
        "| **DBSCAN (Clustering)**          | Multivariate | All       | ✅ Moderate  | Cluster-shaped datasets       |\n",
        "| **Boxplots / Visual Inspection** | Univariate   | Numerical | Manual      | For EDA or small data         |\n",
        "| **LOF (Local Outlier Factor)**   | Multivariate | All       | ✅ High      | Density-based outliers        |\n"
      ]
    },
    {
      "cell_type": "code",
      "execution_count": null,
      "id": "b96717bb-58f2-474c-ba3c-1c83f7ddaa0f",
      "metadata": {
        "id": "b96717bb-58f2-474c-ba3c-1c83f7ddaa0f"
      },
      "outputs": [],
      "source": [
        "df_copy2= pd.read_csv('df_copy.csv')"
      ]
    },
    {
      "cell_type": "code",
      "execution_count": null,
      "id": "823c9ec8-9f78-4324-8353-84ea553a0f75",
      "metadata": {
        "id": "823c9ec8-9f78-4324-8353-84ea553a0f75"
      },
      "outputs": [],
      "source": [
        "for i in df_copy2.select_dtypes(['int','float']).columns:\n",
        "    plt.figure(figsize=(6,3))\n",
        "    sns.boxplot(data=df_copy2,x=i);"
      ]
    },
    {
      "cell_type": "code",
      "execution_count": null,
      "id": "e6255822-90bb-4952-823d-cc4c8d75f180",
      "metadata": {
        "id": "e6255822-90bb-4952-823d-cc4c8d75f180"
      },
      "outputs": [],
      "source": [
        "# A.IQR Method (Interquartile Range)\n",
        "Q1 = df_copy2['cost_of_the_order'].quantile(0.25)\n",
        "Q3 = df_copy2['cost_of_the_order'].quantile(0.75)\n",
        "IQR = Q3 - Q1\n",
        "# Define bounds\n",
        "lower = Q1 - 1.5 * IQR\n",
        "upper = Q3 + 1.5 * IQR\n",
        "median = df_copy2['cost_of_the_order'].median()\n",
        "lower,upper"
      ]
    },
    {
      "cell_type": "code",
      "execution_count": null,
      "id": "64d1b5c4-2a3f-47e3-8e05-86fb279540f5",
      "metadata": {
        "id": "64d1b5c4-2a3f-47e3-8e05-86fb279540f5"
      },
      "outputs": [],
      "source": [
        "# Filter out outliers\n",
        "df_copy2[(df_copy2['cost_of_the_order'] <= lower) | (df_copy2['cost_of_the_order'] >= upper)]"
      ]
    },
    {
      "cell_type": "code",
      "execution_count": null,
      "id": "e694b4d3-1372-49a2-a15f-0111ef9958d4",
      "metadata": {
        "id": "e694b4d3-1372-49a2-a15f-0111ef9958d4"
      },
      "outputs": [],
      "source": [
        "df_copy2['cost_of_the_order'].quantile(0.99)"
      ]
    },
    {
      "cell_type": "code",
      "execution_count": null,
      "id": "2776008d-2959-4d90-a766-63b57f1eb659",
      "metadata": {
        "id": "2776008d-2959-4d90-a766-63b57f1eb659"
      },
      "outputs": [],
      "source": [
        "df_copy2['cost_of_the_order'].describe()"
      ]
    },
    {
      "cell_type": "code",
      "execution_count": null,
      "id": "7d6d7a17-a063-4446-bfa2-3a11ad736057",
      "metadata": {
        "id": "7d6d7a17-a063-4446-bfa2-3a11ad736057"
      },
      "outputs": [],
      "source": [
        "df_copy2['cost_of_the_order'] =np.where(df_copy2['cost_of_the_order']<= lower,df_copy2['cost_of_the_order'].median(),df_copy2['cost_of_the_order'])\n",
        "df_copy2['cost_of_the_order'] =np.where(df_copy2['cost_of_the_order']>= upper,df_copy2['cost_of_the_order'].median(),df_copy2['cost_of_the_order'])"
      ]
    },
    {
      "cell_type": "code",
      "execution_count": null,
      "id": "87070869-32bb-4004-a3f4-ab1132b1685f",
      "metadata": {
        "id": "87070869-32bb-4004-a3f4-ab1132b1685f"
      },
      "outputs": [],
      "source": [
        "df_copy2[(df_copy2['cost_of_the_order'] <= lower) | (df_copy2['cost_of_the_order'] >= upper)]"
      ]
    },
    {
      "cell_type": "code",
      "execution_count": null,
      "id": "OKY3mZncEPyl",
      "metadata": {
        "id": "OKY3mZncEPyl"
      },
      "outputs": [],
      "source": [
        "df_copy2['cost_of_the_order'] = np.where(df_copy2['cost_of_the_order'] <= lower, median, df_copy2['cost_of_the_order'])\n"
      ]
    },
    {
      "cell_type": "code",
      "execution_count": null,
      "id": "be0dbf63-7cad-487f-9fca-e04afe7f0c68",
      "metadata": {
        "id": "be0dbf63-7cad-487f-9fca-e04afe7f0c68"
      },
      "outputs": [],
      "source": [
        "df_copy2['rating'].describe()"
      ]
    },
    {
      "cell_type": "code",
      "execution_count": null,
      "id": "7e8d13b0-2099-4f91-8e63-bb5b1eff1754",
      "metadata": {
        "id": "7e8d13b0-2099-4f91-8e63-bb5b1eff1754"
      },
      "outputs": [],
      "source": [
        "sns.boxplot(data=df_copy2, x='rating');"
      ]
    },
    {
      "cell_type": "code",
      "execution_count": null,
      "id": "36f8c885-57bd-4e66-9d6a-547e4e4e9414",
      "metadata": {
        "id": "36f8c885-57bd-4e66-9d6a-547e4e4e9414"
      },
      "outputs": [],
      "source": [
        "df_copy2['rating'] =np.where(df_copy2['rating']==0,df_copy2['rating'].mode()[0],df_copy2['rating'])"
      ]
    },
    {
      "cell_type": "code",
      "execution_count": null,
      "id": "530d6be9-632e-41b1-b617-b322daf699dd",
      "metadata": {
        "id": "530d6be9-632e-41b1-b617-b322daf699dd"
      },
      "outputs": [],
      "source": [
        "df_copy2.to_csv('df_copy3.csv', index=False)\n"
      ]
    },
    {
      "cell_type": "code",
      "execution_count": null,
      "id": "i3Bm9mU7U9mC",
      "metadata": {
        "id": "i3Bm9mU7U9mC"
      },
      "outputs": [],
      "source": [
        "sns.barplot(data=df_copy2, x='rating',y='delivery_time');"
      ]
    },
    {
      "cell_type": "markdown",
      "id": "151d915e-f2d6-4d5c-93e2-27569f175721",
      "metadata": {
        "id": "151d915e-f2d6-4d5c-93e2-27569f175721"
      },
      "source": [
        "\n",
        "#### C.Percentile Capping (Winsorization)\n",
        "from scipy.stats.mstats import winsorize\n",
        "\n",
        "Winsorize at 5th and 95th percentile\n",
        "\n",
        "df['capped_age'] = winsorize(df['Age'], limits=[0.05, 0.05])\n",
        "\n",
        "#### D. Isolation Forest (Multivariate)\n",
        "from sklearn.ensemble import IsolationForest\n",
        "\n",
        "clf = IsolationForest(contamination=0.1)\n",
        "\n",
        "df['outlier'] = clf.fit_predict(df[['Age']])\n",
        "\n",
        "df_filtered = df[df['outlier'] == 1]\n",
        "\n",
        "print(df_filtered)\n",
        "\n",
        "#### E.Local Outlier Factor (LOF)\n",
        "from sklearn.neighbors import LocalOutlierFactor\n",
        "\n",
        "lof = LocalOutlierFactor(n_neighbors=20)\n",
        "\n",
        "df['outlier'] = lof.fit_predict(df[['Age']])\n",
        "\n",
        "df_filtered = df[df['outlier'] == 1]\n",
        "\n",
        "print(df_filtered)"
      ]
    },
    {
      "cell_type": "markdown",
      "id": "0b807742-6fbc-4419-992d-01b796e4c77c",
      "metadata": {
        "id": "0b807742-6fbc-4419-992d-01b796e4c77c"
      },
      "source": [
        "##### Comparison Summary\n",
        "| Method           | Speed     | Interpretability | Works on Multivariate | Scikit-learn Support |\n",
        "| ---------------- | --------- | ---------------- | --------------------- | -------------------- |\n",
        "| IQR              | ✅ Fast    | ✅ Easy           | ❌ No                  | ❌ No                 |\n",
        "| Z-Score          | ✅ Fast    | ✅ Easy           | ❌ No                  | ❌ No                 |\n",
        "| Winsorization    | ✅ Fast    | ✅ Easy           | ❌ No                  | ❌ No (in `scipy`)    |\n",
        "| Isolation Forest | ⚠️ Slower | ✅ Moderate       | ✅ Yes                 | ✅ Yes                |\n",
        "| LOF              | ⚠️ Slower | ⚠️ Hard          | ✅ Yes                 | ✅ Yes                |\n"
      ]
    },
    {
      "cell_type": "markdown",
      "id": "7b1f2a10-dcfb-48d8-a8d2-5d479a026e7e",
      "metadata": {
        "id": "7b1f2a10-dcfb-48d8-a8d2-5d479a026e7e"
      },
      "source": [
        "## 3.5 Encoding\n",
        "\n",
        "Encoding is the process of converting categorical variables (text labels or categories) into a numerical format, so they can be used in machine learning models (which require numerical input).\n",
        "\n",
        "Types of Categorical Variables\n",
        "* Nominal – No natural order. E.g., Gender, Color, Country\n",
        "* Ordinal – Has a meaningful order. E.g., Size (Small < Medium < Large), Rating (Low < Medium < High)"
      ]
    },
    {
      "cell_type": "code",
      "execution_count": null,
      "id": "19f31e78-03b8-4d24-b8f5-7b5bf2e27176",
      "metadata": {
        "id": "19f31e78-03b8-4d24-b8f5-7b5bf2e27176"
      },
      "outputs": [],
      "source": [
        "df_3= pd.read_csv('df_copy3.csv')"
      ]
    },
    {
      "cell_type": "code",
      "source": [
        "df_copy2['cuisine_type'] = df_copy2['cuisine_type'].astype('category').cat.codes"
      ],
      "metadata": {
        "id": "T5WDBHdoVGWA"
      },
      "id": "T5WDBHdoVGWA",
      "execution_count": null,
      "outputs": []
    },
    {
      "cell_type": "code",
      "source": [
        "df.head()"
      ],
      "metadata": {
        "id": "eshydkQqC4IF"
      },
      "id": "eshydkQqC4IF",
      "execution_count": null,
      "outputs": []
    },
    {
      "cell_type": "code",
      "execution_count": null,
      "id": "49f637d7-d7a6-42a9-befa-0222e15eb67f",
      "metadata": {
        "id": "49f637d7-d7a6-42a9-befa-0222e15eb67f"
      },
      "outputs": [],
      "source": [
        "cat_variables= df_3.select_dtypes('object')\n",
        "num_variables= df_3.select_dtypes(['int','float'])\n"
      ]
    },
    {
      "cell_type": "code",
      "execution_count": null,
      "id": "4c6d89ac-39c2-4313-9259-40183ccf2333",
      "metadata": {
        "id": "4c6d89ac-39c2-4313-9259-40183ccf2333"
      },
      "outputs": [],
      "source": [
        "cat_variables.columns"
      ]
    },
    {
      "cell_type": "code",
      "execution_count": null,
      "id": "8dd2a203-ad1e-4bcf-bc7a-872b95c2cc48",
      "metadata": {
        "id": "8dd2a203-ad1e-4bcf-bc7a-872b95c2cc48"
      },
      "outputs": [],
      "source": [
        "cat_variables.head(3)"
      ]
    },
    {
      "cell_type": "code",
      "execution_count": null,
      "id": "KWYv7iCkUB21",
      "metadata": {
        "id": "KWYv7iCkUB21"
      },
      "outputs": [],
      "source": [
        "# 2. Nominal encoding\n",
        "nominal_features=['cuisine_type']\n",
        "for i in nominal_features:\n",
        "    print(i,\";\")\n",
        "    print(pd.Categorical(cat_variables[i],ordered= False))\n",
        "    print(pd.Categorical(cat_variables[i],ordered= False).codes)\n",
        "    print('----------------------------------------')\n",
        "    cat_variables[i]=pd.Categorical(cat_variables[i],ordered= False).codes"
      ]
    },
    {
      "cell_type": "code",
      "source": [
        "cat_variables.head()"
      ],
      "metadata": {
        "id": "_MqfDxsDDmxC"
      },
      "id": "_MqfDxsDDmxC",
      "execution_count": null,
      "outputs": []
    },
    {
      "cell_type": "code",
      "execution_count": null,
      "id": "tez3rd0Le-eR",
      "metadata": {
        "id": "tez3rd0Le-eR"
      },
      "outputs": [],
      "source": [
        "# 3. One Hot encoding\n",
        "cat_variables_encoded= pd.get_dummies(cat_variables, columns=['rating','day_of_the_week'], dtype=int)\n",
        "df_encoded=pd.concat([num_variables,cat_variables_encoded], axis=1,)\n",
        "df_encoded.head()"
      ]
    },
    {
      "cell_type": "code",
      "execution_count": null,
      "id": "tK52JPbPT6EY",
      "metadata": {
        "id": "tK52JPbPT6EY"
      },
      "outputs": [],
      "source": [
        "df_encoded.head()"
      ]
    },
    {
      "cell_type": "code",
      "execution_count": null,
      "id": "UX_HQGz1v7ZN",
      "metadata": {
        "id": "UX_HQGz1v7ZN"
      },
      "outputs": [],
      "source": [
        "cat_variables['day_of_the_week'].value_counts()"
      ]
    },
    {
      "cell_type": "code",
      "execution_count": null,
      "id": "Ec1jySOzpsXm",
      "metadata": {
        "id": "Ec1jySOzpsXm"
      },
      "outputs": [],
      "source": [
        "cat_variables['cuisine_type'].value_counts()"
      ]
    },
    {
      "cell_type": "code",
      "execution_count": null,
      "id": "Uv50hfdQNkca",
      "metadata": {
        "id": "Uv50hfdQNkca"
      },
      "outputs": [],
      "source": [
        "df_encoded.to_csv('df_encoded', index=False)"
      ]
    },
    {
      "cell_type": "markdown",
      "id": "78a42d19-23e1-4823-99ce-132d2fbb752f",
      "metadata": {
        "id": "78a42d19-23e1-4823-99ce-132d2fbb752f"
      },
      "source": [
        "##### Common encoding techniques:\n",
        "| Encoding Method      | Type of Data | Pros                  | Cons                             |\n",
        "| -------------------- | ------------ | --------------------- | -------------------------------- |\n",
        "| Label Encoding       | Ordinal      | Simple                | Imposes order on nominal data    |\n",
        "| One-Hot Encoding     | Nominal      | No order imposed      | High dimensionality              |\n",
        "| Ordinal Encoding     | Ordinal      | Preserves order       | You must define the order        |\n",
        "| Frequency Encoding   | Nominal      | Simple, compact       | May mislead the model            |\n",
        "| Target/Mean Encoding | Nominal      | Can boost performance | Risk of overfitting/data leakage |\n"
      ]
    },
    {
      "cell_type": "markdown",
      "id": "9220fd95-26ae-4d1b-b072-19d18c5c890a",
      "metadata": {
        "id": "9220fd95-26ae-4d1b-b072-19d18c5c890a"
      },
      "source": [
        "#### Difference in `pd.Categorical` technique and Sklearn's `LabelEncoder` / `OrdinalEncoder`\n",
        "| Feature                    | `pd.Categorical`      | `LabelEncoder` / `OrdinalEncoder` |\n",
        "| -------------------------- | --------------------- | --------------------------------- |\n",
        "| Built into Pandas          | ✅ Yes                 | ❌ No                              |\n",
        "| Easy for quick exploration | ✅ Very                | ➖ Slightly more verbose           |\n",
        "| Custom category ordering   | ✅ Yes                 | ✅ Yes                             |\n",
        "| Part of sklearn pipelines  | ❌ Not natively        | ✅ Integrates well                 |\n",
        "| Handles unknown values     | ❌ Fails or assigns -1 | ✅ Can handle with parameters      |\n"
      ]
    },
    {
      "cell_type": "markdown",
      "id": "7c174440-c48d-4492-b2e8-852308c08405",
      "metadata": {
        "id": "7c174440-c48d-4492-b2e8-852308c08405"
      },
      "source": [
        "## 3.6 Train Test Split (Required when building model for predictions)\n",
        "#### What is train_test_split?\n",
        "train_test_split is a function from scikit-learn used to split your dataset into two parts:\n",
        "\n",
        "Training set – to train the model\n",
        "\n",
        "Validation set – to evaluate the model's performance\n",
        "\n",
        "#### Why is it required?\n",
        "When building machine learning models, we train the model on one portion of the data and test it on unseen data to check how well it generalizes.\n",
        "\n",
        "This prevents overfitting and gives a fair estimate of model accuracy."
      ]
    },
    {
      "cell_type": "code",
      "execution_count": null,
      "id": "0c4857eb-3ff9-4f79-9dcb-62aba49b8cdb",
      "metadata": {
        "id": "0c4857eb-3ff9-4f79-9dcb-62aba49b8cdb"
      },
      "outputs": [],
      "source": [
        "df_TrainTestSplit= pd.read_csv('df_encoded')"
      ]
    },
    {
      "cell_type": "code",
      "execution_count": null,
      "id": "1a221339-c973-46f8-9c04-0fece484ddc7",
      "metadata": {
        "id": "1a221339-c973-46f8-9c04-0fece484ddc7"
      },
      "outputs": [],
      "source": [
        "df_TrainTestSplit.head()"
      ]
    },
    {
      "cell_type": "markdown",
      "id": "e0e21faf-b41a-40cb-aca9-fdcdad253528",
      "metadata": {
        "id": "e0e21faf-b41a-40cb-aca9-fdcdad253528"
      },
      "source": [
        "#### Separating Features and Target"
      ]
    },
    {
      "cell_type": "code",
      "execution_count": null,
      "id": "f43a14d6-6c39-49b4-86d8-69b2f49223e2",
      "metadata": {
        "id": "f43a14d6-6c39-49b4-86d8-69b2f49223e2"
      },
      "outputs": [],
      "source": [
        "X = df_TrainTestSplit.drop('delivery_time', axis=1)\n",
        "y = df_TrainTestSplit['delivery_time']\n"
      ]
    },
    {
      "cell_type": "code",
      "execution_count": null,
      "id": "4c7228d6-52be-452e-8d26-854560267042",
      "metadata": {
        "id": "4c7228d6-52be-452e-8d26-854560267042"
      },
      "outputs": [],
      "source": [
        "X.head()"
      ]
    },
    {
      "cell_type": "code",
      "execution_count": null,
      "id": "8dedad86-2d25-4c83-863c-3d3a9314ffe9",
      "metadata": {
        "id": "8dedad86-2d25-4c83-863c-3d3a9314ffe9"
      },
      "outputs": [],
      "source": [
        "y"
      ]
    },
    {
      "cell_type": "code",
      "execution_count": null,
      "id": "9a34dfdd-a295-4ffc-be67-cbaa08d8ef3b",
      "metadata": {
        "id": "9a34dfdd-a295-4ffc-be67-cbaa08d8ef3b"
      },
      "outputs": [],
      "source": [
        "from sklearn.model_selection import train_test_split\n",
        "X_train, X_val, y_train, y_val = train_test_split(X, y,test_size=0.2,random_state=20)"
      ]
    },
    {
      "cell_type": "code",
      "execution_count": null,
      "id": "665a2fe6-cb5d-4eca-925a-a282c8ce1a27",
      "metadata": {
        "id": "665a2fe6-cb5d-4eca-925a-a282c8ce1a27"
      },
      "outputs": [],
      "source": [
        "X_train.head()"
      ]
    },
    {
      "cell_type": "markdown",
      "id": "12625a72-87b8-40d3-93ed-398f664c6853",
      "metadata": {
        "id": "12625a72-87b8-40d3-93ed-398f664c6853"
      },
      "source": [
        "## 3.7 Scaling\n",
        "* Why Feature Scaling is Important:\n",
        "\n",
        "Many machine learning algorithms (like KNN, SVM, Gradient Descent-based models, Neural Networks) compute distances or rely on the magnitude of features. If one feature has a large range and another has a small range, the model might become biased toward the feature with the larger range."
      ]
    },
    {
      "cell_type": "markdown",
      "id": "d536ce5b-e864-4df2-9db1-2b36790cbf33",
      "metadata": {
        "id": "d536ce5b-e864-4df2-9db1-2b36790cbf33"
      },
      "source": [
        "##### Most common techniques:\n",
        "![image.png](attachment:e545afc2-0cd6-44c5-a944-9699a82fbb30.png)\n",
        "![image.png](attachment:78d23bc0-1915-42a6-b681-beae43ee6649.png)"
      ]
    },
    {
      "cell_type": "code",
      "execution_count": null,
      "id": "4089efde-322c-42de-8c0b-1c0c0c2cf2b1",
      "metadata": {
        "id": "4089efde-322c-42de-8c0b-1c0c0c2cf2b1"
      },
      "outputs": [],
      "source": [
        "X_train.columns"
      ]
    },
    {
      "cell_type": "code",
      "execution_count": null,
      "id": "02kU-xr0OGTR",
      "metadata": {
        "id": "02kU-xr0OGTR"
      },
      "outputs": [],
      "source": [
        "cat_cols=['cuisine_type','rating_3', 'rating_4', 'rating_5', 'rating_Not given','day_of_the_week_Weekday', 'day_of_the_week_Weekend']\n",
        "num_cols= ['cost_of_the_order', 'food_preparation_time']"
      ]
    },
    {
      "cell_type": "code",
      "execution_count": null,
      "id": "3dw5MsyPl8LX",
      "metadata": {
        "id": "3dw5MsyPl8LX"
      },
      "outputs": [],
      "source": [
        "df.head()"
      ]
    },
    {
      "cell_type": "code",
      "execution_count": null,
      "id": "26a64c77-a709-4bc3-bb8a-854b80a18528",
      "metadata": {
        "id": "26a64c77-a709-4bc3-bb8a-854b80a18528"
      },
      "outputs": [],
      "source": [
        "# 1. Min-Max Scaling\n",
        "from sklearn.preprocessing import MinMaxScaler\n",
        "MMscaler = MinMaxScaler()\n",
        "Xtrain_scaled_MinMax = MMscaler.fit_transform(X_train[num_cols])\n",
        "Xval_scaled_MinMax = MMscaler.transform(X_val[num_cols])"
      ]
    },
    {
      "cell_type": "code",
      "execution_count": null,
      "id": "7665b726-838e-4212-83e6-e53f0bd90688",
      "metadata": {
        "id": "7665b726-838e-4212-83e6-e53f0bd90688"
      },
      "outputs": [],
      "source": [
        "Xtrain_scaled_MinMax=pd.DataFrame(Xtrain_scaled_MinMax,columns=X_train[num_cols].columns)\n",
        "Xval_scaled_MinMax=pd.DataFrame(Xval_scaled_MinMax,columns=X_val[num_cols].columns)"
      ]
    },
    {
      "cell_type": "code",
      "execution_count": null,
      "id": "047dbecd-26d3-4bf8-9c2c-80058131cded",
      "metadata": {
        "id": "047dbecd-26d3-4bf8-9c2c-80058131cded"
      },
      "outputs": [],
      "source": [
        "Xtrain_scaled_MinMax.head(2)"
      ]
    },
    {
      "cell_type": "code",
      "execution_count": null,
      "id": "ccbe27fd-0527-4583-b9dd-c37f3d95f68b",
      "metadata": {
        "id": "ccbe27fd-0527-4583-b9dd-c37f3d95f68b"
      },
      "outputs": [],
      "source": [
        "# 2. z-score Scaling (standardization)\n",
        "from sklearn.preprocessing import StandardScaler\n",
        "SSscaler = StandardScaler()\n",
        "Xtrain_scaled_StandardScalar = SSscaler.fit_transform(X_train[num_cols])\n",
        "Xval_scaled_StandardScalar = SSscaler.transform(X_val[num_cols])"
      ]
    },
    {
      "cell_type": "code",
      "execution_count": null,
      "id": "8d5ce052-0e56-4d92-8388-4ade2cdb3f6e",
      "metadata": {
        "id": "8d5ce052-0e56-4d92-8388-4ade2cdb3f6e"
      },
      "outputs": [],
      "source": [
        "Xtrain_scaled_StandardScalar=pd.DataFrame(Xtrain_scaled_StandardScalar,columns=X_train[num_cols].columns)\n",
        "Xval_scaled_StandardScalar=pd.DataFrame(Xval_scaled_StandardScalar,columns=X_val[num_cols].columns)"
      ]
    },
    {
      "cell_type": "code",
      "execution_count": null,
      "id": "97cdac67-ef7c-475d-8e99-ae09dce2ca98",
      "metadata": {
        "id": "97cdac67-ef7c-475d-8e99-ae09dce2ca98"
      },
      "outputs": [],
      "source": [
        "Xtrain_scaled_StandardScalar.head()"
      ]
    },
    {
      "cell_type": "code",
      "execution_count": null,
      "id": "avuzJuASoFyD",
      "metadata": {
        "id": "avuzJuASoFyD"
      },
      "outputs": [],
      "source": [
        "cat_cols = [col for col in cat_cols if col in X_train.columns]\n"
      ]
    },
    {
      "cell_type": "code",
      "execution_count": null,
      "id": "0a23d68e-278f-4e4a-9d72-3b99a372eff5",
      "metadata": {
        "id": "0a23d68e-278f-4e4a-9d72-3b99a372eff5"
      },
      "outputs": [],
      "source": [
        "scaled_train=pd.concat([Xtrain_scaled_StandardScalar,X_train[cat_cols]],axis=1)\n",
        "scaled_test=pd.concat([Xval_scaled_StandardScalar,X_val[cat_cols]],axis=1)"
      ]
    },
    {
      "cell_type": "code",
      "execution_count": null,
      "id": "IuloWJygoRJa",
      "metadata": {
        "id": "IuloWJygoRJa"
      },
      "outputs": [],
      "source": [
        "round(Xtrain_scaled_StandardScalar.describe(),2)"
      ]
    },
    {
      "cell_type": "code",
      "execution_count": null,
      "id": "UPLSMMy7oXbF",
      "metadata": {
        "id": "UPLSMMy7oXbF"
      },
      "outputs": [],
      "source": [
        "X_train[num_cols].head(2)"
      ]
    },
    {
      "cell_type": "code",
      "execution_count": null,
      "id": "n_iVWS7iociS",
      "metadata": {
        "id": "n_iVWS7iociS"
      },
      "outputs": [],
      "source": [
        "Xtrain_scaled_StandardScalar.head(2)"
      ]
    },
    {
      "cell_type": "code",
      "execution_count": null,
      "id": "amQlQMjXooEl",
      "metadata": {
        "id": "amQlQMjXooEl"
      },
      "outputs": [],
      "source": [
        "Xtrain_scaled_StandardScalar.shape"
      ]
    },
    {
      "cell_type": "code",
      "execution_count": null,
      "id": "uS9gMF0KooBV",
      "metadata": {
        "id": "uS9gMF0KooBV"
      },
      "outputs": [],
      "source": [
        "X_train[cat_cols].shape"
      ]
    },
    {
      "cell_type": "code",
      "execution_count": null,
      "id": "fViTUzwsozTa",
      "metadata": {
        "id": "fViTUzwsozTa"
      },
      "outputs": [],
      "source": [
        "X_train[cat_cols].reset_index(drop=True)"
      ]
    },
    {
      "cell_type": "code",
      "execution_count": null,
      "id": "CkmxvX85ozQG",
      "metadata": {
        "id": "CkmxvX85ozQG"
      },
      "outputs": [],
      "source": [
        "scaled_train=pd.concat([Xtrain_scaled_StandardScalar,X_train[cat_cols].reset_index(drop=True)],axis=1)\n",
        "scaled_test=pd.concat([Xval_scaled_StandardScalar,X_val[cat_cols].reset_index(drop=True)],axis=1)"
      ]
    },
    {
      "cell_type": "code",
      "execution_count": null,
      "id": "e94c4cd2-cb7d-4082-9d26-77771a51a9cc",
      "metadata": {
        "id": "e94c4cd2-cb7d-4082-9d26-77771a51a9cc"
      },
      "outputs": [],
      "source": [
        "scaled_train.to_csv('Scaled_data_train')\n",
        "scaled_test.to_csv('Scaled_data_val')"
      ]
    },
    {
      "cell_type": "markdown",
      "id": "ac44d043-bfc5-480b-8d77-86b422c9f27b",
      "metadata": {
        "id": "ac44d043-bfc5-480b-8d77-86b422c9f27b"
      },
      "source": [
        "#### Summary Table of most popular methods;\n",
        "| Method          | Range    | Affected by Outliers | Use Case                            |\n",
        "| --------------- | -------- | -------------------- | ----------------------------------- |\n",
        "| Min-Max Scaling | \\[0, 1]  | ✅ Yes                | Image data, bounded values          |\n",
        "| Standardization | \\~N(0,1) | ❌ Less               | Linear models, SVM, Neural Networks |\n",
        "| Robust Scaling  | Depends  | ❌ No                 | Data with outliers                  |\n",
        "| MaxAbs Scaling  | \\[-1, 1] | ❌ Less               | Sparse data (e.g., NLP features)    |\n"
      ]
    },
    {
      "cell_type": "markdown",
      "id": "07NUxdR4pGoJ",
      "metadata": {
        "id": "07NUxdR4pGoJ"
      },
      "source": []
    },
    {
      "cell_type": "markdown",
      "id": "1ffb0167",
      "metadata": {
        "id": "1ffb0167"
      },
      "source": [
        "# 4-Model Building (Regression), Evaluation & Tuning\n",
        "\n",
        "### 4.1 Regression algorithms\n",
        "    * Linear Regression\n",
        "    * KNN\n",
        "    * Decision Trees (CART)\n",
        "    * Random Forest\n",
        "    * Boosting\n",
        "        * Adaboost,\n",
        "        * Gboost,\n",
        "        * XGboost\n",
        "### 4.2 Model Evaluation: Regression metrics: R² & RMSE\n",
        "1. R-squared (R²) — Coefficient of Determination\n",
        "    * What it means:\n",
        "        * Measures how well the model explains the variability in the target variable.\n",
        "        * Value lies between 0 and 1 (can be negative if model performs worse than the mean).\n",
        "    * Interpretation:\n",
        "        * R² = 1 → perfect prediction\n",
        "        * R² = 0 → model is no better than the average\n",
        "        * Higher is better\n",
        "          ![image.png](attachment:e23679fd-3fe1-4ef2-b9e9-1dfed173e585.png)\n",
        "\n",
        "2. RMSE — Root Mean Squared Error\n",
        "    * What it means:\n",
        "        * Measures average prediction error in the same units as the target variable.\n",
        "        * It gives more weight to larger errors.\n",
        "    * Interpretation:\n",
        "        * Lower is better\n",
        "        * Easy to interpret because it’s in the same unit as\n",
        "          ![image.png](attachment:65110f95-03fd-4549-be04-631970e6b345.png)\n",
        "### 4.3 Model Tuning\n",
        "    * GridSearchCV\n",
        "    * Hyper Parameter Tuning\n"
      ]
    },
    {
      "cell_type": "code",
      "execution_count": null,
      "id": "ffb74750",
      "metadata": {
        "id": "ffb74750"
      },
      "outputs": [],
      "source": [
        "import pandas as pd\n",
        "from sklearn.model_selection import train_test_split\n",
        "from sklearn.metrics import mean_squared_error, r2_score\n",
        "from sklearn.linear_model import LinearRegression\n",
        "from sklearn.neighbors import KNeighborsRegressor\n",
        "from sklearn.tree import DecisionTreeRegressor\n",
        "from sklearn.ensemble import RandomForestRegressor, AdaBoostRegressor, GradientBoostingRegressor\n",
        "# pip install xgboost\n",
        "from xgboost import XGBRegressor"
      ]
    },
    {
      "cell_type": "code",
      "source": [
        "# loading the encoded data\n",
        "df_TrainTestSplit= pd.read_csv('df_encoded')\n",
        "\n",
        "#seperating the target variable from rest of the data\n",
        "X = df_TrainTestSplit.drop('delivery_time', axis=1)\n",
        "y = df_TrainTestSplit['delivery_time']\n",
        "\n",
        "# Splitting the data into train & validation set\n",
        "X_train, X_val, y_train, y_val = train_test_split(X, y,test_size=0.2,random_state=20)\n",
        "\n",
        "cat_cols=['cuisine_type','rating_3', 'rating_4', 'rating_5', 'rating_Not given','day_of_the_week_Weekday', 'day_of_the_week_Weekend']\n",
        "num_cols= ['cost_of_the_order', 'food_preparation_time']\n",
        "\n",
        "from sklearn.preprocessing import StandardScaler\n",
        "SSscaler = StandardScaler()\n",
        "Xtrain_scaled_StandardScalar = SSscaler.fit_transform(X_train[num_cols])\n",
        "Xval_scaled_StandardScalar = SSscaler.transform(X_val[num_cols])\n",
        "\n",
        "Xtrain_scaled_StandardScalar=pd.DataFrame(Xtrain_scaled_StandardScalar,columns=X_train[num_cols].columns)\n",
        "Xval_scaled_StandardScalar=pd.DataFrame(Xval_scaled_StandardScalar,columns=X_val[num_cols].columns)\n",
        "\n",
        "scaled_train=pd.concat([Xtrain_scaled_StandardScalar,X_train[cat_cols].reset_index(drop=True)],axis=1)\n",
        "scaled_val=pd.concat([Xval_scaled_StandardScalar,X_val[cat_cols].reset_index(drop=True)],axis=1)"
      ],
      "metadata": {
        "id": "8slzEecPjqlc"
      },
      "id": "8slzEecPjqlc",
      "execution_count": null,
      "outputs": []
    },
    {
      "cell_type": "code",
      "execution_count": null,
      "id": "304102fc-6d73-4c31-b7a5-e9b7ce8875f0",
      "metadata": {
        "id": "304102fc-6d73-4c31-b7a5-e9b7ce8875f0"
      },
      "outputs": [],
      "source": [
        "# loading the datasets\n",
        "df_TrainTestSplit= pd.read_csv('df_encoded')\n",
        "X = df_TrainTestSplit.drop('delivery_time', axis=1)\n",
        "y = df_TrainTestSplit['delivery_time']\n",
        "X_train, X_val, y_train, y_val = train_test_split(X, y,test_size=0.2,random_state=20)\n",
        "x_trainFinal= pd.read_csv('Scaled_data_train')\n",
        "x_valFinal= pd.read_csv('Scaled_data_val')"
      ]
    },
    {
      "cell_type": "code",
      "source": [
        "# Building a Linear regression model\n",
        "LR = LinearRegression()\n",
        "LR.fit(scaled_train,y_train)\n",
        "\n",
        "y_train_pred = LR.predict(scaled_train)\n",
        "y_val_pred = LR.predict(scaled_val)\n",
        "\n",
        "rmse_train = np.sqrt(mean_squared_error(y_train, y_train_pred))\n",
        "r2_train = r2_score(y_train, y_train_pred)\n",
        "\n",
        "rmse_val = np.sqrt(mean_squared_error(y_val, y_val_pred))\n",
        "r2_val = r2_score(y_val, y_val_pred)\n",
        "\n",
        "print(\"Train RMSE\",rmse_train,\"| Train R2\",r2_train)\n",
        "print('Test RMSE',rmse_val,'| Test R2',r2_val)"
      ],
      "metadata": {
        "colab": {
          "base_uri": "https://localhost:8080/"
        },
        "id": "uP6AzgpTk412",
        "outputId": "575135a1-a425-4736-9fc5-9406bad62f36"
      },
      "id": "uP6AzgpTk412",
      "execution_count": null,
      "outputs": [
        {
          "output_type": "stream",
          "name": "stdout",
          "text": [
            "Train RMSE 4.21002122072206 | Train R2 0.289213740241521\n",
            "Test RMSE 4.167355729845208 | Test R2 0.26801189334127273\n"
          ]
        }
      ]
    },
    {
      "cell_type": "code",
      "source": [
        "# Building a knn model\n",
        "knn = KNeighborsRegressor()\n",
        "knn.fit(scaled_train,y_train)\n",
        "y_train_pred = knn.predict(scaled_train)\n",
        "y_val_pred = knn.predict(scaled_val)\n",
        "rmse_train = np.sqrt(mean_squared_error(y_train, y_train_pred))\n",
        "r2_train = r2_score(y_train, y_train_pred)\n",
        "rmse_val = np.sqrt(mean_squared_error(y_val, y_val_pred))\n",
        "r2_val = r2_score(y_val, y_val_pred)\n",
        "print(\"Train RMSE\",rmse_train,\"| Train R2\",r2_train)\n",
        "print('Test RMSE',rmse_val,'| Test R2',r2_val)"
      ],
      "metadata": {
        "colab": {
          "base_uri": "https://localhost:8080/"
        },
        "id": "kANnJOARk8_2",
        "outputId": "43ca5d0b-067e-4582-a886-c6a70e651ba1"
      },
      "id": "kANnJOARk8_2",
      "execution_count": null,
      "outputs": [
        {
          "output_type": "stream",
          "name": "stdout",
          "text": [
            "Train RMSE 3.8128553096922286 | Train R2 0.4169965779217023\n",
            "Test RMSE 4.523436048427183 | Test R2 0.13757807993984772\n"
          ]
        }
      ]
    },
    {
      "cell_type": "code",
      "source": [
        "models = {\n",
        "    \"Linear Regression\": LinearRegression(),\n",
        "    \"KNN\": KNeighborsRegressor(),\n",
        "    \"Decision Tree\": DecisionTreeRegressor(),\n",
        "    \"Random Forest\": RandomForestRegressor(),\n",
        "    \"AdaBoost\": AdaBoostRegressor(),\n",
        "    \"Gradient Boosting\": GradientBoostingRegressor(),\n",
        "    \"XGBoost\": XGBRegressor()\n",
        "}\n",
        "results = []\n",
        "for name, model in models.items():\n",
        "    model.fit(scaled_train, y_train)\n",
        "\n",
        "    # Predictions\n",
        "    y_train_pred = model.predict(scaled_train)\n",
        "    y_val_pred = model.predict(scaled_val)\n",
        "\n",
        "    # Metrics\n",
        "    rmse_train = np.sqrt(mean_squared_error(y_train, y_train_pred))\n",
        "    r2_train = r2_score(y_train, y_train_pred)\n",
        "\n",
        "    rmse_val = np.sqrt(mean_squared_error(y_val, y_val_pred))\n",
        "    r2_val = r2_score(y_val, y_val_pred)\n",
        "\n",
        "    # Store result\n",
        "    results.append({\n",
        "        \"Model\": name,\n",
        "        \"Train_RMSE\": rmse_train,\n",
        "        \"Train_R²\": r2_train,\n",
        "        \"Val_RMSE\": rmse_val,\n",
        "        \"Val_R²\": r2_val\n",
        "    })\n",
        "\n",
        "# Convert to DataFrame\n",
        "results_df = pd.DataFrame(results)\n",
        "\n",
        "# Show results sorted by Validation RMSE\n",
        "results_df"
      ],
      "metadata": {
        "colab": {
          "base_uri": "https://localhost:8080/",
          "height": 269
        },
        "id": "LMaGHBxNlGLD",
        "outputId": "6b2e2317-7770-491b-8f39-8d5a456a8062"
      },
      "id": "LMaGHBxNlGLD",
      "execution_count": null,
      "outputs": [
        {
          "output_type": "execute_result",
          "data": {
            "text/plain": [
              "               Model  Train_RMSE  Train_R²  Val_RMSE    Val_R²\n",
              "0  Linear Regression    4.210021  0.289214  4.167356  0.268012\n",
              "1                KNN    3.812855  0.416997  4.523436  0.137578\n",
              "2      Decision Tree    0.638657  0.983643  5.727932 -0.382861\n",
              "3      Random Forest    1.781177  0.872771  4.545759  0.129045\n",
              "4           AdaBoost    4.183148  0.298259  4.176035  0.264960\n",
              "5  Gradient Boosting    3.894560  0.391743  4.343002  0.205008\n",
              "6            XGBoost    1.780130  0.872921  4.966863 -0.039794"
            ],
            "text/html": [
              "\n",
              "  <div id=\"df-ab6ca961-90cf-4c9d-bbe6-02d45d0b2b38\" class=\"colab-df-container\">\n",
              "    <div>\n",
              "<style scoped>\n",
              "    .dataframe tbody tr th:only-of-type {\n",
              "        vertical-align: middle;\n",
              "    }\n",
              "\n",
              "    .dataframe tbody tr th {\n",
              "        vertical-align: top;\n",
              "    }\n",
              "\n",
              "    .dataframe thead th {\n",
              "        text-align: right;\n",
              "    }\n",
              "</style>\n",
              "<table border=\"1\" class=\"dataframe\">\n",
              "  <thead>\n",
              "    <tr style=\"text-align: right;\">\n",
              "      <th></th>\n",
              "      <th>Model</th>\n",
              "      <th>Train_RMSE</th>\n",
              "      <th>Train_R²</th>\n",
              "      <th>Val_RMSE</th>\n",
              "      <th>Val_R²</th>\n",
              "    </tr>\n",
              "  </thead>\n",
              "  <tbody>\n",
              "    <tr>\n",
              "      <th>0</th>\n",
              "      <td>Linear Regression</td>\n",
              "      <td>4.210021</td>\n",
              "      <td>0.289214</td>\n",
              "      <td>4.167356</td>\n",
              "      <td>0.268012</td>\n",
              "    </tr>\n",
              "    <tr>\n",
              "      <th>1</th>\n",
              "      <td>KNN</td>\n",
              "      <td>3.812855</td>\n",
              "      <td>0.416997</td>\n",
              "      <td>4.523436</td>\n",
              "      <td>0.137578</td>\n",
              "    </tr>\n",
              "    <tr>\n",
              "      <th>2</th>\n",
              "      <td>Decision Tree</td>\n",
              "      <td>0.638657</td>\n",
              "      <td>0.983643</td>\n",
              "      <td>5.727932</td>\n",
              "      <td>-0.382861</td>\n",
              "    </tr>\n",
              "    <tr>\n",
              "      <th>3</th>\n",
              "      <td>Random Forest</td>\n",
              "      <td>1.781177</td>\n",
              "      <td>0.872771</td>\n",
              "      <td>4.545759</td>\n",
              "      <td>0.129045</td>\n",
              "    </tr>\n",
              "    <tr>\n",
              "      <th>4</th>\n",
              "      <td>AdaBoost</td>\n",
              "      <td>4.183148</td>\n",
              "      <td>0.298259</td>\n",
              "      <td>4.176035</td>\n",
              "      <td>0.264960</td>\n",
              "    </tr>\n",
              "    <tr>\n",
              "      <th>5</th>\n",
              "      <td>Gradient Boosting</td>\n",
              "      <td>3.894560</td>\n",
              "      <td>0.391743</td>\n",
              "      <td>4.343002</td>\n",
              "      <td>0.205008</td>\n",
              "    </tr>\n",
              "    <tr>\n",
              "      <th>6</th>\n",
              "      <td>XGBoost</td>\n",
              "      <td>1.780130</td>\n",
              "      <td>0.872921</td>\n",
              "      <td>4.966863</td>\n",
              "      <td>-0.039794</td>\n",
              "    </tr>\n",
              "  </tbody>\n",
              "</table>\n",
              "</div>\n",
              "    <div class=\"colab-df-buttons\">\n",
              "\n",
              "  <div class=\"colab-df-container\">\n",
              "    <button class=\"colab-df-convert\" onclick=\"convertToInteractive('df-ab6ca961-90cf-4c9d-bbe6-02d45d0b2b38')\"\n",
              "            title=\"Convert this dataframe to an interactive table.\"\n",
              "            style=\"display:none;\">\n",
              "\n",
              "  <svg xmlns=\"http://www.w3.org/2000/svg\" height=\"24px\" viewBox=\"0 -960 960 960\">\n",
              "    <path d=\"M120-120v-720h720v720H120Zm60-500h600v-160H180v160Zm220 220h160v-160H400v160Zm0 220h160v-160H400v160ZM180-400h160v-160H180v160Zm440 0h160v-160H620v160ZM180-180h160v-160H180v160Zm440 0h160v-160H620v160Z\"/>\n",
              "  </svg>\n",
              "    </button>\n",
              "\n",
              "  <style>\n",
              "    .colab-df-container {\n",
              "      display:flex;\n",
              "      gap: 12px;\n",
              "    }\n",
              "\n",
              "    .colab-df-convert {\n",
              "      background-color: #E8F0FE;\n",
              "      border: none;\n",
              "      border-radius: 50%;\n",
              "      cursor: pointer;\n",
              "      display: none;\n",
              "      fill: #1967D2;\n",
              "      height: 32px;\n",
              "      padding: 0 0 0 0;\n",
              "      width: 32px;\n",
              "    }\n",
              "\n",
              "    .colab-df-convert:hover {\n",
              "      background-color: #E2EBFA;\n",
              "      box-shadow: 0px 1px 2px rgba(60, 64, 67, 0.3), 0px 1px 3px 1px rgba(60, 64, 67, 0.15);\n",
              "      fill: #174EA6;\n",
              "    }\n",
              "\n",
              "    .colab-df-buttons div {\n",
              "      margin-bottom: 4px;\n",
              "    }\n",
              "\n",
              "    [theme=dark] .colab-df-convert {\n",
              "      background-color: #3B4455;\n",
              "      fill: #D2E3FC;\n",
              "    }\n",
              "\n",
              "    [theme=dark] .colab-df-convert:hover {\n",
              "      background-color: #434B5C;\n",
              "      box-shadow: 0px 1px 3px 1px rgba(0, 0, 0, 0.15);\n",
              "      filter: drop-shadow(0px 1px 2px rgba(0, 0, 0, 0.3));\n",
              "      fill: #FFFFFF;\n",
              "    }\n",
              "  </style>\n",
              "\n",
              "    <script>\n",
              "      const buttonEl =\n",
              "        document.querySelector('#df-ab6ca961-90cf-4c9d-bbe6-02d45d0b2b38 button.colab-df-convert');\n",
              "      buttonEl.style.display =\n",
              "        google.colab.kernel.accessAllowed ? 'block' : 'none';\n",
              "\n",
              "      async function convertToInteractive(key) {\n",
              "        const element = document.querySelector('#df-ab6ca961-90cf-4c9d-bbe6-02d45d0b2b38');\n",
              "        const dataTable =\n",
              "          await google.colab.kernel.invokeFunction('convertToInteractive',\n",
              "                                                    [key], {});\n",
              "        if (!dataTable) return;\n",
              "\n",
              "        const docLinkHtml = 'Like what you see? Visit the ' +\n",
              "          '<a target=\"_blank\" href=https://colab.research.google.com/notebooks/data_table.ipynb>data table notebook</a>'\n",
              "          + ' to learn more about interactive tables.';\n",
              "        element.innerHTML = '';\n",
              "        dataTable['output_type'] = 'display_data';\n",
              "        await google.colab.output.renderOutput(dataTable, element);\n",
              "        const docLink = document.createElement('div');\n",
              "        docLink.innerHTML = docLinkHtml;\n",
              "        element.appendChild(docLink);\n",
              "      }\n",
              "    </script>\n",
              "  </div>\n",
              "\n",
              "\n",
              "    <div id=\"df-e12c321a-f4f1-4970-9762-530eed45a18a\">\n",
              "      <button class=\"colab-df-quickchart\" onclick=\"quickchart('df-e12c321a-f4f1-4970-9762-530eed45a18a')\"\n",
              "                title=\"Suggest charts\"\n",
              "                style=\"display:none;\">\n",
              "\n",
              "<svg xmlns=\"http://www.w3.org/2000/svg\" height=\"24px\"viewBox=\"0 0 24 24\"\n",
              "     width=\"24px\">\n",
              "    <g>\n",
              "        <path d=\"M19 3H5c-1.1 0-2 .9-2 2v14c0 1.1.9 2 2 2h14c1.1 0 2-.9 2-2V5c0-1.1-.9-2-2-2zM9 17H7v-7h2v7zm4 0h-2V7h2v10zm4 0h-2v-4h2v4z\"/>\n",
              "    </g>\n",
              "</svg>\n",
              "      </button>\n",
              "\n",
              "<style>\n",
              "  .colab-df-quickchart {\n",
              "      --bg-color: #E8F0FE;\n",
              "      --fill-color: #1967D2;\n",
              "      --hover-bg-color: #E2EBFA;\n",
              "      --hover-fill-color: #174EA6;\n",
              "      --disabled-fill-color: #AAA;\n",
              "      --disabled-bg-color: #DDD;\n",
              "  }\n",
              "\n",
              "  [theme=dark] .colab-df-quickchart {\n",
              "      --bg-color: #3B4455;\n",
              "      --fill-color: #D2E3FC;\n",
              "      --hover-bg-color: #434B5C;\n",
              "      --hover-fill-color: #FFFFFF;\n",
              "      --disabled-bg-color: #3B4455;\n",
              "      --disabled-fill-color: #666;\n",
              "  }\n",
              "\n",
              "  .colab-df-quickchart {\n",
              "    background-color: var(--bg-color);\n",
              "    border: none;\n",
              "    border-radius: 50%;\n",
              "    cursor: pointer;\n",
              "    display: none;\n",
              "    fill: var(--fill-color);\n",
              "    height: 32px;\n",
              "    padding: 0;\n",
              "    width: 32px;\n",
              "  }\n",
              "\n",
              "  .colab-df-quickchart:hover {\n",
              "    background-color: var(--hover-bg-color);\n",
              "    box-shadow: 0 1px 2px rgba(60, 64, 67, 0.3), 0 1px 3px 1px rgba(60, 64, 67, 0.15);\n",
              "    fill: var(--button-hover-fill-color);\n",
              "  }\n",
              "\n",
              "  .colab-df-quickchart-complete:disabled,\n",
              "  .colab-df-quickchart-complete:disabled:hover {\n",
              "    background-color: var(--disabled-bg-color);\n",
              "    fill: var(--disabled-fill-color);\n",
              "    box-shadow: none;\n",
              "  }\n",
              "\n",
              "  .colab-df-spinner {\n",
              "    border: 2px solid var(--fill-color);\n",
              "    border-color: transparent;\n",
              "    border-bottom-color: var(--fill-color);\n",
              "    animation:\n",
              "      spin 1s steps(1) infinite;\n",
              "  }\n",
              "\n",
              "  @keyframes spin {\n",
              "    0% {\n",
              "      border-color: transparent;\n",
              "      border-bottom-color: var(--fill-color);\n",
              "      border-left-color: var(--fill-color);\n",
              "    }\n",
              "    20% {\n",
              "      border-color: transparent;\n",
              "      border-left-color: var(--fill-color);\n",
              "      border-top-color: var(--fill-color);\n",
              "    }\n",
              "    30% {\n",
              "      border-color: transparent;\n",
              "      border-left-color: var(--fill-color);\n",
              "      border-top-color: var(--fill-color);\n",
              "      border-right-color: var(--fill-color);\n",
              "    }\n",
              "    40% {\n",
              "      border-color: transparent;\n",
              "      border-right-color: var(--fill-color);\n",
              "      border-top-color: var(--fill-color);\n",
              "    }\n",
              "    60% {\n",
              "      border-color: transparent;\n",
              "      border-right-color: var(--fill-color);\n",
              "    }\n",
              "    80% {\n",
              "      border-color: transparent;\n",
              "      border-right-color: var(--fill-color);\n",
              "      border-bottom-color: var(--fill-color);\n",
              "    }\n",
              "    90% {\n",
              "      border-color: transparent;\n",
              "      border-bottom-color: var(--fill-color);\n",
              "    }\n",
              "  }\n",
              "</style>\n",
              "\n",
              "      <script>\n",
              "        async function quickchart(key) {\n",
              "          const quickchartButtonEl =\n",
              "            document.querySelector('#' + key + ' button');\n",
              "          quickchartButtonEl.disabled = true;  // To prevent multiple clicks.\n",
              "          quickchartButtonEl.classList.add('colab-df-spinner');\n",
              "          try {\n",
              "            const charts = await google.colab.kernel.invokeFunction(\n",
              "                'suggestCharts', [key], {});\n",
              "          } catch (error) {\n",
              "            console.error('Error during call to suggestCharts:', error);\n",
              "          }\n",
              "          quickchartButtonEl.classList.remove('colab-df-spinner');\n",
              "          quickchartButtonEl.classList.add('colab-df-quickchart-complete');\n",
              "        }\n",
              "        (() => {\n",
              "          let quickchartButtonEl =\n",
              "            document.querySelector('#df-e12c321a-f4f1-4970-9762-530eed45a18a button');\n",
              "          quickchartButtonEl.style.display =\n",
              "            google.colab.kernel.accessAllowed ? 'block' : 'none';\n",
              "        })();\n",
              "      </script>\n",
              "    </div>\n",
              "\n",
              "  <div id=\"id_3e1e5834-9c2f-4d5a-84bd-54ad6b9d1499\">\n",
              "    <style>\n",
              "      .colab-df-generate {\n",
              "        background-color: #E8F0FE;\n",
              "        border: none;\n",
              "        border-radius: 50%;\n",
              "        cursor: pointer;\n",
              "        display: none;\n",
              "        fill: #1967D2;\n",
              "        height: 32px;\n",
              "        padding: 0 0 0 0;\n",
              "        width: 32px;\n",
              "      }\n",
              "\n",
              "      .colab-df-generate:hover {\n",
              "        background-color: #E2EBFA;\n",
              "        box-shadow: 0px 1px 2px rgba(60, 64, 67, 0.3), 0px 1px 3px 1px rgba(60, 64, 67, 0.15);\n",
              "        fill: #174EA6;\n",
              "      }\n",
              "\n",
              "      [theme=dark] .colab-df-generate {\n",
              "        background-color: #3B4455;\n",
              "        fill: #D2E3FC;\n",
              "      }\n",
              "\n",
              "      [theme=dark] .colab-df-generate:hover {\n",
              "        background-color: #434B5C;\n",
              "        box-shadow: 0px 1px 3px 1px rgba(0, 0, 0, 0.15);\n",
              "        filter: drop-shadow(0px 1px 2px rgba(0, 0, 0, 0.3));\n",
              "        fill: #FFFFFF;\n",
              "      }\n",
              "    </style>\n",
              "    <button class=\"colab-df-generate\" onclick=\"generateWithVariable('results_df')\"\n",
              "            title=\"Generate code using this dataframe.\"\n",
              "            style=\"display:none;\">\n",
              "\n",
              "  <svg xmlns=\"http://www.w3.org/2000/svg\" height=\"24px\"viewBox=\"0 0 24 24\"\n",
              "       width=\"24px\">\n",
              "    <path d=\"M7,19H8.4L18.45,9,17,7.55,7,17.6ZM5,21V16.75L18.45,3.32a2,2,0,0,1,2.83,0l1.4,1.43a1.91,1.91,0,0,1,.58,1.4,1.91,1.91,0,0,1-.58,1.4L9.25,21ZM18.45,9,17,7.55Zm-12,3A5.31,5.31,0,0,0,4.9,8.1,5.31,5.31,0,0,0,1,6.5,5.31,5.31,0,0,0,4.9,4.9,5.31,5.31,0,0,0,6.5,1,5.31,5.31,0,0,0,8.1,4.9,5.31,5.31,0,0,0,12,6.5,5.46,5.46,0,0,0,6.5,12Z\"/>\n",
              "  </svg>\n",
              "    </button>\n",
              "    <script>\n",
              "      (() => {\n",
              "      const buttonEl =\n",
              "        document.querySelector('#id_3e1e5834-9c2f-4d5a-84bd-54ad6b9d1499 button.colab-df-generate');\n",
              "      buttonEl.style.display =\n",
              "        google.colab.kernel.accessAllowed ? 'block' : 'none';\n",
              "\n",
              "      buttonEl.onclick = () => {\n",
              "        google.colab.notebook.generateWithVariable('results_df');\n",
              "      }\n",
              "      })();\n",
              "    </script>\n",
              "  </div>\n",
              "\n",
              "    </div>\n",
              "  </div>\n"
            ],
            "application/vnd.google.colaboratory.intrinsic+json": {
              "type": "dataframe",
              "variable_name": "results_df",
              "summary": "{\n  \"name\": \"results_df\",\n  \"rows\": 7,\n  \"fields\": [\n    {\n      \"column\": \"Model\",\n      \"properties\": {\n        \"dtype\": \"string\",\n        \"num_unique_values\": 7,\n        \"samples\": [\n          \"Linear Regression\",\n          \"KNN\",\n          \"Gradient Boosting\"\n        ],\n        \"semantic_type\": \"\",\n        \"description\": \"\"\n      }\n    },\n    {\n      \"column\": \"Train_RMSE\",\n      \"properties\": {\n        \"dtype\": \"number\",\n        \"std\": 1.4608572184739277,\n        \"min\": 0.6386573256624479,\n        \"max\": 4.21002122072206,\n        \"num_unique_values\": 7,\n        \"samples\": [\n          4.21002122072206,\n          3.8128553096922286,\n          3.8945601777112584\n        ],\n        \"semantic_type\": \"\",\n        \"description\": \"\"\n      }\n    },\n    {\n      \"column\": \"Train_R\\u00b2\",\n      \"properties\": {\n        \"dtype\": \"number\",\n        \"std\": 0.3054442645046636,\n        \"min\": 0.289213740241521,\n        \"max\": 0.9836429022069721,\n        \"num_unique_values\": 7,\n        \"samples\": [\n          0.289213740241521,\n          0.4169965779217023,\n          0.39174275341466336\n        ],\n        \"semantic_type\": \"\",\n        \"description\": \"\"\n      }\n    },\n    {\n      \"column\": \"Val_RMSE\",\n      \"properties\": {\n        \"dtype\": \"number\",\n        \"std\": 0.5537211733732491,\n        \"min\": 4.167355729845208,\n        \"max\": 5.727932482695286,\n        \"num_unique_values\": 7,\n        \"samples\": [\n          4.167355729845208,\n          4.523436048427183,\n          4.343002228836442\n        ],\n        \"semantic_type\": \"\",\n        \"description\": \"\"\n      }\n    },\n    {\n      \"column\": \"Val_R\\u00b2\",\n      \"properties\": {\n        \"dtype\": \"number\",\n        \"std\": 0.23073377529280842,\n        \"min\": -0.3828614094202645,\n        \"max\": 0.26801189334127273,\n        \"num_unique_values\": 7,\n        \"samples\": [\n          0.26801189334127273,\n          0.13757807993984772,\n          0.20500759166510607\n        ],\n        \"semantic_type\": \"\",\n        \"description\": \"\"\n      }\n    }\n  ]\n}"
            }
          },
          "metadata": {},
          "execution_count": 192
        }
      ]
    },
    {
      "cell_type": "code",
      "execution_count": null,
      "id": "ncgEyS5lpheh",
      "metadata": {
        "id": "ncgEyS5lpheh"
      },
      "outputs": [],
      "source": [
        "knn = KNeighborsRegressor()"
      ]
    },
    {
      "cell_type": "code",
      "execution_count": null,
      "id": "b8ec3d2f-1c14-4e31-8a05-5f6226b2bbe1",
      "metadata": {
        "id": "b8ec3d2f-1c14-4e31-8a05-5f6226b2bbe1",
        "colab": {
          "base_uri": "https://localhost:8080/",
          "height": 269
        },
        "outputId": "0f0924fa-7fff-44e9-f2c7-b80a1f67607d"
      },
      "outputs": [
        {
          "output_type": "execute_result",
          "data": {
            "text/plain": [
              "               Model  CV_RMSE_(Train)  Val_RMSE  CV_R²_(Train)    Val_R²\n",
              "0  Linear Regression         4.228807  4.167356       0.279375  0.268012\n",
              "1                KNN         4.646412  4.523436       0.129763  0.137578\n",
              "2      Decision Tree         6.123984  5.710505      -0.474075 -0.374459\n",
              "3      Random Forest         4.551052  4.512561       0.163101  0.141720\n",
              "4           AdaBoost         4.219715  4.131701       0.277189  0.280484\n",
              "5  Gradient Boosting         4.272118  4.342638       0.264227  0.205141\n",
              "6            XGBoost         5.045300  4.966863      -0.027037 -0.039794"
            ],
            "text/html": [
              "\n",
              "  <div id=\"df-701675b3-6417-4723-8e74-891ace42462f\" class=\"colab-df-container\">\n",
              "    <div>\n",
              "<style scoped>\n",
              "    .dataframe tbody tr th:only-of-type {\n",
              "        vertical-align: middle;\n",
              "    }\n",
              "\n",
              "    .dataframe tbody tr th {\n",
              "        vertical-align: top;\n",
              "    }\n",
              "\n",
              "    .dataframe thead th {\n",
              "        text-align: right;\n",
              "    }\n",
              "</style>\n",
              "<table border=\"1\" class=\"dataframe\">\n",
              "  <thead>\n",
              "    <tr style=\"text-align: right;\">\n",
              "      <th></th>\n",
              "      <th>Model</th>\n",
              "      <th>CV_RMSE_(Train)</th>\n",
              "      <th>Val_RMSE</th>\n",
              "      <th>CV_R²_(Train)</th>\n",
              "      <th>Val_R²</th>\n",
              "    </tr>\n",
              "  </thead>\n",
              "  <tbody>\n",
              "    <tr>\n",
              "      <th>0</th>\n",
              "      <td>Linear Regression</td>\n",
              "      <td>4.228807</td>\n",
              "      <td>4.167356</td>\n",
              "      <td>0.279375</td>\n",
              "      <td>0.268012</td>\n",
              "    </tr>\n",
              "    <tr>\n",
              "      <th>1</th>\n",
              "      <td>KNN</td>\n",
              "      <td>4.646412</td>\n",
              "      <td>4.523436</td>\n",
              "      <td>0.129763</td>\n",
              "      <td>0.137578</td>\n",
              "    </tr>\n",
              "    <tr>\n",
              "      <th>2</th>\n",
              "      <td>Decision Tree</td>\n",
              "      <td>6.123984</td>\n",
              "      <td>5.710505</td>\n",
              "      <td>-0.474075</td>\n",
              "      <td>-0.374459</td>\n",
              "    </tr>\n",
              "    <tr>\n",
              "      <th>3</th>\n",
              "      <td>Random Forest</td>\n",
              "      <td>4.551052</td>\n",
              "      <td>4.512561</td>\n",
              "      <td>0.163101</td>\n",
              "      <td>0.141720</td>\n",
              "    </tr>\n",
              "    <tr>\n",
              "      <th>4</th>\n",
              "      <td>AdaBoost</td>\n",
              "      <td>4.219715</td>\n",
              "      <td>4.131701</td>\n",
              "      <td>0.277189</td>\n",
              "      <td>0.280484</td>\n",
              "    </tr>\n",
              "    <tr>\n",
              "      <th>5</th>\n",
              "      <td>Gradient Boosting</td>\n",
              "      <td>4.272118</td>\n",
              "      <td>4.342638</td>\n",
              "      <td>0.264227</td>\n",
              "      <td>0.205141</td>\n",
              "    </tr>\n",
              "    <tr>\n",
              "      <th>6</th>\n",
              "      <td>XGBoost</td>\n",
              "      <td>5.045300</td>\n",
              "      <td>4.966863</td>\n",
              "      <td>-0.027037</td>\n",
              "      <td>-0.039794</td>\n",
              "    </tr>\n",
              "  </tbody>\n",
              "</table>\n",
              "</div>\n",
              "    <div class=\"colab-df-buttons\">\n",
              "\n",
              "  <div class=\"colab-df-container\">\n",
              "    <button class=\"colab-df-convert\" onclick=\"convertToInteractive('df-701675b3-6417-4723-8e74-891ace42462f')\"\n",
              "            title=\"Convert this dataframe to an interactive table.\"\n",
              "            style=\"display:none;\">\n",
              "\n",
              "  <svg xmlns=\"http://www.w3.org/2000/svg\" height=\"24px\" viewBox=\"0 -960 960 960\">\n",
              "    <path d=\"M120-120v-720h720v720H120Zm60-500h600v-160H180v160Zm220 220h160v-160H400v160Zm0 220h160v-160H400v160ZM180-400h160v-160H180v160Zm440 0h160v-160H620v160ZM180-180h160v-160H180v160Zm440 0h160v-160H620v160Z\"/>\n",
              "  </svg>\n",
              "    </button>\n",
              "\n",
              "  <style>\n",
              "    .colab-df-container {\n",
              "      display:flex;\n",
              "      gap: 12px;\n",
              "    }\n",
              "\n",
              "    .colab-df-convert {\n",
              "      background-color: #E8F0FE;\n",
              "      border: none;\n",
              "      border-radius: 50%;\n",
              "      cursor: pointer;\n",
              "      display: none;\n",
              "      fill: #1967D2;\n",
              "      height: 32px;\n",
              "      padding: 0 0 0 0;\n",
              "      width: 32px;\n",
              "    }\n",
              "\n",
              "    .colab-df-convert:hover {\n",
              "      background-color: #E2EBFA;\n",
              "      box-shadow: 0px 1px 2px rgba(60, 64, 67, 0.3), 0px 1px 3px 1px rgba(60, 64, 67, 0.15);\n",
              "      fill: #174EA6;\n",
              "    }\n",
              "\n",
              "    .colab-df-buttons div {\n",
              "      margin-bottom: 4px;\n",
              "    }\n",
              "\n",
              "    [theme=dark] .colab-df-convert {\n",
              "      background-color: #3B4455;\n",
              "      fill: #D2E3FC;\n",
              "    }\n",
              "\n",
              "    [theme=dark] .colab-df-convert:hover {\n",
              "      background-color: #434B5C;\n",
              "      box-shadow: 0px 1px 3px 1px rgba(0, 0, 0, 0.15);\n",
              "      filter: drop-shadow(0px 1px 2px rgba(0, 0, 0, 0.3));\n",
              "      fill: #FFFFFF;\n",
              "    }\n",
              "  </style>\n",
              "\n",
              "    <script>\n",
              "      const buttonEl =\n",
              "        document.querySelector('#df-701675b3-6417-4723-8e74-891ace42462f button.colab-df-convert');\n",
              "      buttonEl.style.display =\n",
              "        google.colab.kernel.accessAllowed ? 'block' : 'none';\n",
              "\n",
              "      async function convertToInteractive(key) {\n",
              "        const element = document.querySelector('#df-701675b3-6417-4723-8e74-891ace42462f');\n",
              "        const dataTable =\n",
              "          await google.colab.kernel.invokeFunction('convertToInteractive',\n",
              "                                                    [key], {});\n",
              "        if (!dataTable) return;\n",
              "\n",
              "        const docLinkHtml = 'Like what you see? Visit the ' +\n",
              "          '<a target=\"_blank\" href=https://colab.research.google.com/notebooks/data_table.ipynb>data table notebook</a>'\n",
              "          + ' to learn more about interactive tables.';\n",
              "        element.innerHTML = '';\n",
              "        dataTable['output_type'] = 'display_data';\n",
              "        await google.colab.output.renderOutput(dataTable, element);\n",
              "        const docLink = document.createElement('div');\n",
              "        docLink.innerHTML = docLinkHtml;\n",
              "        element.appendChild(docLink);\n",
              "      }\n",
              "    </script>\n",
              "  </div>\n",
              "\n",
              "\n",
              "    <div id=\"df-9f83a308-d681-482a-a830-a449b5ef4888\">\n",
              "      <button class=\"colab-df-quickchart\" onclick=\"quickchart('df-9f83a308-d681-482a-a830-a449b5ef4888')\"\n",
              "                title=\"Suggest charts\"\n",
              "                style=\"display:none;\">\n",
              "\n",
              "<svg xmlns=\"http://www.w3.org/2000/svg\" height=\"24px\"viewBox=\"0 0 24 24\"\n",
              "     width=\"24px\">\n",
              "    <g>\n",
              "        <path d=\"M19 3H5c-1.1 0-2 .9-2 2v14c0 1.1.9 2 2 2h14c1.1 0 2-.9 2-2V5c0-1.1-.9-2-2-2zM9 17H7v-7h2v7zm4 0h-2V7h2v10zm4 0h-2v-4h2v4z\"/>\n",
              "    </g>\n",
              "</svg>\n",
              "      </button>\n",
              "\n",
              "<style>\n",
              "  .colab-df-quickchart {\n",
              "      --bg-color: #E8F0FE;\n",
              "      --fill-color: #1967D2;\n",
              "      --hover-bg-color: #E2EBFA;\n",
              "      --hover-fill-color: #174EA6;\n",
              "      --disabled-fill-color: #AAA;\n",
              "      --disabled-bg-color: #DDD;\n",
              "  }\n",
              "\n",
              "  [theme=dark] .colab-df-quickchart {\n",
              "      --bg-color: #3B4455;\n",
              "      --fill-color: #D2E3FC;\n",
              "      --hover-bg-color: #434B5C;\n",
              "      --hover-fill-color: #FFFFFF;\n",
              "      --disabled-bg-color: #3B4455;\n",
              "      --disabled-fill-color: #666;\n",
              "  }\n",
              "\n",
              "  .colab-df-quickchart {\n",
              "    background-color: var(--bg-color);\n",
              "    border: none;\n",
              "    border-radius: 50%;\n",
              "    cursor: pointer;\n",
              "    display: none;\n",
              "    fill: var(--fill-color);\n",
              "    height: 32px;\n",
              "    padding: 0;\n",
              "    width: 32px;\n",
              "  }\n",
              "\n",
              "  .colab-df-quickchart:hover {\n",
              "    background-color: var(--hover-bg-color);\n",
              "    box-shadow: 0 1px 2px rgba(60, 64, 67, 0.3), 0 1px 3px 1px rgba(60, 64, 67, 0.15);\n",
              "    fill: var(--button-hover-fill-color);\n",
              "  }\n",
              "\n",
              "  .colab-df-quickchart-complete:disabled,\n",
              "  .colab-df-quickchart-complete:disabled:hover {\n",
              "    background-color: var(--disabled-bg-color);\n",
              "    fill: var(--disabled-fill-color);\n",
              "    box-shadow: none;\n",
              "  }\n",
              "\n",
              "  .colab-df-spinner {\n",
              "    border: 2px solid var(--fill-color);\n",
              "    border-color: transparent;\n",
              "    border-bottom-color: var(--fill-color);\n",
              "    animation:\n",
              "      spin 1s steps(1) infinite;\n",
              "  }\n",
              "\n",
              "  @keyframes spin {\n",
              "    0% {\n",
              "      border-color: transparent;\n",
              "      border-bottom-color: var(--fill-color);\n",
              "      border-left-color: var(--fill-color);\n",
              "    }\n",
              "    20% {\n",
              "      border-color: transparent;\n",
              "      border-left-color: var(--fill-color);\n",
              "      border-top-color: var(--fill-color);\n",
              "    }\n",
              "    30% {\n",
              "      border-color: transparent;\n",
              "      border-left-color: var(--fill-color);\n",
              "      border-top-color: var(--fill-color);\n",
              "      border-right-color: var(--fill-color);\n",
              "    }\n",
              "    40% {\n",
              "      border-color: transparent;\n",
              "      border-right-color: var(--fill-color);\n",
              "      border-top-color: var(--fill-color);\n",
              "    }\n",
              "    60% {\n",
              "      border-color: transparent;\n",
              "      border-right-color: var(--fill-color);\n",
              "    }\n",
              "    80% {\n",
              "      border-color: transparent;\n",
              "      border-right-color: var(--fill-color);\n",
              "      border-bottom-color: var(--fill-color);\n",
              "    }\n",
              "    90% {\n",
              "      border-color: transparent;\n",
              "      border-bottom-color: var(--fill-color);\n",
              "    }\n",
              "  }\n",
              "</style>\n",
              "\n",
              "      <script>\n",
              "        async function quickchart(key) {\n",
              "          const quickchartButtonEl =\n",
              "            document.querySelector('#' + key + ' button');\n",
              "          quickchartButtonEl.disabled = true;  // To prevent multiple clicks.\n",
              "          quickchartButtonEl.classList.add('colab-df-spinner');\n",
              "          try {\n",
              "            const charts = await google.colab.kernel.invokeFunction(\n",
              "                'suggestCharts', [key], {});\n",
              "          } catch (error) {\n",
              "            console.error('Error during call to suggestCharts:', error);\n",
              "          }\n",
              "          quickchartButtonEl.classList.remove('colab-df-spinner');\n",
              "          quickchartButtonEl.classList.add('colab-df-quickchart-complete');\n",
              "        }\n",
              "        (() => {\n",
              "          let quickchartButtonEl =\n",
              "            document.querySelector('#df-9f83a308-d681-482a-a830-a449b5ef4888 button');\n",
              "          quickchartButtonEl.style.display =\n",
              "            google.colab.kernel.accessAllowed ? 'block' : 'none';\n",
              "        })();\n",
              "      </script>\n",
              "    </div>\n",
              "\n",
              "  <div id=\"id_c1cbc4eb-990f-4415-ad23-dc7967a578c2\">\n",
              "    <style>\n",
              "      .colab-df-generate {\n",
              "        background-color: #E8F0FE;\n",
              "        border: none;\n",
              "        border-radius: 50%;\n",
              "        cursor: pointer;\n",
              "        display: none;\n",
              "        fill: #1967D2;\n",
              "        height: 32px;\n",
              "        padding: 0 0 0 0;\n",
              "        width: 32px;\n",
              "      }\n",
              "\n",
              "      .colab-df-generate:hover {\n",
              "        background-color: #E2EBFA;\n",
              "        box-shadow: 0px 1px 2px rgba(60, 64, 67, 0.3), 0px 1px 3px 1px rgba(60, 64, 67, 0.15);\n",
              "        fill: #174EA6;\n",
              "      }\n",
              "\n",
              "      [theme=dark] .colab-df-generate {\n",
              "        background-color: #3B4455;\n",
              "        fill: #D2E3FC;\n",
              "      }\n",
              "\n",
              "      [theme=dark] .colab-df-generate:hover {\n",
              "        background-color: #434B5C;\n",
              "        box-shadow: 0px 1px 3px 1px rgba(0, 0, 0, 0.15);\n",
              "        filter: drop-shadow(0px 1px 2px rgba(0, 0, 0, 0.3));\n",
              "        fill: #FFFFFF;\n",
              "      }\n",
              "    </style>\n",
              "    <button class=\"colab-df-generate\" onclick=\"generateWithVariable('results_df')\"\n",
              "            title=\"Generate code using this dataframe.\"\n",
              "            style=\"display:none;\">\n",
              "\n",
              "  <svg xmlns=\"http://www.w3.org/2000/svg\" height=\"24px\"viewBox=\"0 0 24 24\"\n",
              "       width=\"24px\">\n",
              "    <path d=\"M7,19H8.4L18.45,9,17,7.55,7,17.6ZM5,21V16.75L18.45,3.32a2,2,0,0,1,2.83,0l1.4,1.43a1.91,1.91,0,0,1,.58,1.4,1.91,1.91,0,0,1-.58,1.4L9.25,21ZM18.45,9,17,7.55Zm-12,3A5.31,5.31,0,0,0,4.9,8.1,5.31,5.31,0,0,0,1,6.5,5.31,5.31,0,0,0,4.9,4.9,5.31,5.31,0,0,0,6.5,1,5.31,5.31,0,0,0,8.1,4.9,5.31,5.31,0,0,0,12,6.5,5.46,5.46,0,0,0,6.5,12Z\"/>\n",
              "  </svg>\n",
              "    </button>\n",
              "    <script>\n",
              "      (() => {\n",
              "      const buttonEl =\n",
              "        document.querySelector('#id_c1cbc4eb-990f-4415-ad23-dc7967a578c2 button.colab-df-generate');\n",
              "      buttonEl.style.display =\n",
              "        google.colab.kernel.accessAllowed ? 'block' : 'none';\n",
              "\n",
              "      buttonEl.onclick = () => {\n",
              "        google.colab.notebook.generateWithVariable('results_df');\n",
              "      }\n",
              "      })();\n",
              "    </script>\n",
              "  </div>\n",
              "\n",
              "    </div>\n",
              "  </div>\n"
            ],
            "application/vnd.google.colaboratory.intrinsic+json": {
              "type": "dataframe",
              "variable_name": "results_df",
              "summary": "{\n  \"name\": \"results_df\",\n  \"rows\": 7,\n  \"fields\": [\n    {\n      \"column\": \"Model\",\n      \"properties\": {\n        \"dtype\": \"string\",\n        \"num_unique_values\": 7,\n        \"samples\": [\n          \"Linear Regression\",\n          \"KNN\",\n          \"Gradient Boosting\"\n        ],\n        \"semantic_type\": \"\",\n        \"description\": \"\"\n      }\n    },\n    {\n      \"column\": \"CV_RMSE_(Train)\",\n      \"properties\": {\n        \"dtype\": \"number\",\n        \"std\": 0.683469386329613,\n        \"min\": 4.219715162467926,\n        \"max\": 6.123983786529028,\n        \"num_unique_values\": 7,\n        \"samples\": [\n          4.228806931516723,\n          4.646411785579835,\n          4.272117918717436\n        ],\n        \"semantic_type\": \"\",\n        \"description\": \"\"\n      }\n    },\n    {\n      \"column\": \"Val_RMSE\",\n      \"properties\": {\n        \"dtype\": \"number\",\n        \"std\": 0.5553681849368077,\n        \"min\": 4.131701075027947,\n        \"max\": 5.710505093339172,\n        \"num_unique_values\": 7,\n        \"samples\": [\n          4.167355729845208,\n          4.523436048427183,\n          4.342637707283705\n        ],\n        \"semantic_type\": \"\",\n        \"description\": \"\"\n      }\n    },\n    {\n      \"column\": \"CV_R\\u00b2_(Train)\",\n      \"properties\": {\n        \"dtype\": \"number\",\n        \"std\": 0.2708065166071426,\n        \"min\": -0.4740750513468461,\n        \"max\": 0.2793752434563167,\n        \"num_unique_values\": 7,\n        \"samples\": [\n          0.2793752434563167,\n          0.12976277219589322,\n          0.26422657882246636\n        ],\n        \"semantic_type\": \"\",\n        \"description\": \"\"\n      }\n    },\n    {\n      \"column\": \"Val_R\\u00b2\",\n      \"properties\": {\n        \"dtype\": \"number\",\n        \"std\": 0.23047739951214224,\n        \"min\": -0.3744594241173902,\n        \"max\": 0.2804836563720541,\n        \"num_unique_values\": 7,\n        \"samples\": [\n          0.26801189334127273,\n          0.13757807993984772,\n          0.20514103838710585\n        ],\n        \"semantic_type\": \"\",\n        \"description\": \"\"\n      }\n    }\n  ]\n}"
            }
          },
          "metadata": {},
          "execution_count": 194
        }
      ],
      "source": [
        "from sklearn.model_selection import cross_val_score, KFold\n",
        "cv = KFold(n_splits=5, shuffle=True, random_state=42)\n",
        "\n",
        "# Store results\n",
        "results = []\n",
        "\n",
        "for name, model in models.items():\n",
        "    # Cross-validation scores (negative RMSE)\n",
        "    neg_mse_scores = cross_val_score(model, scaled_train, y_train, scoring='neg_root_mean_squared_error', cv=cv)\n",
        "    r2_scores = cross_val_score(model, scaled_train, y_train, scoring='r2', cv=cv)\n",
        "\n",
        "    cv_rmse_mean = -np.mean(neg_mse_scores)\n",
        "    cv_r2_mean = np.mean(r2_scores)\n",
        "\n",
        "    # Train model on full training data\n",
        "    model.fit(scaled_train, y_train)\n",
        "\n",
        "    # Predict on validation set\n",
        "    y_val_pred = model.predict(scaled_val)\n",
        "\n",
        "    val_rmse = np.sqrt(mean_squared_error(y_val, y_val_pred))\n",
        "    val_r2 = r2_score(y_val, y_val_pred)\n",
        "\n",
        "    results.append({\n",
        "        \"Model\": name,\n",
        "        \"CV_RMSE_(Train)\": cv_rmse_mean,\n",
        "        \"Val_RMSE\": val_rmse,\n",
        "        \"CV_R²_(Train)\": cv_r2_mean,\n",
        "        \"Val_R²\": val_r2\n",
        "    })\n",
        "\n",
        "# Display final results\n",
        "results_df = pd.DataFrame(results)\n",
        "results_df"
      ]
    },
    {
      "cell_type": "code",
      "execution_count": null,
      "id": "xCNXMYpW6MW3",
      "metadata": {
        "id": "xCNXMYpW6MW3",
        "colab": {
          "base_uri": "https://localhost:8080/"
        },
        "outputId": "04616824-e006-48a7-8761-0ddb4037cc88"
      },
      "outputs": [
        {
          "output_type": "stream",
          "name": "stdout",
          "text": [
            "Fitting 5 folds for each of 6 candidates, totalling 30 fits\n",
            "Best Hyperparameters for Ridge Regression:\n",
            "{'alpha': 10}\n",
            "\n",
            "Performance Metrics:\n",
            "Train RMSE: 4.2102\n",
            "Train R²   : 0.2891\n",
            "Val RMSE   : 4.1656\n",
            "Val R²     : 0.2686\n"
          ]
        }
      ],
      "source": [
        "from sklearn.linear_model import Ridge\n",
        "from sklearn.model_selection import GridSearchCV\n",
        "from sklearn.metrics import mean_squared_error, r2_score\n",
        "import numpy as np\n",
        "\n",
        "# Define the model\n",
        "ridge_model = Ridge()\n",
        "\n",
        "# Define hyperparameter grid for Ridge\n",
        "param_grid = {\n",
        "    \"alpha\": [0.001, 0.01, 0.1, 1, 10, 100]  # Regularization strength\n",
        "}\n",
        "\n",
        "# GridSearchCV setup\n",
        "grid_search = GridSearchCV(\n",
        "    estimator=ridge_model,\n",
        "    param_grid=param_grid,\n",
        "    scoring='neg_root_mean_squared_error',\n",
        "    cv=5,\n",
        "    n_jobs=-1,\n",
        "    verbose=1\n",
        ")\n",
        "\n",
        "# Fit on training data\n",
        "grid_search.fit(scaled_train, y_train)\n",
        "\n",
        "# Best model and parameters\n",
        "best_ridge = grid_search.best_estimator_\n",
        "best_params = grid_search.best_params_\n",
        "\n",
        "# Train performance\n",
        "y_train_pred = best_ridge.predict(scaled_train)\n",
        "train_rmse = np.sqrt(mean_squared_error(y_train, y_train_pred))\n",
        "train_r2 = r2_score(y_train, y_train_pred)\n",
        "\n",
        "# Validation performance\n",
        "y_val_pred = best_ridge.predict(scaled_val)\n",
        "val_rmse = np.sqrt(mean_squared_error(y_val, y_val_pred))\n",
        "val_r2 = r2_score(y_val, y_val_pred)\n",
        "\n",
        "# Print results\n",
        "print(\"Best Hyperparameters for Ridge Regression:\")\n",
        "print(best_params)\n",
        "\n",
        "print(\"\\nPerformance Metrics:\")\n",
        "print(f\"Train RMSE: {train_rmse:.4f}\")\n",
        "print(f\"Train R²   : {train_r2:.4f}\")\n",
        "print(f\"Val RMSE   : {val_rmse:.4f}\")\n",
        "print(f\"Val R²     : {val_r2:.4f}\")\n"
      ]
    },
    {
      "cell_type": "markdown",
      "source": [
        "# *Pending work"
      ],
      "metadata": {
        "id": "6uMW3aPRptYr"
      },
      "id": "6uMW3aPRptYr"
    },
    {
      "cell_type": "code",
      "execution_count": null,
      "id": "9bfcb927-3254-4a1c-917d-0a7e689f196c",
      "metadata": {
        "id": "9bfcb927-3254-4a1c-917d-0a7e689f196c",
        "colab": {
          "base_uri": "https://localhost:8080/"
        },
        "outputId": "1bc1d3ff-9251-40bf-d8ae-294ada91be14"
      },
      "outputs": [
        {
          "output_type": "stream",
          "name": "stdout",
          "text": [
            "Fitting 5 folds for each of 18 candidates, totalling 90 fits\n",
            " Best Hyperparameters for XGBoost:\n",
            "{'learning_rate': 0.05, 'max_depth': 3, 'n_estimators': 50}\n",
            "\n",
            " XGBoost Performance:\n",
            "Train RMSE: 4.1315\n",
            "Train R²   : 0.3155\n",
            "Val RMSE   : 4.1552\n",
            "Val R²     : 0.2723\n"
          ]
        }
      ],
      "source": [
        "# Define model\n",
        "xgb_model = XGBRegressor(objective='reg:squarederror', random_state=42)\n",
        "\n",
        "# Define parameter grid\n",
        "param_grid_xgb = {\n",
        "    'n_estimators': [50, 100],\n",
        "    'learning_rate': [0.05, 0.1, 0.2],\n",
        "    'max_depth': [3, 5, 7]\n",
        "}\n",
        "\n",
        "# Grid search\n",
        "grid_xgb = GridSearchCV(\n",
        "    estimator=xgb_model,\n",
        "    param_grid=param_grid_xgb,\n",
        "    scoring='neg_root_mean_squared_error',\n",
        "    cv=5,\n",
        "    n_jobs=-1,\n",
        "    verbose=1\n",
        ")\n",
        "\n",
        "# Fit model\n",
        "grid_xgb.fit(scaled_train, y_train)\n",
        "\n",
        "# Best model and params\n",
        "best_xgb = grid_xgb.best_estimator_\n",
        "best_xgb_params = grid_xgb.best_params_\n",
        "\n",
        "# Train evaluation\n",
        "y_train_pred = best_xgb.predict(scaled_train)\n",
        "train_rmse = np.sqrt(mean_squared_error(y_train, y_train_pred))\n",
        "train_r2 = r2_score(y_train, y_train_pred)\n",
        "\n",
        "# Validation evaluation\n",
        "y_val_pred = best_xgb.predict(scaled_val)\n",
        "val_rmse = np.sqrt(mean_squared_error(y_val, y_val_pred))\n",
        "val_r2 = r2_score(y_val, y_val_pred)\n",
        "\n",
        "# Output\n",
        "print(\" Best Hyperparameters for XGBoost:\")\n",
        "print(best_xgb_params)\n",
        "\n",
        "print(\"\\n XGBoost Performance:\")\n",
        "print(f\"Train RMSE: {train_rmse:.4f}\")\n",
        "print(f\"Train R²   : {train_r2:.4f}\")\n",
        "print(f\"Val RMSE   : {val_rmse:.4f}\")\n",
        "print(f\"Val R²     : {val_r2:.4f}\")\n"
      ]
    },
    {
      "cell_type": "markdown",
      "id": "8ebaf67c",
      "metadata": {
        "id": "8ebaf67c"
      },
      "source": [
        "# 5-Model Building (Classification), Evaluation & Tuning\n",
        "* Data splitting\n",
        "* Classification algorithms\n",
        "    * Logistic Regression\n",
        "    * Naive Bayes, KNN\n",
        "    * Decision Trees (CART)\n",
        "    * Random Forest\n",
        "    * Boosting - Adaboost, Gboost, XGboost\n",
        "* Model Evaluation\n",
        "    * Classification metrics:Accuracy, Precision, Recall, F1-score, Confusion matrix,ROC Curve, AUC\n",
        "* Model Tuning\n",
        "    * GridSearchCV\n",
        "    * RandomSearchCV"
      ]
    },
    {
      "cell_type": "code",
      "source": [
        "df_3= pd.read_csv('df_copy3.csv')"
      ],
      "metadata": {
        "id": "bXUcQHw5Ff75"
      },
      "id": "bXUcQHw5Ff75",
      "execution_count": null,
      "outputs": []
    },
    {
      "cell_type": "code",
      "source": [
        "df.head()"
      ],
      "metadata": {
        "colab": {
          "base_uri": "https://localhost:8080/",
          "height": 261
        },
        "id": "0xuIvW-jFf4f",
        "outputId": "6df64703-f4fd-4e9a-f239-4e428f6f0d89"
      },
      "id": "0xuIvW-jFf4f",
      "execution_count": null,
      "outputs": [
        {
          "output_type": "execute_result",
          "data": {
            "text/plain": [
              "  cuisine_type  cost_of_the_order day_of_the_week     rating  \\\n",
              "0       Korean              30.75         Weekend  Not given   \n",
              "1     Japanese              12.08         Weekend  Not given   \n",
              "2      Mexican              12.23         Weekday          5   \n",
              "3     American              29.20         Weekend          3   \n",
              "4     American              11.59         Weekday          4   \n",
              "\n",
              "   food_preparation_time delivery_time  \n",
              "0                   25.0            20  \n",
              "1                   25.0             ?  \n",
              "2                   23.0            28  \n",
              "3                   25.0            15  \n",
              "4                   25.0            24  "
            ],
            "text/html": [
              "\n",
              "  <div id=\"df-ddf54d94-246c-49d7-93fe-4c8a7a6e38d7\" class=\"colab-df-container\">\n",
              "    <div>\n",
              "<style scoped>\n",
              "    .dataframe tbody tr th:only-of-type {\n",
              "        vertical-align: middle;\n",
              "    }\n",
              "\n",
              "    .dataframe tbody tr th {\n",
              "        vertical-align: top;\n",
              "    }\n",
              "\n",
              "    .dataframe thead th {\n",
              "        text-align: right;\n",
              "    }\n",
              "</style>\n",
              "<table border=\"1\" class=\"dataframe\">\n",
              "  <thead>\n",
              "    <tr style=\"text-align: right;\">\n",
              "      <th></th>\n",
              "      <th>cuisine_type</th>\n",
              "      <th>cost_of_the_order</th>\n",
              "      <th>day_of_the_week</th>\n",
              "      <th>rating</th>\n",
              "      <th>food_preparation_time</th>\n",
              "      <th>delivery_time</th>\n",
              "    </tr>\n",
              "  </thead>\n",
              "  <tbody>\n",
              "    <tr>\n",
              "      <th>0</th>\n",
              "      <td>Korean</td>\n",
              "      <td>30.75</td>\n",
              "      <td>Weekend</td>\n",
              "      <td>Not given</td>\n",
              "      <td>25.0</td>\n",
              "      <td>20</td>\n",
              "    </tr>\n",
              "    <tr>\n",
              "      <th>1</th>\n",
              "      <td>Japanese</td>\n",
              "      <td>12.08</td>\n",
              "      <td>Weekend</td>\n",
              "      <td>Not given</td>\n",
              "      <td>25.0</td>\n",
              "      <td>?</td>\n",
              "    </tr>\n",
              "    <tr>\n",
              "      <th>2</th>\n",
              "      <td>Mexican</td>\n",
              "      <td>12.23</td>\n",
              "      <td>Weekday</td>\n",
              "      <td>5</td>\n",
              "      <td>23.0</td>\n",
              "      <td>28</td>\n",
              "    </tr>\n",
              "    <tr>\n",
              "      <th>3</th>\n",
              "      <td>American</td>\n",
              "      <td>29.20</td>\n",
              "      <td>Weekend</td>\n",
              "      <td>3</td>\n",
              "      <td>25.0</td>\n",
              "      <td>15</td>\n",
              "    </tr>\n",
              "    <tr>\n",
              "      <th>4</th>\n",
              "      <td>American</td>\n",
              "      <td>11.59</td>\n",
              "      <td>Weekday</td>\n",
              "      <td>4</td>\n",
              "      <td>25.0</td>\n",
              "      <td>24</td>\n",
              "    </tr>\n",
              "  </tbody>\n",
              "</table>\n",
              "</div>\n",
              "    <div class=\"colab-df-buttons\">\n",
              "\n",
              "  <div class=\"colab-df-container\">\n",
              "    <button class=\"colab-df-convert\" onclick=\"convertToInteractive('df-ddf54d94-246c-49d7-93fe-4c8a7a6e38d7')\"\n",
              "            title=\"Convert this dataframe to an interactive table.\"\n",
              "            style=\"display:none;\">\n",
              "\n",
              "  <svg xmlns=\"http://www.w3.org/2000/svg\" height=\"24px\" viewBox=\"0 -960 960 960\">\n",
              "    <path d=\"M120-120v-720h720v720H120Zm60-500h600v-160H180v160Zm220 220h160v-160H400v160Zm0 220h160v-160H400v160ZM180-400h160v-160H180v160Zm440 0h160v-160H620v160ZM180-180h160v-160H180v160Zm440 0h160v-160H620v160Z\"/>\n",
              "  </svg>\n",
              "    </button>\n",
              "\n",
              "  <style>\n",
              "    .colab-df-container {\n",
              "      display:flex;\n",
              "      gap: 12px;\n",
              "    }\n",
              "\n",
              "    .colab-df-convert {\n",
              "      background-color: #E8F0FE;\n",
              "      border: none;\n",
              "      border-radius: 50%;\n",
              "      cursor: pointer;\n",
              "      display: none;\n",
              "      fill: #1967D2;\n",
              "      height: 32px;\n",
              "      padding: 0 0 0 0;\n",
              "      width: 32px;\n",
              "    }\n",
              "\n",
              "    .colab-df-convert:hover {\n",
              "      background-color: #E2EBFA;\n",
              "      box-shadow: 0px 1px 2px rgba(60, 64, 67, 0.3), 0px 1px 3px 1px rgba(60, 64, 67, 0.15);\n",
              "      fill: #174EA6;\n",
              "    }\n",
              "\n",
              "    .colab-df-buttons div {\n",
              "      margin-bottom: 4px;\n",
              "    }\n",
              "\n",
              "    [theme=dark] .colab-df-convert {\n",
              "      background-color: #3B4455;\n",
              "      fill: #D2E3FC;\n",
              "    }\n",
              "\n",
              "    [theme=dark] .colab-df-convert:hover {\n",
              "      background-color: #434B5C;\n",
              "      box-shadow: 0px 1px 3px 1px rgba(0, 0, 0, 0.15);\n",
              "      filter: drop-shadow(0px 1px 2px rgba(0, 0, 0, 0.3));\n",
              "      fill: #FFFFFF;\n",
              "    }\n",
              "  </style>\n",
              "\n",
              "    <script>\n",
              "      const buttonEl =\n",
              "        document.querySelector('#df-ddf54d94-246c-49d7-93fe-4c8a7a6e38d7 button.colab-df-convert');\n",
              "      buttonEl.style.display =\n",
              "        google.colab.kernel.accessAllowed ? 'block' : 'none';\n",
              "\n",
              "      async function convertToInteractive(key) {\n",
              "        const element = document.querySelector('#df-ddf54d94-246c-49d7-93fe-4c8a7a6e38d7');\n",
              "        const dataTable =\n",
              "          await google.colab.kernel.invokeFunction('convertToInteractive',\n",
              "                                                    [key], {});\n",
              "        if (!dataTable) return;\n",
              "\n",
              "        const docLinkHtml = 'Like what you see? Visit the ' +\n",
              "          '<a target=\"_blank\" href=https://colab.research.google.com/notebooks/data_table.ipynb>data table notebook</a>'\n",
              "          + ' to learn more about interactive tables.';\n",
              "        element.innerHTML = '';\n",
              "        dataTable['output_type'] = 'display_data';\n",
              "        await google.colab.output.renderOutput(dataTable, element);\n",
              "        const docLink = document.createElement('div');\n",
              "        docLink.innerHTML = docLinkHtml;\n",
              "        element.appendChild(docLink);\n",
              "      }\n",
              "    </script>\n",
              "  </div>\n",
              "\n",
              "\n",
              "    <div id=\"df-eb64c3f2-d15b-4914-ae03-2b9a03abf5aa\">\n",
              "      <button class=\"colab-df-quickchart\" onclick=\"quickchart('df-eb64c3f2-d15b-4914-ae03-2b9a03abf5aa')\"\n",
              "                title=\"Suggest charts\"\n",
              "                style=\"display:none;\">\n",
              "\n",
              "<svg xmlns=\"http://www.w3.org/2000/svg\" height=\"24px\"viewBox=\"0 0 24 24\"\n",
              "     width=\"24px\">\n",
              "    <g>\n",
              "        <path d=\"M19 3H5c-1.1 0-2 .9-2 2v14c0 1.1.9 2 2 2h14c1.1 0 2-.9 2-2V5c0-1.1-.9-2-2-2zM9 17H7v-7h2v7zm4 0h-2V7h2v10zm4 0h-2v-4h2v4z\"/>\n",
              "    </g>\n",
              "</svg>\n",
              "      </button>\n",
              "\n",
              "<style>\n",
              "  .colab-df-quickchart {\n",
              "      --bg-color: #E8F0FE;\n",
              "      --fill-color: #1967D2;\n",
              "      --hover-bg-color: #E2EBFA;\n",
              "      --hover-fill-color: #174EA6;\n",
              "      --disabled-fill-color: #AAA;\n",
              "      --disabled-bg-color: #DDD;\n",
              "  }\n",
              "\n",
              "  [theme=dark] .colab-df-quickchart {\n",
              "      --bg-color: #3B4455;\n",
              "      --fill-color: #D2E3FC;\n",
              "      --hover-bg-color: #434B5C;\n",
              "      --hover-fill-color: #FFFFFF;\n",
              "      --disabled-bg-color: #3B4455;\n",
              "      --disabled-fill-color: #666;\n",
              "  }\n",
              "\n",
              "  .colab-df-quickchart {\n",
              "    background-color: var(--bg-color);\n",
              "    border: none;\n",
              "    border-radius: 50%;\n",
              "    cursor: pointer;\n",
              "    display: none;\n",
              "    fill: var(--fill-color);\n",
              "    height: 32px;\n",
              "    padding: 0;\n",
              "    width: 32px;\n",
              "  }\n",
              "\n",
              "  .colab-df-quickchart:hover {\n",
              "    background-color: var(--hover-bg-color);\n",
              "    box-shadow: 0 1px 2px rgba(60, 64, 67, 0.3), 0 1px 3px 1px rgba(60, 64, 67, 0.15);\n",
              "    fill: var(--button-hover-fill-color);\n",
              "  }\n",
              "\n",
              "  .colab-df-quickchart-complete:disabled,\n",
              "  .colab-df-quickchart-complete:disabled:hover {\n",
              "    background-color: var(--disabled-bg-color);\n",
              "    fill: var(--disabled-fill-color);\n",
              "    box-shadow: none;\n",
              "  }\n",
              "\n",
              "  .colab-df-spinner {\n",
              "    border: 2px solid var(--fill-color);\n",
              "    border-color: transparent;\n",
              "    border-bottom-color: var(--fill-color);\n",
              "    animation:\n",
              "      spin 1s steps(1) infinite;\n",
              "  }\n",
              "\n",
              "  @keyframes spin {\n",
              "    0% {\n",
              "      border-color: transparent;\n",
              "      border-bottom-color: var(--fill-color);\n",
              "      border-left-color: var(--fill-color);\n",
              "    }\n",
              "    20% {\n",
              "      border-color: transparent;\n",
              "      border-left-color: var(--fill-color);\n",
              "      border-top-color: var(--fill-color);\n",
              "    }\n",
              "    30% {\n",
              "      border-color: transparent;\n",
              "      border-left-color: var(--fill-color);\n",
              "      border-top-color: var(--fill-color);\n",
              "      border-right-color: var(--fill-color);\n",
              "    }\n",
              "    40% {\n",
              "      border-color: transparent;\n",
              "      border-right-color: var(--fill-color);\n",
              "      border-top-color: var(--fill-color);\n",
              "    }\n",
              "    60% {\n",
              "      border-color: transparent;\n",
              "      border-right-color: var(--fill-color);\n",
              "    }\n",
              "    80% {\n",
              "      border-color: transparent;\n",
              "      border-right-color: var(--fill-color);\n",
              "      border-bottom-color: var(--fill-color);\n",
              "    }\n",
              "    90% {\n",
              "      border-color: transparent;\n",
              "      border-bottom-color: var(--fill-color);\n",
              "    }\n",
              "  }\n",
              "</style>\n",
              "\n",
              "      <script>\n",
              "        async function quickchart(key) {\n",
              "          const quickchartButtonEl =\n",
              "            document.querySelector('#' + key + ' button');\n",
              "          quickchartButtonEl.disabled = true;  // To prevent multiple clicks.\n",
              "          quickchartButtonEl.classList.add('colab-df-spinner');\n",
              "          try {\n",
              "            const charts = await google.colab.kernel.invokeFunction(\n",
              "                'suggestCharts', [key], {});\n",
              "          } catch (error) {\n",
              "            console.error('Error during call to suggestCharts:', error);\n",
              "          }\n",
              "          quickchartButtonEl.classList.remove('colab-df-spinner');\n",
              "          quickchartButtonEl.classList.add('colab-df-quickchart-complete');\n",
              "        }\n",
              "        (() => {\n",
              "          let quickchartButtonEl =\n",
              "            document.querySelector('#df-eb64c3f2-d15b-4914-ae03-2b9a03abf5aa button');\n",
              "          quickchartButtonEl.style.display =\n",
              "            google.colab.kernel.accessAllowed ? 'block' : 'none';\n",
              "        })();\n",
              "      </script>\n",
              "    </div>\n",
              "\n",
              "    </div>\n",
              "  </div>\n"
            ],
            "application/vnd.google.colaboratory.intrinsic+json": {
              "type": "dataframe",
              "variable_name": "df",
              "summary": "{\n  \"name\": \"df\",\n  \"rows\": 1898,\n  \"fields\": [\n    {\n      \"column\": \"cuisine_type\",\n      \"properties\": {\n        \"dtype\": \"category\",\n        \"num_unique_values\": 14,\n        \"samples\": [\n          \"Thai\",\n          \"French\",\n          \"Korean\"\n        ],\n        \"semantic_type\": \"\",\n        \"description\": \"\"\n      }\n    },\n    {\n      \"column\": \"cost_of_the_order\",\n      \"properties\": {\n        \"dtype\": \"number\",\n        \"std\": 2798.141332525559,\n        \"min\": 0.0,\n        \"max\": 121920.0,\n        \"num_unique_values\": 314,\n        \"samples\": [\n          12.22,\n          16.01,\n          15.77\n        ],\n        \"semantic_type\": \"\",\n        \"description\": \"\"\n      }\n    },\n    {\n      \"column\": \"day_of_the_week\",\n      \"properties\": {\n        \"dtype\": \"category\",\n        \"num_unique_values\": 2,\n        \"samples\": [\n          \"Weekday\",\n          \"Weekend\"\n        ],\n        \"semantic_type\": \"\",\n        \"description\": \"\"\n      }\n    },\n    {\n      \"column\": \"rating\",\n      \"properties\": {\n        \"dtype\": \"category\",\n        \"num_unique_values\": 4,\n        \"samples\": [\n          \"5\",\n          \"4\"\n        ],\n        \"semantic_type\": \"\",\n        \"description\": \"\"\n      }\n    },\n    {\n      \"column\": \"food_preparation_time\",\n      \"properties\": {\n        \"dtype\": \"number\",\n        \"std\": 4.634211201827562,\n        \"min\": 20.0,\n        \"max\": 35.0,\n        \"num_unique_values\": 16,\n        \"samples\": [\n          25.0,\n          23.0\n        ],\n        \"semantic_type\": \"\",\n        \"description\": \"\"\n      }\n    },\n    {\n      \"column\": \"delivery_time\",\n      \"properties\": {\n        \"dtype\": \"category\",\n        \"num_unique_values\": 20,\n        \"samples\": [\n          \"20\",\n          \"32\"\n        ],\n        \"semantic_type\": \"\",\n        \"description\": \"\"\n      }\n    }\n  ]\n}"
            }
          },
          "metadata": {},
          "execution_count": 198
        }
      ]
    },
    {
      "cell_type": "code",
      "source": [
        "cat_variables= df_3.select_dtypes('object')\n",
        "num_variables= df_3.select_dtypes(['int','float'])"
      ],
      "metadata": {
        "id": "V-KKVE3lFf16"
      },
      "id": "V-KKVE3lFf16",
      "execution_count": null,
      "outputs": []
    },
    {
      "cell_type": "code",
      "source": [
        "# 2. Nominal encoding\n",
        "nominal_features=['cuisine_type']\n",
        "for i in nominal_features:\n",
        "    print(i,\";\")\n",
        "    print(pd.Categorical(cat_variables[i],ordered= False))\n",
        "    print(pd.Categorical(cat_variables[i],ordered= False).codes)\n",
        "    print('----------------------------------------')\n",
        "    cat_variables[i]=pd.Categorical(cat_variables[i],ordered= False).codes"
      ],
      "metadata": {
        "colab": {
          "base_uri": "https://localhost:8080/"
        },
        "id": "UwW9eUxrFfzr",
        "outputId": "c4f622b4-c8c8-41c4-e9a8-ea6c67774090"
      },
      "id": "UwW9eUxrFfzr",
      "execution_count": null,
      "outputs": [
        {
          "output_type": "stream",
          "name": "stdout",
          "text": [
            "cuisine_type ;\n",
            "['Korean', 'Japanese', 'Mexican', 'American', 'American', ..., 'Mexican', 'American', 'Japanese', 'Mediterranean', 'Japanese']\n",
            "Length: 1898\n",
            "Categories (14, object): ['American', 'Chinese', 'French', 'Indian', ..., 'Southern', 'Spanish', 'Thai',\n",
            "                          'Vietnamese']\n",
            "[6 5 8 ... 5 7 5]\n",
            "----------------------------------------\n"
          ]
        }
      ]
    },
    {
      "cell_type": "code",
      "source": [
        "# 3. One Hot encoding\n",
        "cat_variables_encoded= pd.get_dummies(cat_variables, columns=['rating','day_of_the_week'], dtype=int)\n",
        "df_encoded=pd.concat([num_variables,cat_variables_encoded], axis=1,)\n",
        "df_encoded.head()"
      ],
      "metadata": {
        "id": "MrYoN7TnFfxj"
      },
      "id": "MrYoN7TnFfxj",
      "execution_count": null,
      "outputs": []
    },
    {
      "cell_type": "code",
      "source": [
        "from sklearn.metrics import classification_report,confusion_matrix, accuracy_score, precision_score,recall_score, f1_score\n",
        "from sklearn.linear_model import LogisticRegression\n",
        "from sklearn.naive_bayes import GaussianNB\n",
        "from sklearn.neighbors import KNeighborsClassifier\n",
        "from sklearn.tree import DecisionTreeClassifier\n",
        "from sklearn.ensemble import RandomForestClassifier,AdaBoostClassifier,GradientBoostingClassifier\n",
        "from xgboost import XGBClassifier"
      ],
      "metadata": {
        "id": "MnJdYYBZp3Gx"
      },
      "id": "MnJdYYBZp3Gx",
      "execution_count": null,
      "outputs": []
    },
    {
      "cell_type": "code",
      "source": [
        "# Loading the previously cleaned and outliers treated dataset\n",
        "df_3= pd.read_csv('df_copy3.csv')\n",
        "\n",
        "cat_variables= df_3.select_dtypes('object')\n",
        "num_variables= df_3.select_dtypes(['int','float'])\n",
        "\n",
        "\n",
        "# 2. Nominal encoding\n",
        "nominal_features=['cuisine_type']\n",
        "for i in nominal_features:\n",
        "    cat_variables[i]=pd.Categorical(cat_variables[i],ordered= False).codes\n",
        "\n",
        "# 3. One Hot  Encoding\n",
        "cat_variables_encoded= pd.get_dummies(cat_variables, columns=['rating','day_of_the_week'], dtype=int)\n",
        "\n",
        "# Concatinating the encoded part and numerical variables\n",
        "df_encoded=pd.concat([num_variables,cat_variables_encoded], axis=1,)\n",
        "df_encoded.to_csv('df_encoded_classification', index=False)"
      ],
      "metadata": {
        "id": "XGPamhq2p3DY"
      },
      "id": "XGPamhq2p3DY",
      "execution_count": null,
      "outputs": []
    },
    {
      "cell_type": "code",
      "source": [
        "df_copy['rating'] = df_copy['rating'].astype(str).str.strip()\n",
        "df_copy['rating'] = df_copy['rating'].replace('Not given', 0)\n",
        "df_copy['rating'] = df_copy['rating'].astype(int)\n"
      ],
      "metadata": {
        "id": "TwCh13-89N7O"
      },
      "id": "TwCh13-89N7O",
      "execution_count": null,
      "outputs": []
    },
    {
      "cell_type": "code",
      "source": [
        "df_TrainTestSplit= pd.read_csv('df_encoded_classification')\n",
        "df_TrainTestSplit.head()"
      ],
      "metadata": {
        "colab": {
          "base_uri": "https://localhost:8080/",
          "height": 243
        },
        "id": "lKiurU_eBPM-",
        "outputId": "f43ebf8b-c1c6-4c6a-97a5-160e30b25496"
      },
      "id": "lKiurU_eBPM-",
      "execution_count": null,
      "outputs": [
        {
          "output_type": "execute_result",
          "data": {
            "text/plain": [
              "   cost_of_the_order  food_preparation_time  delivery_time  cuisine_type  \\\n",
              "0              30.75                   25.0             20             6   \n",
              "1              12.08                   25.0             24             5   \n",
              "2              12.23                   23.0             28             8   \n",
              "3              29.20                   25.0             15             0   \n",
              "4              11.59                   25.0             24             0   \n",
              "\n",
              "   rating_3  rating_4  rating_5  rating_Not given  day_of_the_week_Weekday  \\\n",
              "0         0         0         0                 1                        0   \n",
              "1         0         0         0                 1                        0   \n",
              "2         0         0         1                 0                        1   \n",
              "3         1         0         0                 0                        0   \n",
              "4         0         1         0                 0                        1   \n",
              "\n",
              "   day_of_the_week_Weekend  \n",
              "0                        1  \n",
              "1                        1  \n",
              "2                        0  \n",
              "3                        1  \n",
              "4                        0  "
            ],
            "text/html": [
              "\n",
              "  <div id=\"df-506b26a4-1d53-4737-9998-89b6cbbfb0ee\" class=\"colab-df-container\">\n",
              "    <div>\n",
              "<style scoped>\n",
              "    .dataframe tbody tr th:only-of-type {\n",
              "        vertical-align: middle;\n",
              "    }\n",
              "\n",
              "    .dataframe tbody tr th {\n",
              "        vertical-align: top;\n",
              "    }\n",
              "\n",
              "    .dataframe thead th {\n",
              "        text-align: right;\n",
              "    }\n",
              "</style>\n",
              "<table border=\"1\" class=\"dataframe\">\n",
              "  <thead>\n",
              "    <tr style=\"text-align: right;\">\n",
              "      <th></th>\n",
              "      <th>cost_of_the_order</th>\n",
              "      <th>food_preparation_time</th>\n",
              "      <th>delivery_time</th>\n",
              "      <th>cuisine_type</th>\n",
              "      <th>rating_3</th>\n",
              "      <th>rating_4</th>\n",
              "      <th>rating_5</th>\n",
              "      <th>rating_Not given</th>\n",
              "      <th>day_of_the_week_Weekday</th>\n",
              "      <th>day_of_the_week_Weekend</th>\n",
              "    </tr>\n",
              "  </thead>\n",
              "  <tbody>\n",
              "    <tr>\n",
              "      <th>0</th>\n",
              "      <td>30.75</td>\n",
              "      <td>25.0</td>\n",
              "      <td>20</td>\n",
              "      <td>6</td>\n",
              "      <td>0</td>\n",
              "      <td>0</td>\n",
              "      <td>0</td>\n",
              "      <td>1</td>\n",
              "      <td>0</td>\n",
              "      <td>1</td>\n",
              "    </tr>\n",
              "    <tr>\n",
              "      <th>1</th>\n",
              "      <td>12.08</td>\n",
              "      <td>25.0</td>\n",
              "      <td>24</td>\n",
              "      <td>5</td>\n",
              "      <td>0</td>\n",
              "      <td>0</td>\n",
              "      <td>0</td>\n",
              "      <td>1</td>\n",
              "      <td>0</td>\n",
              "      <td>1</td>\n",
              "    </tr>\n",
              "    <tr>\n",
              "      <th>2</th>\n",
              "      <td>12.23</td>\n",
              "      <td>23.0</td>\n",
              "      <td>28</td>\n",
              "      <td>8</td>\n",
              "      <td>0</td>\n",
              "      <td>0</td>\n",
              "      <td>1</td>\n",
              "      <td>0</td>\n",
              "      <td>1</td>\n",
              "      <td>0</td>\n",
              "    </tr>\n",
              "    <tr>\n",
              "      <th>3</th>\n",
              "      <td>29.20</td>\n",
              "      <td>25.0</td>\n",
              "      <td>15</td>\n",
              "      <td>0</td>\n",
              "      <td>1</td>\n",
              "      <td>0</td>\n",
              "      <td>0</td>\n",
              "      <td>0</td>\n",
              "      <td>0</td>\n",
              "      <td>1</td>\n",
              "    </tr>\n",
              "    <tr>\n",
              "      <th>4</th>\n",
              "      <td>11.59</td>\n",
              "      <td>25.0</td>\n",
              "      <td>24</td>\n",
              "      <td>0</td>\n",
              "      <td>0</td>\n",
              "      <td>1</td>\n",
              "      <td>0</td>\n",
              "      <td>0</td>\n",
              "      <td>1</td>\n",
              "      <td>0</td>\n",
              "    </tr>\n",
              "  </tbody>\n",
              "</table>\n",
              "</div>\n",
              "    <div class=\"colab-df-buttons\">\n",
              "\n",
              "  <div class=\"colab-df-container\">\n",
              "    <button class=\"colab-df-convert\" onclick=\"convertToInteractive('df-506b26a4-1d53-4737-9998-89b6cbbfb0ee')\"\n",
              "            title=\"Convert this dataframe to an interactive table.\"\n",
              "            style=\"display:none;\">\n",
              "\n",
              "  <svg xmlns=\"http://www.w3.org/2000/svg\" height=\"24px\" viewBox=\"0 -960 960 960\">\n",
              "    <path d=\"M120-120v-720h720v720H120Zm60-500h600v-160H180v160Zm220 220h160v-160H400v160Zm0 220h160v-160H400v160ZM180-400h160v-160H180v160Zm440 0h160v-160H620v160ZM180-180h160v-160H180v160Zm440 0h160v-160H620v160Z\"/>\n",
              "  </svg>\n",
              "    </button>\n",
              "\n",
              "  <style>\n",
              "    .colab-df-container {\n",
              "      display:flex;\n",
              "      gap: 12px;\n",
              "    }\n",
              "\n",
              "    .colab-df-convert {\n",
              "      background-color: #E8F0FE;\n",
              "      border: none;\n",
              "      border-radius: 50%;\n",
              "      cursor: pointer;\n",
              "      display: none;\n",
              "      fill: #1967D2;\n",
              "      height: 32px;\n",
              "      padding: 0 0 0 0;\n",
              "      width: 32px;\n",
              "    }\n",
              "\n",
              "    .colab-df-convert:hover {\n",
              "      background-color: #E2EBFA;\n",
              "      box-shadow: 0px 1px 2px rgba(60, 64, 67, 0.3), 0px 1px 3px 1px rgba(60, 64, 67, 0.15);\n",
              "      fill: #174EA6;\n",
              "    }\n",
              "\n",
              "    .colab-df-buttons div {\n",
              "      margin-bottom: 4px;\n",
              "    }\n",
              "\n",
              "    [theme=dark] .colab-df-convert {\n",
              "      background-color: #3B4455;\n",
              "      fill: #D2E3FC;\n",
              "    }\n",
              "\n",
              "    [theme=dark] .colab-df-convert:hover {\n",
              "      background-color: #434B5C;\n",
              "      box-shadow: 0px 1px 3px 1px rgba(0, 0, 0, 0.15);\n",
              "      filter: drop-shadow(0px 1px 2px rgba(0, 0, 0, 0.3));\n",
              "      fill: #FFFFFF;\n",
              "    }\n",
              "  </style>\n",
              "\n",
              "    <script>\n",
              "      const buttonEl =\n",
              "        document.querySelector('#df-506b26a4-1d53-4737-9998-89b6cbbfb0ee button.colab-df-convert');\n",
              "      buttonEl.style.display =\n",
              "        google.colab.kernel.accessAllowed ? 'block' : 'none';\n",
              "\n",
              "      async function convertToInteractive(key) {\n",
              "        const element = document.querySelector('#df-506b26a4-1d53-4737-9998-89b6cbbfb0ee');\n",
              "        const dataTable =\n",
              "          await google.colab.kernel.invokeFunction('convertToInteractive',\n",
              "                                                    [key], {});\n",
              "        if (!dataTable) return;\n",
              "\n",
              "        const docLinkHtml = 'Like what you see? Visit the ' +\n",
              "          '<a target=\"_blank\" href=https://colab.research.google.com/notebooks/data_table.ipynb>data table notebook</a>'\n",
              "          + ' to learn more about interactive tables.';\n",
              "        element.innerHTML = '';\n",
              "        dataTable['output_type'] = 'display_data';\n",
              "        await google.colab.output.renderOutput(dataTable, element);\n",
              "        const docLink = document.createElement('div');\n",
              "        docLink.innerHTML = docLinkHtml;\n",
              "        element.appendChild(docLink);\n",
              "      }\n",
              "    </script>\n",
              "  </div>\n",
              "\n",
              "\n",
              "    <div id=\"df-fbf13fed-9ed7-4a82-8efd-a78a7b2bfaa6\">\n",
              "      <button class=\"colab-df-quickchart\" onclick=\"quickchart('df-fbf13fed-9ed7-4a82-8efd-a78a7b2bfaa6')\"\n",
              "                title=\"Suggest charts\"\n",
              "                style=\"display:none;\">\n",
              "\n",
              "<svg xmlns=\"http://www.w3.org/2000/svg\" height=\"24px\"viewBox=\"0 0 24 24\"\n",
              "     width=\"24px\">\n",
              "    <g>\n",
              "        <path d=\"M19 3H5c-1.1 0-2 .9-2 2v14c0 1.1.9 2 2 2h14c1.1 0 2-.9 2-2V5c0-1.1-.9-2-2-2zM9 17H7v-7h2v7zm4 0h-2V7h2v10zm4 0h-2v-4h2v4z\"/>\n",
              "    </g>\n",
              "</svg>\n",
              "      </button>\n",
              "\n",
              "<style>\n",
              "  .colab-df-quickchart {\n",
              "      --bg-color: #E8F0FE;\n",
              "      --fill-color: #1967D2;\n",
              "      --hover-bg-color: #E2EBFA;\n",
              "      --hover-fill-color: #174EA6;\n",
              "      --disabled-fill-color: #AAA;\n",
              "      --disabled-bg-color: #DDD;\n",
              "  }\n",
              "\n",
              "  [theme=dark] .colab-df-quickchart {\n",
              "      --bg-color: #3B4455;\n",
              "      --fill-color: #D2E3FC;\n",
              "      --hover-bg-color: #434B5C;\n",
              "      --hover-fill-color: #FFFFFF;\n",
              "      --disabled-bg-color: #3B4455;\n",
              "      --disabled-fill-color: #666;\n",
              "  }\n",
              "\n",
              "  .colab-df-quickchart {\n",
              "    background-color: var(--bg-color);\n",
              "    border: none;\n",
              "    border-radius: 50%;\n",
              "    cursor: pointer;\n",
              "    display: none;\n",
              "    fill: var(--fill-color);\n",
              "    height: 32px;\n",
              "    padding: 0;\n",
              "    width: 32px;\n",
              "  }\n",
              "\n",
              "  .colab-df-quickchart:hover {\n",
              "    background-color: var(--hover-bg-color);\n",
              "    box-shadow: 0 1px 2px rgba(60, 64, 67, 0.3), 0 1px 3px 1px rgba(60, 64, 67, 0.15);\n",
              "    fill: var(--button-hover-fill-color);\n",
              "  }\n",
              "\n",
              "  .colab-df-quickchart-complete:disabled,\n",
              "  .colab-df-quickchart-complete:disabled:hover {\n",
              "    background-color: var(--disabled-bg-color);\n",
              "    fill: var(--disabled-fill-color);\n",
              "    box-shadow: none;\n",
              "  }\n",
              "\n",
              "  .colab-df-spinner {\n",
              "    border: 2px solid var(--fill-color);\n",
              "    border-color: transparent;\n",
              "    border-bottom-color: var(--fill-color);\n",
              "    animation:\n",
              "      spin 1s steps(1) infinite;\n",
              "  }\n",
              "\n",
              "  @keyframes spin {\n",
              "    0% {\n",
              "      border-color: transparent;\n",
              "      border-bottom-color: var(--fill-color);\n",
              "      border-left-color: var(--fill-color);\n",
              "    }\n",
              "    20% {\n",
              "      border-color: transparent;\n",
              "      border-left-color: var(--fill-color);\n",
              "      border-top-color: var(--fill-color);\n",
              "    }\n",
              "    30% {\n",
              "      border-color: transparent;\n",
              "      border-left-color: var(--fill-color);\n",
              "      border-top-color: var(--fill-color);\n",
              "      border-right-color: var(--fill-color);\n",
              "    }\n",
              "    40% {\n",
              "      border-color: transparent;\n",
              "      border-right-color: var(--fill-color);\n",
              "      border-top-color: var(--fill-color);\n",
              "    }\n",
              "    60% {\n",
              "      border-color: transparent;\n",
              "      border-right-color: var(--fill-color);\n",
              "    }\n",
              "    80% {\n",
              "      border-color: transparent;\n",
              "      border-right-color: var(--fill-color);\n",
              "      border-bottom-color: var(--fill-color);\n",
              "    }\n",
              "    90% {\n",
              "      border-color: transparent;\n",
              "      border-bottom-color: var(--fill-color);\n",
              "    }\n",
              "  }\n",
              "</style>\n",
              "\n",
              "      <script>\n",
              "        async function quickchart(key) {\n",
              "          const quickchartButtonEl =\n",
              "            document.querySelector('#' + key + ' button');\n",
              "          quickchartButtonEl.disabled = true;  // To prevent multiple clicks.\n",
              "          quickchartButtonEl.classList.add('colab-df-spinner');\n",
              "          try {\n",
              "            const charts = await google.colab.kernel.invokeFunction(\n",
              "                'suggestCharts', [key], {});\n",
              "          } catch (error) {\n",
              "            console.error('Error during call to suggestCharts:', error);\n",
              "          }\n",
              "          quickchartButtonEl.classList.remove('colab-df-spinner');\n",
              "          quickchartButtonEl.classList.add('colab-df-quickchart-complete');\n",
              "        }\n",
              "        (() => {\n",
              "          let quickchartButtonEl =\n",
              "            document.querySelector('#df-fbf13fed-9ed7-4a82-8efd-a78a7b2bfaa6 button');\n",
              "          quickchartButtonEl.style.display =\n",
              "            google.colab.kernel.accessAllowed ? 'block' : 'none';\n",
              "        })();\n",
              "      </script>\n",
              "    </div>\n",
              "\n",
              "    </div>\n",
              "  </div>\n"
            ],
            "application/vnd.google.colaboratory.intrinsic+json": {
              "type": "dataframe",
              "variable_name": "df_TrainTestSplit",
              "summary": "{\n  \"name\": \"df_TrainTestSplit\",\n  \"rows\": 1898,\n  \"fields\": [\n    {\n      \"column\": \"cost_of_the_order\",\n      \"properties\": {\n        \"dtype\": \"number\",\n        \"std\": 7.492297839920483,\n        \"min\": 0.0,\n        \"max\": 35.41,\n        \"num_unique_values\": 313,\n        \"samples\": [\n          6.79,\n          7.18,\n          15.71\n        ],\n        \"semantic_type\": \"\",\n        \"description\": \"\"\n      }\n    },\n    {\n      \"column\": \"food_preparation_time\",\n      \"properties\": {\n        \"dtype\": \"number\",\n        \"std\": 4.631767641835984,\n        \"min\": 20.0,\n        \"max\": 35.0,\n        \"num_unique_values\": 17,\n        \"samples\": [\n          25.0,\n          23.0,\n          21.0\n        ],\n        \"semantic_type\": \"\",\n        \"description\": \"\"\n      }\n    },\n    {\n      \"column\": \"delivery_time\",\n      \"properties\": {\n        \"dtype\": \"number\",\n        \"std\": 4,\n        \"min\": 15,\n        \"max\": 33,\n        \"num_unique_values\": 19,\n        \"samples\": [\n          20,\n          30,\n          16\n        ],\n        \"semantic_type\": \"\",\n        \"description\": \"\"\n      }\n    },\n    {\n      \"column\": \"cuisine_type\",\n      \"properties\": {\n        \"dtype\": \"number\",\n        \"std\": 2,\n        \"min\": 0,\n        \"max\": 13,\n        \"num_unique_values\": 14,\n        \"samples\": [\n          12,\n          2,\n          6\n        ],\n        \"semantic_type\": \"\",\n        \"description\": \"\"\n      }\n    },\n    {\n      \"column\": \"rating_3\",\n      \"properties\": {\n        \"dtype\": \"number\",\n        \"std\": 0,\n        \"min\": 0,\n        \"max\": 1,\n        \"num_unique_values\": 2,\n        \"samples\": [\n          1,\n          0\n        ],\n        \"semantic_type\": \"\",\n        \"description\": \"\"\n      }\n    },\n    {\n      \"column\": \"rating_4\",\n      \"properties\": {\n        \"dtype\": \"number\",\n        \"std\": 0,\n        \"min\": 0,\n        \"max\": 1,\n        \"num_unique_values\": 2,\n        \"samples\": [\n          1,\n          0\n        ],\n        \"semantic_type\": \"\",\n        \"description\": \"\"\n      }\n    },\n    {\n      \"column\": \"rating_5\",\n      \"properties\": {\n        \"dtype\": \"number\",\n        \"std\": 0,\n        \"min\": 0,\n        \"max\": 1,\n        \"num_unique_values\": 2,\n        \"samples\": [\n          1,\n          0\n        ],\n        \"semantic_type\": \"\",\n        \"description\": \"\"\n      }\n    },\n    {\n      \"column\": \"rating_Not given\",\n      \"properties\": {\n        \"dtype\": \"number\",\n        \"std\": 0,\n        \"min\": 0,\n        \"max\": 1,\n        \"num_unique_values\": 2,\n        \"samples\": [\n          0,\n          1\n        ],\n        \"semantic_type\": \"\",\n        \"description\": \"\"\n      }\n    },\n    {\n      \"column\": \"day_of_the_week_Weekday\",\n      \"properties\": {\n        \"dtype\": \"number\",\n        \"std\": 0,\n        \"min\": 0,\n        \"max\": 1,\n        \"num_unique_values\": 2,\n        \"samples\": [\n          1,\n          0\n        ],\n        \"semantic_type\": \"\",\n        \"description\": \"\"\n      }\n    },\n    {\n      \"column\": \"day_of_the_week_Weekend\",\n      \"properties\": {\n        \"dtype\": \"number\",\n        \"std\": 0,\n        \"min\": 0,\n        \"max\": 1,\n        \"num_unique_values\": 2,\n        \"samples\": [\n          0,\n          1\n        ],\n        \"semantic_type\": \"\",\n        \"description\": \"\"\n      }\n    }\n  ]\n}"
            }
          },
          "metadata": {},
          "execution_count": 177
        }
      ]
    },
    {
      "cell_type": "code",
      "source": [
        "# Loading the previously cleaned and outliers treated dataset\n",
        "df_3= pd.read_csv('df_copy3.csv')\n",
        "\n",
        "cat_variables= df_3.select_dtypes('object')\n",
        "num_variables= df_3.select_dtypes(['int','float'])\n",
        "\n",
        "\n",
        "# 2. Nominal encoding\n",
        "nominal_features=['cuisine_type']\n",
        "for i in nominal_features:\n",
        "    cat_variables[i]=pd.Categorical(cat_variables[i],ordered= False).codes\n",
        "\n",
        "# 3. One Hot  Encoding\n",
        "cat_variables_encoded= pd.get_dummies(cat_variables, columns=['day_of_the_week'], dtype=int)\n",
        "\n",
        "# Concatinating the encoded part and numerical variables\n",
        "df_encoded=pd.concat([num_variables,cat_variables_encoded], axis=1,)\n",
        "df_encoded.to_csv('df1_encoded_classification', index=False)"
      ],
      "metadata": {
        "id": "bu9xPIajC_cf"
      },
      "id": "bu9xPIajC_cf",
      "execution_count": null,
      "outputs": []
    },
    {
      "cell_type": "code",
      "source": [
        "df_copy['rating'] = df_copy['rating'].astype(str).str.strip()\n",
        "df_copy['rating'] = df_copy['rating'].replace('Not given', 0)\n",
        "df_copy['rating'] = df_copy['rating'].astype(int)"
      ],
      "metadata": {
        "id": "0-NwWcGODHTG"
      },
      "id": "0-NwWcGODHTG",
      "execution_count": null,
      "outputs": []
    },
    {
      "cell_type": "code",
      "source": [
        "df_TrainTestSplit= pd.read_csv('df1_encoded_classification')\n",
        "df_TrainTestSplit.head()"
      ],
      "metadata": {
        "colab": {
          "base_uri": "https://localhost:8080/",
          "height": 261
        },
        "id": "URu2JCfsDKnS",
        "outputId": "6d6159a5-4a80-475f-9aef-d86c0a3a6c75"
      },
      "id": "URu2JCfsDKnS",
      "execution_count": null,
      "outputs": [
        {
          "output_type": "execute_result",
          "data": {
            "text/plain": [
              "   cost_of_the_order  food_preparation_time  delivery_time  cuisine_type  \\\n",
              "0              30.75                   25.0             20             6   \n",
              "1              12.08                   25.0             24             5   \n",
              "2              12.23                   23.0             28             8   \n",
              "3              29.20                   25.0             15             0   \n",
              "4              11.59                   25.0             24             0   \n",
              "\n",
              "      rating  day_of_the_week_Weekday  day_of_the_week_Weekend  \n",
              "0  Not given                        0                        1  \n",
              "1  Not given                        0                        1  \n",
              "2          5                        1                        0  \n",
              "3          3                        0                        1  \n",
              "4          4                        1                        0  "
            ],
            "text/html": [
              "\n",
              "  <div id=\"df-3a844cb3-e71b-4caf-be1a-2895e1ed2a7a\" class=\"colab-df-container\">\n",
              "    <div>\n",
              "<style scoped>\n",
              "    .dataframe tbody tr th:only-of-type {\n",
              "        vertical-align: middle;\n",
              "    }\n",
              "\n",
              "    .dataframe tbody tr th {\n",
              "        vertical-align: top;\n",
              "    }\n",
              "\n",
              "    .dataframe thead th {\n",
              "        text-align: right;\n",
              "    }\n",
              "</style>\n",
              "<table border=\"1\" class=\"dataframe\">\n",
              "  <thead>\n",
              "    <tr style=\"text-align: right;\">\n",
              "      <th></th>\n",
              "      <th>cost_of_the_order</th>\n",
              "      <th>food_preparation_time</th>\n",
              "      <th>delivery_time</th>\n",
              "      <th>cuisine_type</th>\n",
              "      <th>rating</th>\n",
              "      <th>day_of_the_week_Weekday</th>\n",
              "      <th>day_of_the_week_Weekend</th>\n",
              "    </tr>\n",
              "  </thead>\n",
              "  <tbody>\n",
              "    <tr>\n",
              "      <th>0</th>\n",
              "      <td>30.75</td>\n",
              "      <td>25.0</td>\n",
              "      <td>20</td>\n",
              "      <td>6</td>\n",
              "      <td>Not given</td>\n",
              "      <td>0</td>\n",
              "      <td>1</td>\n",
              "    </tr>\n",
              "    <tr>\n",
              "      <th>1</th>\n",
              "      <td>12.08</td>\n",
              "      <td>25.0</td>\n",
              "      <td>24</td>\n",
              "      <td>5</td>\n",
              "      <td>Not given</td>\n",
              "      <td>0</td>\n",
              "      <td>1</td>\n",
              "    </tr>\n",
              "    <tr>\n",
              "      <th>2</th>\n",
              "      <td>12.23</td>\n",
              "      <td>23.0</td>\n",
              "      <td>28</td>\n",
              "      <td>8</td>\n",
              "      <td>5</td>\n",
              "      <td>1</td>\n",
              "      <td>0</td>\n",
              "    </tr>\n",
              "    <tr>\n",
              "      <th>3</th>\n",
              "      <td>29.20</td>\n",
              "      <td>25.0</td>\n",
              "      <td>15</td>\n",
              "      <td>0</td>\n",
              "      <td>3</td>\n",
              "      <td>0</td>\n",
              "      <td>1</td>\n",
              "    </tr>\n",
              "    <tr>\n",
              "      <th>4</th>\n",
              "      <td>11.59</td>\n",
              "      <td>25.0</td>\n",
              "      <td>24</td>\n",
              "      <td>0</td>\n",
              "      <td>4</td>\n",
              "      <td>1</td>\n",
              "      <td>0</td>\n",
              "    </tr>\n",
              "  </tbody>\n",
              "</table>\n",
              "</div>\n",
              "    <div class=\"colab-df-buttons\">\n",
              "\n",
              "  <div class=\"colab-df-container\">\n",
              "    <button class=\"colab-df-convert\" onclick=\"convertToInteractive('df-3a844cb3-e71b-4caf-be1a-2895e1ed2a7a')\"\n",
              "            title=\"Convert this dataframe to an interactive table.\"\n",
              "            style=\"display:none;\">\n",
              "\n",
              "  <svg xmlns=\"http://www.w3.org/2000/svg\" height=\"24px\" viewBox=\"0 -960 960 960\">\n",
              "    <path d=\"M120-120v-720h720v720H120Zm60-500h600v-160H180v160Zm220 220h160v-160H400v160Zm0 220h160v-160H400v160ZM180-400h160v-160H180v160Zm440 0h160v-160H620v160ZM180-180h160v-160H180v160Zm440 0h160v-160H620v160Z\"/>\n",
              "  </svg>\n",
              "    </button>\n",
              "\n",
              "  <style>\n",
              "    .colab-df-container {\n",
              "      display:flex;\n",
              "      gap: 12px;\n",
              "    }\n",
              "\n",
              "    .colab-df-convert {\n",
              "      background-color: #E8F0FE;\n",
              "      border: none;\n",
              "      border-radius: 50%;\n",
              "      cursor: pointer;\n",
              "      display: none;\n",
              "      fill: #1967D2;\n",
              "      height: 32px;\n",
              "      padding: 0 0 0 0;\n",
              "      width: 32px;\n",
              "    }\n",
              "\n",
              "    .colab-df-convert:hover {\n",
              "      background-color: #E2EBFA;\n",
              "      box-shadow: 0px 1px 2px rgba(60, 64, 67, 0.3), 0px 1px 3px 1px rgba(60, 64, 67, 0.15);\n",
              "      fill: #174EA6;\n",
              "    }\n",
              "\n",
              "    .colab-df-buttons div {\n",
              "      margin-bottom: 4px;\n",
              "    }\n",
              "\n",
              "    [theme=dark] .colab-df-convert {\n",
              "      background-color: #3B4455;\n",
              "      fill: #D2E3FC;\n",
              "    }\n",
              "\n",
              "    [theme=dark] .colab-df-convert:hover {\n",
              "      background-color: #434B5C;\n",
              "      box-shadow: 0px 1px 3px 1px rgba(0, 0, 0, 0.15);\n",
              "      filter: drop-shadow(0px 1px 2px rgba(0, 0, 0, 0.3));\n",
              "      fill: #FFFFFF;\n",
              "    }\n",
              "  </style>\n",
              "\n",
              "    <script>\n",
              "      const buttonEl =\n",
              "        document.querySelector('#df-3a844cb3-e71b-4caf-be1a-2895e1ed2a7a button.colab-df-convert');\n",
              "      buttonEl.style.display =\n",
              "        google.colab.kernel.accessAllowed ? 'block' : 'none';\n",
              "\n",
              "      async function convertToInteractive(key) {\n",
              "        const element = document.querySelector('#df-3a844cb3-e71b-4caf-be1a-2895e1ed2a7a');\n",
              "        const dataTable =\n",
              "          await google.colab.kernel.invokeFunction('convertToInteractive',\n",
              "                                                    [key], {});\n",
              "        if (!dataTable) return;\n",
              "\n",
              "        const docLinkHtml = 'Like what you see? Visit the ' +\n",
              "          '<a target=\"_blank\" href=https://colab.research.google.com/notebooks/data_table.ipynb>data table notebook</a>'\n",
              "          + ' to learn more about interactive tables.';\n",
              "        element.innerHTML = '';\n",
              "        dataTable['output_type'] = 'display_data';\n",
              "        await google.colab.output.renderOutput(dataTable, element);\n",
              "        const docLink = document.createElement('div');\n",
              "        docLink.innerHTML = docLinkHtml;\n",
              "        element.appendChild(docLink);\n",
              "      }\n",
              "    </script>\n",
              "  </div>\n",
              "\n",
              "\n",
              "    <div id=\"df-40fece00-d31b-42fc-8f34-d22f4b97be5e\">\n",
              "      <button class=\"colab-df-quickchart\" onclick=\"quickchart('df-40fece00-d31b-42fc-8f34-d22f4b97be5e')\"\n",
              "                title=\"Suggest charts\"\n",
              "                style=\"display:none;\">\n",
              "\n",
              "<svg xmlns=\"http://www.w3.org/2000/svg\" height=\"24px\"viewBox=\"0 0 24 24\"\n",
              "     width=\"24px\">\n",
              "    <g>\n",
              "        <path d=\"M19 3H5c-1.1 0-2 .9-2 2v14c0 1.1.9 2 2 2h14c1.1 0 2-.9 2-2V5c0-1.1-.9-2-2-2zM9 17H7v-7h2v7zm4 0h-2V7h2v10zm4 0h-2v-4h2v4z\"/>\n",
              "    </g>\n",
              "</svg>\n",
              "      </button>\n",
              "\n",
              "<style>\n",
              "  .colab-df-quickchart {\n",
              "      --bg-color: #E8F0FE;\n",
              "      --fill-color: #1967D2;\n",
              "      --hover-bg-color: #E2EBFA;\n",
              "      --hover-fill-color: #174EA6;\n",
              "      --disabled-fill-color: #AAA;\n",
              "      --disabled-bg-color: #DDD;\n",
              "  }\n",
              "\n",
              "  [theme=dark] .colab-df-quickchart {\n",
              "      --bg-color: #3B4455;\n",
              "      --fill-color: #D2E3FC;\n",
              "      --hover-bg-color: #434B5C;\n",
              "      --hover-fill-color: #FFFFFF;\n",
              "      --disabled-bg-color: #3B4455;\n",
              "      --disabled-fill-color: #666;\n",
              "  }\n",
              "\n",
              "  .colab-df-quickchart {\n",
              "    background-color: var(--bg-color);\n",
              "    border: none;\n",
              "    border-radius: 50%;\n",
              "    cursor: pointer;\n",
              "    display: none;\n",
              "    fill: var(--fill-color);\n",
              "    height: 32px;\n",
              "    padding: 0;\n",
              "    width: 32px;\n",
              "  }\n",
              "\n",
              "  .colab-df-quickchart:hover {\n",
              "    background-color: var(--hover-bg-color);\n",
              "    box-shadow: 0 1px 2px rgba(60, 64, 67, 0.3), 0 1px 3px 1px rgba(60, 64, 67, 0.15);\n",
              "    fill: var(--button-hover-fill-color);\n",
              "  }\n",
              "\n",
              "  .colab-df-quickchart-complete:disabled,\n",
              "  .colab-df-quickchart-complete:disabled:hover {\n",
              "    background-color: var(--disabled-bg-color);\n",
              "    fill: var(--disabled-fill-color);\n",
              "    box-shadow: none;\n",
              "  }\n",
              "\n",
              "  .colab-df-spinner {\n",
              "    border: 2px solid var(--fill-color);\n",
              "    border-color: transparent;\n",
              "    border-bottom-color: var(--fill-color);\n",
              "    animation:\n",
              "      spin 1s steps(1) infinite;\n",
              "  }\n",
              "\n",
              "  @keyframes spin {\n",
              "    0% {\n",
              "      border-color: transparent;\n",
              "      border-bottom-color: var(--fill-color);\n",
              "      border-left-color: var(--fill-color);\n",
              "    }\n",
              "    20% {\n",
              "      border-color: transparent;\n",
              "      border-left-color: var(--fill-color);\n",
              "      border-top-color: var(--fill-color);\n",
              "    }\n",
              "    30% {\n",
              "      border-color: transparent;\n",
              "      border-left-color: var(--fill-color);\n",
              "      border-top-color: var(--fill-color);\n",
              "      border-right-color: var(--fill-color);\n",
              "    }\n",
              "    40% {\n",
              "      border-color: transparent;\n",
              "      border-right-color: var(--fill-color);\n",
              "      border-top-color: var(--fill-color);\n",
              "    }\n",
              "    60% {\n",
              "      border-color: transparent;\n",
              "      border-right-color: var(--fill-color);\n",
              "    }\n",
              "    80% {\n",
              "      border-color: transparent;\n",
              "      border-right-color: var(--fill-color);\n",
              "      border-bottom-color: var(--fill-color);\n",
              "    }\n",
              "    90% {\n",
              "      border-color: transparent;\n",
              "      border-bottom-color: var(--fill-color);\n",
              "    }\n",
              "  }\n",
              "</style>\n",
              "\n",
              "      <script>\n",
              "        async function quickchart(key) {\n",
              "          const quickchartButtonEl =\n",
              "            document.querySelector('#' + key + ' button');\n",
              "          quickchartButtonEl.disabled = true;  // To prevent multiple clicks.\n",
              "          quickchartButtonEl.classList.add('colab-df-spinner');\n",
              "          try {\n",
              "            const charts = await google.colab.kernel.invokeFunction(\n",
              "                'suggestCharts', [key], {});\n",
              "          } catch (error) {\n",
              "            console.error('Error during call to suggestCharts:', error);\n",
              "          }\n",
              "          quickchartButtonEl.classList.remove('colab-df-spinner');\n",
              "          quickchartButtonEl.classList.add('colab-df-quickchart-complete');\n",
              "        }\n",
              "        (() => {\n",
              "          let quickchartButtonEl =\n",
              "            document.querySelector('#df-40fece00-d31b-42fc-8f34-d22f4b97be5e button');\n",
              "          quickchartButtonEl.style.display =\n",
              "            google.colab.kernel.accessAllowed ? 'block' : 'none';\n",
              "        })();\n",
              "      </script>\n",
              "    </div>\n",
              "\n",
              "    </div>\n",
              "  </div>\n"
            ],
            "application/vnd.google.colaboratory.intrinsic+json": {
              "type": "dataframe",
              "variable_name": "df_TrainTestSplit",
              "summary": "{\n  \"name\": \"df_TrainTestSplit\",\n  \"rows\": 1898,\n  \"fields\": [\n    {\n      \"column\": \"cost_of_the_order\",\n      \"properties\": {\n        \"dtype\": \"number\",\n        \"std\": 7.492297839920483,\n        \"min\": 0.0,\n        \"max\": 35.41,\n        \"num_unique_values\": 313,\n        \"samples\": [\n          6.79,\n          7.18,\n          15.71\n        ],\n        \"semantic_type\": \"\",\n        \"description\": \"\"\n      }\n    },\n    {\n      \"column\": \"food_preparation_time\",\n      \"properties\": {\n        \"dtype\": \"number\",\n        \"std\": 4.631767641835984,\n        \"min\": 20.0,\n        \"max\": 35.0,\n        \"num_unique_values\": 17,\n        \"samples\": [\n          25.0,\n          23.0,\n          21.0\n        ],\n        \"semantic_type\": \"\",\n        \"description\": \"\"\n      }\n    },\n    {\n      \"column\": \"delivery_time\",\n      \"properties\": {\n        \"dtype\": \"number\",\n        \"std\": 4,\n        \"min\": 15,\n        \"max\": 33,\n        \"num_unique_values\": 19,\n        \"samples\": [\n          20,\n          30,\n          16\n        ],\n        \"semantic_type\": \"\",\n        \"description\": \"\"\n      }\n    },\n    {\n      \"column\": \"cuisine_type\",\n      \"properties\": {\n        \"dtype\": \"number\",\n        \"std\": 2,\n        \"min\": 0,\n        \"max\": 13,\n        \"num_unique_values\": 14,\n        \"samples\": [\n          12,\n          2,\n          6\n        ],\n        \"semantic_type\": \"\",\n        \"description\": \"\"\n      }\n    },\n    {\n      \"column\": \"rating\",\n      \"properties\": {\n        \"dtype\": \"category\",\n        \"num_unique_values\": 4,\n        \"samples\": [\n          \"5\",\n          \"4\",\n          \"Not given\"\n        ],\n        \"semantic_type\": \"\",\n        \"description\": \"\"\n      }\n    },\n    {\n      \"column\": \"day_of_the_week_Weekday\",\n      \"properties\": {\n        \"dtype\": \"number\",\n        \"std\": 0,\n        \"min\": 0,\n        \"max\": 1,\n        \"num_unique_values\": 2,\n        \"samples\": [\n          1,\n          0\n        ],\n        \"semantic_type\": \"\",\n        \"description\": \"\"\n      }\n    },\n    {\n      \"column\": \"day_of_the_week_Weekend\",\n      \"properties\": {\n        \"dtype\": \"number\",\n        \"std\": 0,\n        \"min\": 0,\n        \"max\": 1,\n        \"num_unique_values\": 2,\n        \"samples\": [\n          0,\n          1\n        ],\n        \"semantic_type\": \"\",\n        \"description\": \"\"\n      }\n    }\n  ]\n}"
            }
          },
          "metadata": {},
          "execution_count": 182
        }
      ]
    },
    {
      "cell_type": "code",
      "source": [
        "df_TrainTestSplit= pd.read_csv('df1_encoded')"
      ],
      "metadata": {
        "colab": {
          "base_uri": "https://localhost:8080/",
          "height": 319
        },
        "id": "-py_jTnGFGEn",
        "outputId": "515ebfa0-d0cd-446d-dbc3-6c52f6a31fcf"
      },
      "id": "-py_jTnGFGEn",
      "execution_count": null,
      "outputs": [
        {
          "output_type": "error",
          "ename": "FileNotFoundError",
          "evalue": "[Errno 2] No such file or directory: 'df1_encoded'",
          "traceback": [
            "\u001b[0;31m---------------------------------------------------------------------------\u001b[0m",
            "\u001b[0;31mFileNotFoundError\u001b[0m                         Traceback (most recent call last)",
            "\u001b[0;32m/tmp/ipython-input-185-1420126341.py\u001b[0m in \u001b[0;36m<cell line: 0>\u001b[0;34m()\u001b[0m\n\u001b[0;32m----> 1\u001b[0;31m \u001b[0mdf_TrainTestSplit\u001b[0m\u001b[0;34m=\u001b[0m \u001b[0mpd\u001b[0m\u001b[0;34m.\u001b[0m\u001b[0mread_csv\u001b[0m\u001b[0;34m(\u001b[0m\u001b[0;34m'df1_encoded'\u001b[0m\u001b[0;34m)\u001b[0m\u001b[0;34m\u001b[0m\u001b[0;34m\u001b[0m\u001b[0m\n\u001b[0m",
            "\u001b[0;32m/usr/local/lib/python3.11/dist-packages/pandas/io/parsers/readers.py\u001b[0m in \u001b[0;36mread_csv\u001b[0;34m(filepath_or_buffer, sep, delimiter, header, names, index_col, usecols, dtype, engine, converters, true_values, false_values, skipinitialspace, skiprows, skipfooter, nrows, na_values, keep_default_na, na_filter, verbose, skip_blank_lines, parse_dates, infer_datetime_format, keep_date_col, date_parser, date_format, dayfirst, cache_dates, iterator, chunksize, compression, thousands, decimal, lineterminator, quotechar, quoting, doublequote, escapechar, comment, encoding, encoding_errors, dialect, on_bad_lines, delim_whitespace, low_memory, memory_map, float_precision, storage_options, dtype_backend)\u001b[0m\n\u001b[1;32m   1024\u001b[0m     \u001b[0mkwds\u001b[0m\u001b[0;34m.\u001b[0m\u001b[0mupdate\u001b[0m\u001b[0;34m(\u001b[0m\u001b[0mkwds_defaults\u001b[0m\u001b[0;34m)\u001b[0m\u001b[0;34m\u001b[0m\u001b[0;34m\u001b[0m\u001b[0m\n\u001b[1;32m   1025\u001b[0m \u001b[0;34m\u001b[0m\u001b[0m\n\u001b[0;32m-> 1026\u001b[0;31m     \u001b[0;32mreturn\u001b[0m \u001b[0m_read\u001b[0m\u001b[0;34m(\u001b[0m\u001b[0mfilepath_or_buffer\u001b[0m\u001b[0;34m,\u001b[0m \u001b[0mkwds\u001b[0m\u001b[0;34m)\u001b[0m\u001b[0;34m\u001b[0m\u001b[0;34m\u001b[0m\u001b[0m\n\u001b[0m\u001b[1;32m   1027\u001b[0m \u001b[0;34m\u001b[0m\u001b[0m\n\u001b[1;32m   1028\u001b[0m \u001b[0;34m\u001b[0m\u001b[0m\n",
            "\u001b[0;32m/usr/local/lib/python3.11/dist-packages/pandas/io/parsers/readers.py\u001b[0m in \u001b[0;36m_read\u001b[0;34m(filepath_or_buffer, kwds)\u001b[0m\n\u001b[1;32m    618\u001b[0m \u001b[0;34m\u001b[0m\u001b[0m\n\u001b[1;32m    619\u001b[0m     \u001b[0;31m# Create the parser.\u001b[0m\u001b[0;34m\u001b[0m\u001b[0;34m\u001b[0m\u001b[0m\n\u001b[0;32m--> 620\u001b[0;31m     \u001b[0mparser\u001b[0m \u001b[0;34m=\u001b[0m \u001b[0mTextFileReader\u001b[0m\u001b[0;34m(\u001b[0m\u001b[0mfilepath_or_buffer\u001b[0m\u001b[0;34m,\u001b[0m \u001b[0;34m**\u001b[0m\u001b[0mkwds\u001b[0m\u001b[0;34m)\u001b[0m\u001b[0;34m\u001b[0m\u001b[0;34m\u001b[0m\u001b[0m\n\u001b[0m\u001b[1;32m    621\u001b[0m \u001b[0;34m\u001b[0m\u001b[0m\n\u001b[1;32m    622\u001b[0m     \u001b[0;32mif\u001b[0m \u001b[0mchunksize\u001b[0m \u001b[0;32mor\u001b[0m \u001b[0miterator\u001b[0m\u001b[0;34m:\u001b[0m\u001b[0;34m\u001b[0m\u001b[0;34m\u001b[0m\u001b[0m\n",
            "\u001b[0;32m/usr/local/lib/python3.11/dist-packages/pandas/io/parsers/readers.py\u001b[0m in \u001b[0;36m__init__\u001b[0;34m(self, f, engine, **kwds)\u001b[0m\n\u001b[1;32m   1618\u001b[0m \u001b[0;34m\u001b[0m\u001b[0m\n\u001b[1;32m   1619\u001b[0m         \u001b[0mself\u001b[0m\u001b[0;34m.\u001b[0m\u001b[0mhandles\u001b[0m\u001b[0;34m:\u001b[0m \u001b[0mIOHandles\u001b[0m \u001b[0;34m|\u001b[0m \u001b[0;32mNone\u001b[0m \u001b[0;34m=\u001b[0m \u001b[0;32mNone\u001b[0m\u001b[0;34m\u001b[0m\u001b[0;34m\u001b[0m\u001b[0m\n\u001b[0;32m-> 1620\u001b[0;31m         \u001b[0mself\u001b[0m\u001b[0;34m.\u001b[0m\u001b[0m_engine\u001b[0m \u001b[0;34m=\u001b[0m \u001b[0mself\u001b[0m\u001b[0;34m.\u001b[0m\u001b[0m_make_engine\u001b[0m\u001b[0;34m(\u001b[0m\u001b[0mf\u001b[0m\u001b[0;34m,\u001b[0m \u001b[0mself\u001b[0m\u001b[0;34m.\u001b[0m\u001b[0mengine\u001b[0m\u001b[0;34m)\u001b[0m\u001b[0;34m\u001b[0m\u001b[0;34m\u001b[0m\u001b[0m\n\u001b[0m\u001b[1;32m   1621\u001b[0m \u001b[0;34m\u001b[0m\u001b[0m\n\u001b[1;32m   1622\u001b[0m     \u001b[0;32mdef\u001b[0m \u001b[0mclose\u001b[0m\u001b[0;34m(\u001b[0m\u001b[0mself\u001b[0m\u001b[0;34m)\u001b[0m \u001b[0;34m->\u001b[0m \u001b[0;32mNone\u001b[0m\u001b[0;34m:\u001b[0m\u001b[0;34m\u001b[0m\u001b[0;34m\u001b[0m\u001b[0m\n",
            "\u001b[0;32m/usr/local/lib/python3.11/dist-packages/pandas/io/parsers/readers.py\u001b[0m in \u001b[0;36m_make_engine\u001b[0;34m(self, f, engine)\u001b[0m\n\u001b[1;32m   1878\u001b[0m                 \u001b[0;32mif\u001b[0m \u001b[0;34m\"b\"\u001b[0m \u001b[0;32mnot\u001b[0m \u001b[0;32min\u001b[0m \u001b[0mmode\u001b[0m\u001b[0;34m:\u001b[0m\u001b[0;34m\u001b[0m\u001b[0;34m\u001b[0m\u001b[0m\n\u001b[1;32m   1879\u001b[0m                     \u001b[0mmode\u001b[0m \u001b[0;34m+=\u001b[0m \u001b[0;34m\"b\"\u001b[0m\u001b[0;34m\u001b[0m\u001b[0;34m\u001b[0m\u001b[0m\n\u001b[0;32m-> 1880\u001b[0;31m             self.handles = get_handle(\n\u001b[0m\u001b[1;32m   1881\u001b[0m                 \u001b[0mf\u001b[0m\u001b[0;34m,\u001b[0m\u001b[0;34m\u001b[0m\u001b[0;34m\u001b[0m\u001b[0m\n\u001b[1;32m   1882\u001b[0m                 \u001b[0mmode\u001b[0m\u001b[0;34m,\u001b[0m\u001b[0;34m\u001b[0m\u001b[0;34m\u001b[0m\u001b[0m\n",
            "\u001b[0;32m/usr/local/lib/python3.11/dist-packages/pandas/io/common.py\u001b[0m in \u001b[0;36mget_handle\u001b[0;34m(path_or_buf, mode, encoding, compression, memory_map, is_text, errors, storage_options)\u001b[0m\n\u001b[1;32m    871\u001b[0m         \u001b[0;32mif\u001b[0m \u001b[0mioargs\u001b[0m\u001b[0;34m.\u001b[0m\u001b[0mencoding\u001b[0m \u001b[0;32mand\u001b[0m \u001b[0;34m\"b\"\u001b[0m \u001b[0;32mnot\u001b[0m \u001b[0;32min\u001b[0m \u001b[0mioargs\u001b[0m\u001b[0;34m.\u001b[0m\u001b[0mmode\u001b[0m\u001b[0;34m:\u001b[0m\u001b[0;34m\u001b[0m\u001b[0;34m\u001b[0m\u001b[0m\n\u001b[1;32m    872\u001b[0m             \u001b[0;31m# Encoding\u001b[0m\u001b[0;34m\u001b[0m\u001b[0;34m\u001b[0m\u001b[0m\n\u001b[0;32m--> 873\u001b[0;31m             handle = open(\n\u001b[0m\u001b[1;32m    874\u001b[0m                 \u001b[0mhandle\u001b[0m\u001b[0;34m,\u001b[0m\u001b[0;34m\u001b[0m\u001b[0;34m\u001b[0m\u001b[0m\n\u001b[1;32m    875\u001b[0m                 \u001b[0mioargs\u001b[0m\u001b[0;34m.\u001b[0m\u001b[0mmode\u001b[0m\u001b[0;34m,\u001b[0m\u001b[0;34m\u001b[0m\u001b[0;34m\u001b[0m\u001b[0m\n",
            "\u001b[0;31mFileNotFoundError\u001b[0m: [Errno 2] No such file or directory: 'df1_encoded'"
          ]
        }
      ]
    },
    {
      "cell_type": "code",
      "source": [],
      "metadata": {
        "id": "sjg8a5urFGBt"
      },
      "id": "sjg8a5urFGBt",
      "execution_count": null,
      "outputs": []
    },
    {
      "cell_type": "code",
      "source": [],
      "metadata": {
        "id": "-uSmzkSJFF_w"
      },
      "id": "-uSmzkSJFF_w",
      "execution_count": null,
      "outputs": []
    },
    {
      "cell_type": "code",
      "source": [],
      "metadata": {
        "id": "jlM2_KD-FF9N"
      },
      "id": "jlM2_KD-FF9N",
      "execution_count": null,
      "outputs": []
    },
    {
      "cell_type": "code",
      "source": [],
      "metadata": {
        "id": "2oWMd9iVFF6o"
      },
      "id": "2oWMd9iVFF6o",
      "execution_count": null,
      "outputs": []
    },
    {
      "cell_type": "code",
      "source": [],
      "metadata": {
        "id": "6O3tcg04FF4W"
      },
      "id": "6O3tcg04FF4W",
      "execution_count": null,
      "outputs": []
    },
    {
      "cell_type": "code",
      "source": [],
      "metadata": {
        "id": "p8DrDZ-xEkMC"
      },
      "id": "p8DrDZ-xEkMC",
      "execution_count": null,
      "outputs": []
    },
    {
      "cell_type": "code",
      "source": [
        "# loading the encoded data\n",
        "df_TrainTestSplit= pd.read_csv('df1_encoded_classification')\n",
        "\n",
        "#seperating the target variable from rest of the data\n",
        "X = df_TrainTestSplit.drop(['rating'], axis=1)\n",
        "y = df_TrainTestSplit['rating']\n",
        "\n",
        "# Splitting the data into train & validation set\n",
        "X_train, X_val, y_train, y_val = train_test_split(X, y,test_size=0.2,random_state=20)\n",
        "\n",
        "cat_cols=['cuisine_type','day_of_the_week_Weekday', 'day_of_the_week_Weekend']\n",
        "num_cols= ['cost_of_the_order', 'food_preparation_time','delivery_time']\n",
        "\n",
        "from sklearn.preprocessing import StandardScaler\n",
        "SSscaler = StandardScaler()\n",
        "Xtrain_scaled_StandardScalar = SSscaler.fit_transform(X_train[num_cols])\n",
        "Xval_scaled_StandardScalar = SSscaler.transform(X_val[num_cols])\n",
        "\n",
        "Xtrain_scaled_StandardScalar=pd.DataFrame(Xtrain_scaled_StandardScalar,columns=X_train[num_cols].columns)\n",
        "Xval_scaled_StandardScalar=pd.DataFrame(Xval_scaled_StandardScalar,columns=X_val[num_cols].columns)\n",
        "\n",
        "scaled_train=pd.concat([Xtrain_scaled_StandardScalar,X_train[cat_cols].reset_index(drop=True)],axis=1)\n",
        "scaled_val=pd.concat([Xval_scaled_StandardScalar,X_val[cat_cols].reset_index(drop=True)],axis=1)"
      ],
      "metadata": {
        "id": "8dhzbZrJAte3"
      },
      "id": "8dhzbZrJAte3",
      "execution_count": null,
      "outputs": []
    },
    {
      "cell_type": "code",
      "source": [
        "gb= GradientBoostingClassifier()\n",
        "gb.fit(scaled_train,y_train)\n",
        "pred_train= gb.predict(scaled_train)\n",
        "pred_val= gb.predict(scaled_val)\n",
        "print(\"Classification report for Train Dataset\")\n",
        "print(classification_report(y_train, pred_train))\n",
        "print(\"-------------------------------------------------\")\n",
        "print(\"Classification report for Test Dataset\")\n",
        "print(classification_report(y_val, pred_val))"
      ],
      "metadata": {
        "colab": {
          "base_uri": "https://localhost:8080/"
        },
        "id": "idUHQrLlp26S",
        "outputId": "16ee81ac-02f0-4877-f607-2573049e59b1"
      },
      "id": "idUHQrLlp26S",
      "execution_count": null,
      "outputs": [
        {
          "output_type": "stream",
          "name": "stdout",
          "text": [
            "Classification report for Train Dataset\n",
            "              precision    recall  f1-score   support\n",
            "\n",
            "           3       1.00      0.22      0.36       152\n",
            "           4       0.82      0.25      0.38       328\n",
            "           5       0.58      0.55      0.57       461\n",
            "   Not given       0.52      0.86      0.65       577\n",
            "\n",
            "    accuracy                           0.57      1518\n",
            "   macro avg       0.73      0.47      0.49      1518\n",
            "weighted avg       0.65      0.57      0.54      1518\n",
            "\n",
            "-------------------------------------------------\n",
            "Classification report for Test Dataset\n",
            "              precision    recall  f1-score   support\n",
            "\n",
            "           3       0.00      0.00      0.00        36\n",
            "           4       0.11      0.03      0.05        58\n",
            "           5       0.25      0.24      0.25       127\n",
            "   Not given       0.38      0.55      0.45       159\n",
            "\n",
            "    accuracy                           0.32       380\n",
            "   macro avg       0.19      0.21      0.19       380\n",
            "weighted avg       0.26      0.32      0.28       380\n",
            "\n"
          ]
        }
      ]
    },
    {
      "cell_type": "code",
      "source": [],
      "metadata": {
        "id": "7h0u2K9Wp23y"
      },
      "id": "7h0u2K9Wp23y",
      "execution_count": null,
      "outputs": []
    }
  ],
  "metadata": {
    "colab": {
      "provenance": []
    },
    "kernelspec": {
      "display_name": "Python [conda env:base] *",
      "language": "python",
      "name": "conda-base-py"
    },
    "language_info": {
      "codemirror_mode": {
        "name": "ipython",
        "version": 3
      },
      "file_extension": ".py",
      "mimetype": "text/x-python",
      "name": "python",
      "nbconvert_exporter": "python",
      "pygments_lexer": "ipython3",
      "version": "3.12.7"
    }
  },
  "nbformat": 4,
  "nbformat_minor": 5
}